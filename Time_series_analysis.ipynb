{
  "nbformat": 4,
  "nbformat_minor": 0,
  "metadata": {
    "colab": {
      "provenance": [],
      "authorship_tag": "ABX9TyNfYqDomEPHzbznbCQCa8Wv",
      "include_colab_link": true
    },
    "kernelspec": {
      "name": "python3",
      "display_name": "Python 3"
    },
    "language_info": {
      "name": "python"
    }
  },
  "cells": [
    {
      "cell_type": "markdown",
      "metadata": {
        "id": "view-in-github",
        "colab_type": "text"
      },
      "source": [
        "<a href=\"https://colab.research.google.com/github/saivenkatreddy29/TensorFlow-Learning/blob/main/Time_series_analysis.ipynb\" target=\"_parent\"><img src=\"https://colab.research.google.com/assets/colab-badge.svg\" alt=\"Open In Colab\"/></a>"
      ]
    },
    {
      "cell_type": "code",
      "execution_count": 38,
      "metadata": {
        "colab": {
          "base_uri": "https://localhost:8080/"
        },
        "id": "soITGwnFff9u",
        "outputId": "b39a2a91-d7dc-44be-9976-b8dfdc5ea51c"
      },
      "outputs": [
        {
          "output_type": "stream",
          "name": "stdout",
          "text": [
            "--2024-08-12 21:18:23--  https://raw.githubusercontent.com/mrdbourke/tensorflow-deep-learning/main/extras/BTC_USD_2013-10-01_2021-05-18-CoinDesk.csv\n",
            "Resolving raw.githubusercontent.com (raw.githubusercontent.com)... 185.199.109.133, 185.199.108.133, 185.199.111.133, ...\n",
            "Connecting to raw.githubusercontent.com (raw.githubusercontent.com)|185.199.109.133|:443... connected.\n",
            "HTTP request sent, awaiting response... 200 OK\n",
            "Length: 178509 (174K) [text/plain]\n",
            "Saving to: ‘BTC_USD_2013-10-01_2021-05-18-CoinDesk.csv.1’\n",
            "\n",
            "\r          BTC_USD_2   0%[                    ]       0  --.-KB/s               \rBTC_USD_2013-10-01_ 100%[===================>] 174.33K  --.-KB/s    in 0.04s   \n",
            "\n",
            "2024-08-12 21:18:23 (4.77 MB/s) - ‘BTC_USD_2013-10-01_2021-05-18-CoinDesk.csv.1’ saved [178509/178509]\n",
            "\n"
          ]
        }
      ],
      "source": [
        "!wget https://raw.githubusercontent.com/mrdbourke/tensorflow-deep-learning/main/extras/BTC_USD_2013-10-01_2021-05-18-CoinDesk.csv\n"
      ]
    },
    {
      "cell_type": "code",
      "source": [
        "import pandas as pd\n",
        "import numpy as np\n",
        "import tensorflow as tf\n",
        "import matplotlib.pyplot as plt"
      ],
      "metadata": {
        "id": "nPvBgHqQfsdE"
      },
      "execution_count": 39,
      "outputs": []
    },
    {
      "cell_type": "code",
      "source": [
        "df = pd.read_csv('/content/BTC_USD_2013-10-01_2021-05-18-CoinDesk.csv', index_col = 'Date', parse_dates=['Date'])"
      ],
      "metadata": {
        "id": "tZXg625kf6qF"
      },
      "execution_count": 40,
      "outputs": []
    },
    {
      "cell_type": "code",
      "source": [
        "df.head()"
      ],
      "metadata": {
        "colab": {
          "base_uri": "https://localhost:8080/",
          "height": 237
        },
        "id": "hZGprveSf_13",
        "outputId": "3a67b504-5bc4-4dd3-afc3-6c66281da3df"
      },
      "execution_count": 41,
      "outputs": [
        {
          "output_type": "execute_result",
          "data": {
            "text/plain": [
              "           Currency  Closing Price (USD)  24h Open (USD)  24h High (USD)  \\\n",
              "Date                                                                       \n",
              "2013-10-01      BTC            123.65499       124.30466       124.75166   \n",
              "2013-10-02      BTC            125.45500       123.65499       125.75850   \n",
              "2013-10-03      BTC            108.58483       125.45500       125.66566   \n",
              "2013-10-04      BTC            118.67466       108.58483       118.67500   \n",
              "2013-10-05      BTC            121.33866       118.67466       121.93633   \n",
              "\n",
              "            24h Low (USD)  \n",
              "Date                       \n",
              "2013-10-01      122.56349  \n",
              "2013-10-02      123.63383  \n",
              "2013-10-03       83.32833  \n",
              "2013-10-04      107.05816  \n",
              "2013-10-05      118.00566  "
            ],
            "text/html": [
              "\n",
              "  <div id=\"df-4d3dada3-e412-4e90-b16c-02b85926c651\" class=\"colab-df-container\">\n",
              "    <div>\n",
              "<style scoped>\n",
              "    .dataframe tbody tr th:only-of-type {\n",
              "        vertical-align: middle;\n",
              "    }\n",
              "\n",
              "    .dataframe tbody tr th {\n",
              "        vertical-align: top;\n",
              "    }\n",
              "\n",
              "    .dataframe thead th {\n",
              "        text-align: right;\n",
              "    }\n",
              "</style>\n",
              "<table border=\"1\" class=\"dataframe\">\n",
              "  <thead>\n",
              "    <tr style=\"text-align: right;\">\n",
              "      <th></th>\n",
              "      <th>Currency</th>\n",
              "      <th>Closing Price (USD)</th>\n",
              "      <th>24h Open (USD)</th>\n",
              "      <th>24h High (USD)</th>\n",
              "      <th>24h Low (USD)</th>\n",
              "    </tr>\n",
              "    <tr>\n",
              "      <th>Date</th>\n",
              "      <th></th>\n",
              "      <th></th>\n",
              "      <th></th>\n",
              "      <th></th>\n",
              "      <th></th>\n",
              "    </tr>\n",
              "  </thead>\n",
              "  <tbody>\n",
              "    <tr>\n",
              "      <th>2013-10-01</th>\n",
              "      <td>BTC</td>\n",
              "      <td>123.65499</td>\n",
              "      <td>124.30466</td>\n",
              "      <td>124.75166</td>\n",
              "      <td>122.56349</td>\n",
              "    </tr>\n",
              "    <tr>\n",
              "      <th>2013-10-02</th>\n",
              "      <td>BTC</td>\n",
              "      <td>125.45500</td>\n",
              "      <td>123.65499</td>\n",
              "      <td>125.75850</td>\n",
              "      <td>123.63383</td>\n",
              "    </tr>\n",
              "    <tr>\n",
              "      <th>2013-10-03</th>\n",
              "      <td>BTC</td>\n",
              "      <td>108.58483</td>\n",
              "      <td>125.45500</td>\n",
              "      <td>125.66566</td>\n",
              "      <td>83.32833</td>\n",
              "    </tr>\n",
              "    <tr>\n",
              "      <th>2013-10-04</th>\n",
              "      <td>BTC</td>\n",
              "      <td>118.67466</td>\n",
              "      <td>108.58483</td>\n",
              "      <td>118.67500</td>\n",
              "      <td>107.05816</td>\n",
              "    </tr>\n",
              "    <tr>\n",
              "      <th>2013-10-05</th>\n",
              "      <td>BTC</td>\n",
              "      <td>121.33866</td>\n",
              "      <td>118.67466</td>\n",
              "      <td>121.93633</td>\n",
              "      <td>118.00566</td>\n",
              "    </tr>\n",
              "  </tbody>\n",
              "</table>\n",
              "</div>\n",
              "    <div class=\"colab-df-buttons\">\n",
              "\n",
              "  <div class=\"colab-df-container\">\n",
              "    <button class=\"colab-df-convert\" onclick=\"convertToInteractive('df-4d3dada3-e412-4e90-b16c-02b85926c651')\"\n",
              "            title=\"Convert this dataframe to an interactive table.\"\n",
              "            style=\"display:none;\">\n",
              "\n",
              "  <svg xmlns=\"http://www.w3.org/2000/svg\" height=\"24px\" viewBox=\"0 -960 960 960\">\n",
              "    <path d=\"M120-120v-720h720v720H120Zm60-500h600v-160H180v160Zm220 220h160v-160H400v160Zm0 220h160v-160H400v160ZM180-400h160v-160H180v160Zm440 0h160v-160H620v160ZM180-180h160v-160H180v160Zm440 0h160v-160H620v160Z\"/>\n",
              "  </svg>\n",
              "    </button>\n",
              "\n",
              "  <style>\n",
              "    .colab-df-container {\n",
              "      display:flex;\n",
              "      gap: 12px;\n",
              "    }\n",
              "\n",
              "    .colab-df-convert {\n",
              "      background-color: #E8F0FE;\n",
              "      border: none;\n",
              "      border-radius: 50%;\n",
              "      cursor: pointer;\n",
              "      display: none;\n",
              "      fill: #1967D2;\n",
              "      height: 32px;\n",
              "      padding: 0 0 0 0;\n",
              "      width: 32px;\n",
              "    }\n",
              "\n",
              "    .colab-df-convert:hover {\n",
              "      background-color: #E2EBFA;\n",
              "      box-shadow: 0px 1px 2px rgba(60, 64, 67, 0.3), 0px 1px 3px 1px rgba(60, 64, 67, 0.15);\n",
              "      fill: #174EA6;\n",
              "    }\n",
              "\n",
              "    .colab-df-buttons div {\n",
              "      margin-bottom: 4px;\n",
              "    }\n",
              "\n",
              "    [theme=dark] .colab-df-convert {\n",
              "      background-color: #3B4455;\n",
              "      fill: #D2E3FC;\n",
              "    }\n",
              "\n",
              "    [theme=dark] .colab-df-convert:hover {\n",
              "      background-color: #434B5C;\n",
              "      box-shadow: 0px 1px 3px 1px rgba(0, 0, 0, 0.15);\n",
              "      filter: drop-shadow(0px 1px 2px rgba(0, 0, 0, 0.3));\n",
              "      fill: #FFFFFF;\n",
              "    }\n",
              "  </style>\n",
              "\n",
              "    <script>\n",
              "      const buttonEl =\n",
              "        document.querySelector('#df-4d3dada3-e412-4e90-b16c-02b85926c651 button.colab-df-convert');\n",
              "      buttonEl.style.display =\n",
              "        google.colab.kernel.accessAllowed ? 'block' : 'none';\n",
              "\n",
              "      async function convertToInteractive(key) {\n",
              "        const element = document.querySelector('#df-4d3dada3-e412-4e90-b16c-02b85926c651');\n",
              "        const dataTable =\n",
              "          await google.colab.kernel.invokeFunction('convertToInteractive',\n",
              "                                                    [key], {});\n",
              "        if (!dataTable) return;\n",
              "\n",
              "        const docLinkHtml = 'Like what you see? Visit the ' +\n",
              "          '<a target=\"_blank\" href=https://colab.research.google.com/notebooks/data_table.ipynb>data table notebook</a>'\n",
              "          + ' to learn more about interactive tables.';\n",
              "        element.innerHTML = '';\n",
              "        dataTable['output_type'] = 'display_data';\n",
              "        await google.colab.output.renderOutput(dataTable, element);\n",
              "        const docLink = document.createElement('div');\n",
              "        docLink.innerHTML = docLinkHtml;\n",
              "        element.appendChild(docLink);\n",
              "      }\n",
              "    </script>\n",
              "  </div>\n",
              "\n",
              "\n",
              "<div id=\"df-170023fe-a265-4718-ad5b-0b6568c6d259\">\n",
              "  <button class=\"colab-df-quickchart\" onclick=\"quickchart('df-170023fe-a265-4718-ad5b-0b6568c6d259')\"\n",
              "            title=\"Suggest charts\"\n",
              "            style=\"display:none;\">\n",
              "\n",
              "<svg xmlns=\"http://www.w3.org/2000/svg\" height=\"24px\"viewBox=\"0 0 24 24\"\n",
              "     width=\"24px\">\n",
              "    <g>\n",
              "        <path d=\"M19 3H5c-1.1 0-2 .9-2 2v14c0 1.1.9 2 2 2h14c1.1 0 2-.9 2-2V5c0-1.1-.9-2-2-2zM9 17H7v-7h2v7zm4 0h-2V7h2v10zm4 0h-2v-4h2v4z\"/>\n",
              "    </g>\n",
              "</svg>\n",
              "  </button>\n",
              "\n",
              "<style>\n",
              "  .colab-df-quickchart {\n",
              "      --bg-color: #E8F0FE;\n",
              "      --fill-color: #1967D2;\n",
              "      --hover-bg-color: #E2EBFA;\n",
              "      --hover-fill-color: #174EA6;\n",
              "      --disabled-fill-color: #AAA;\n",
              "      --disabled-bg-color: #DDD;\n",
              "  }\n",
              "\n",
              "  [theme=dark] .colab-df-quickchart {\n",
              "      --bg-color: #3B4455;\n",
              "      --fill-color: #D2E3FC;\n",
              "      --hover-bg-color: #434B5C;\n",
              "      --hover-fill-color: #FFFFFF;\n",
              "      --disabled-bg-color: #3B4455;\n",
              "      --disabled-fill-color: #666;\n",
              "  }\n",
              "\n",
              "  .colab-df-quickchart {\n",
              "    background-color: var(--bg-color);\n",
              "    border: none;\n",
              "    border-radius: 50%;\n",
              "    cursor: pointer;\n",
              "    display: none;\n",
              "    fill: var(--fill-color);\n",
              "    height: 32px;\n",
              "    padding: 0;\n",
              "    width: 32px;\n",
              "  }\n",
              "\n",
              "  .colab-df-quickchart:hover {\n",
              "    background-color: var(--hover-bg-color);\n",
              "    box-shadow: 0 1px 2px rgba(60, 64, 67, 0.3), 0 1px 3px 1px rgba(60, 64, 67, 0.15);\n",
              "    fill: var(--button-hover-fill-color);\n",
              "  }\n",
              "\n",
              "  .colab-df-quickchart-complete:disabled,\n",
              "  .colab-df-quickchart-complete:disabled:hover {\n",
              "    background-color: var(--disabled-bg-color);\n",
              "    fill: var(--disabled-fill-color);\n",
              "    box-shadow: none;\n",
              "  }\n",
              "\n",
              "  .colab-df-spinner {\n",
              "    border: 2px solid var(--fill-color);\n",
              "    border-color: transparent;\n",
              "    border-bottom-color: var(--fill-color);\n",
              "    animation:\n",
              "      spin 1s steps(1) infinite;\n",
              "  }\n",
              "\n",
              "  @keyframes spin {\n",
              "    0% {\n",
              "      border-color: transparent;\n",
              "      border-bottom-color: var(--fill-color);\n",
              "      border-left-color: var(--fill-color);\n",
              "    }\n",
              "    20% {\n",
              "      border-color: transparent;\n",
              "      border-left-color: var(--fill-color);\n",
              "      border-top-color: var(--fill-color);\n",
              "    }\n",
              "    30% {\n",
              "      border-color: transparent;\n",
              "      border-left-color: var(--fill-color);\n",
              "      border-top-color: var(--fill-color);\n",
              "      border-right-color: var(--fill-color);\n",
              "    }\n",
              "    40% {\n",
              "      border-color: transparent;\n",
              "      border-right-color: var(--fill-color);\n",
              "      border-top-color: var(--fill-color);\n",
              "    }\n",
              "    60% {\n",
              "      border-color: transparent;\n",
              "      border-right-color: var(--fill-color);\n",
              "    }\n",
              "    80% {\n",
              "      border-color: transparent;\n",
              "      border-right-color: var(--fill-color);\n",
              "      border-bottom-color: var(--fill-color);\n",
              "    }\n",
              "    90% {\n",
              "      border-color: transparent;\n",
              "      border-bottom-color: var(--fill-color);\n",
              "    }\n",
              "  }\n",
              "</style>\n",
              "\n",
              "  <script>\n",
              "    async function quickchart(key) {\n",
              "      const quickchartButtonEl =\n",
              "        document.querySelector('#' + key + ' button');\n",
              "      quickchartButtonEl.disabled = true;  // To prevent multiple clicks.\n",
              "      quickchartButtonEl.classList.add('colab-df-spinner');\n",
              "      try {\n",
              "        const charts = await google.colab.kernel.invokeFunction(\n",
              "            'suggestCharts', [key], {});\n",
              "      } catch (error) {\n",
              "        console.error('Error during call to suggestCharts:', error);\n",
              "      }\n",
              "      quickchartButtonEl.classList.remove('colab-df-spinner');\n",
              "      quickchartButtonEl.classList.add('colab-df-quickchart-complete');\n",
              "    }\n",
              "    (() => {\n",
              "      let quickchartButtonEl =\n",
              "        document.querySelector('#df-170023fe-a265-4718-ad5b-0b6568c6d259 button');\n",
              "      quickchartButtonEl.style.display =\n",
              "        google.colab.kernel.accessAllowed ? 'block' : 'none';\n",
              "    })();\n",
              "  </script>\n",
              "</div>\n",
              "\n",
              "    </div>\n",
              "  </div>\n"
            ],
            "application/vnd.google.colaboratory.intrinsic+json": {
              "type": "dataframe",
              "variable_name": "df",
              "summary": "{\n  \"name\": \"df\",\n  \"rows\": 2787,\n  \"fields\": [\n    {\n      \"column\": \"Date\",\n      \"properties\": {\n        \"dtype\": \"date\",\n        \"min\": \"2013-10-01 00:00:00\",\n        \"max\": \"2021-05-18 00:00:00\",\n        \"num_unique_values\": 2787,\n        \"samples\": [\n          \"2019-06-11 00:00:00\",\n          \"2021-05-03 00:00:00\",\n          \"2017-10-05 00:00:00\"\n        ],\n        \"semantic_type\": \"\",\n        \"description\": \"\"\n      }\n    },\n    {\n      \"column\": \"Currency\",\n      \"properties\": {\n        \"dtype\": \"category\",\n        \"num_unique_values\": 1,\n        \"samples\": [\n          \"BTC\"\n        ],\n        \"semantic_type\": \"\",\n        \"description\": \"\"\n      }\n    },\n    {\n      \"column\": \"Closing Price (USD)\",\n      \"properties\": {\n        \"dtype\": \"number\",\n        \"std\": 10887.84744436952,\n        \"min\": 108.58483,\n        \"max\": 63346.7890351052,\n        \"num_unique_values\": 2787,\n        \"samples\": [\n          7954.0062377205\n        ],\n        \"semantic_type\": \"\",\n        \"description\": \"\"\n      }\n    },\n    {\n      \"column\": \"24h Open (USD)\",\n      \"properties\": {\n        \"dtype\": \"number\",\n        \"std\": 10863.80077212387,\n        \"min\": 108.58483,\n        \"max\": 63562.6735446382,\n        \"num_unique_values\": 2787,\n        \"samples\": [\n          7600.9225047785\n        ],\n        \"semantic_type\": \"\",\n        \"description\": \"\"\n      }\n    },\n    {\n      \"column\": \"24h High (USD)\",\n      \"properties\": {\n        \"dtype\": \"number\",\n        \"std\": 11206.779756254151,\n        \"min\": 118.675,\n        \"max\": 64801.787869525,\n        \"num_unique_values\": 2787,\n        \"samples\": [\n          8064.9001353225\n        ],\n        \"semantic_type\": \"\",\n        \"description\": \"\"\n      }\n    },\n    {\n      \"column\": \"24h Low (USD)\",\n      \"properties\": {\n        \"dtype\": \"number\",\n        \"std\": 10475.8112518284,\n        \"min\": 83.32833,\n        \"max\": 62094.6329143272,\n        \"num_unique_values\": 2785,\n        \"samples\": [\n          7714.610306452\n        ],\n        \"semantic_type\": \"\",\n        \"description\": \"\"\n      }\n    }\n  ]\n}"
            }
          },
          "metadata": {},
          "execution_count": 41
        }
      ]
    },
    {
      "cell_type": "code",
      "source": [
        "df.info()"
      ],
      "metadata": {
        "colab": {
          "base_uri": "https://localhost:8080/"
        },
        "id": "LHhc2c7vgA23",
        "outputId": "1476d35e-5c86-4fc5-95a9-2b13512b8b0a"
      },
      "execution_count": 42,
      "outputs": [
        {
          "output_type": "stream",
          "name": "stdout",
          "text": [
            "<class 'pandas.core.frame.DataFrame'>\n",
            "DatetimeIndex: 2787 entries, 2013-10-01 to 2021-05-18\n",
            "Data columns (total 5 columns):\n",
            " #   Column               Non-Null Count  Dtype  \n",
            "---  ------               --------------  -----  \n",
            " 0   Currency             2787 non-null   object \n",
            " 1   Closing Price (USD)  2787 non-null   float64\n",
            " 2   24h Open (USD)       2787 non-null   float64\n",
            " 3   24h High (USD)       2787 non-null   float64\n",
            " 4   24h Low (USD)        2787 non-null   float64\n",
            "dtypes: float64(4), object(1)\n",
            "memory usage: 130.6+ KB\n"
          ]
        }
      ]
    },
    {
      "cell_type": "code",
      "source": [
        "bitcoin_prices = df.rename( columns = {'Closing Price (USD)': 'Price'})['Price']"
      ],
      "metadata": {
        "id": "E49UFhawgEZ0"
      },
      "execution_count": 43,
      "outputs": []
    },
    {
      "cell_type": "code",
      "source": [
        "bitcoin_prices"
      ],
      "metadata": {
        "colab": {
          "base_uri": "https://localhost:8080/",
          "height": 489
        },
        "id": "tziE6OM_g2wA",
        "outputId": "c29f8d01-2088-4225-ca88-60d320aac8c7"
      },
      "execution_count": 44,
      "outputs": [
        {
          "output_type": "execute_result",
          "data": {
            "text/plain": [
              "Date\n",
              "2013-10-01      123.654990\n",
              "2013-10-02      125.455000\n",
              "2013-10-03      108.584830\n",
              "2013-10-04      118.674660\n",
              "2013-10-05      121.338660\n",
              "                  ...     \n",
              "2021-05-14    49764.132082\n",
              "2021-05-15    50032.693137\n",
              "2021-05-16    47885.625255\n",
              "2021-05-17    45604.615754\n",
              "2021-05-18    43144.471291\n",
              "Name: Price, Length: 2787, dtype: float64"
            ],
            "text/html": [
              "<div>\n",
              "<style scoped>\n",
              "    .dataframe tbody tr th:only-of-type {\n",
              "        vertical-align: middle;\n",
              "    }\n",
              "\n",
              "    .dataframe tbody tr th {\n",
              "        vertical-align: top;\n",
              "    }\n",
              "\n",
              "    .dataframe thead th {\n",
              "        text-align: right;\n",
              "    }\n",
              "</style>\n",
              "<table border=\"1\" class=\"dataframe\">\n",
              "  <thead>\n",
              "    <tr style=\"text-align: right;\">\n",
              "      <th></th>\n",
              "      <th>Price</th>\n",
              "    </tr>\n",
              "    <tr>\n",
              "      <th>Date</th>\n",
              "      <th></th>\n",
              "    </tr>\n",
              "  </thead>\n",
              "  <tbody>\n",
              "    <tr>\n",
              "      <th>2013-10-01</th>\n",
              "      <td>123.654990</td>\n",
              "    </tr>\n",
              "    <tr>\n",
              "      <th>2013-10-02</th>\n",
              "      <td>125.455000</td>\n",
              "    </tr>\n",
              "    <tr>\n",
              "      <th>2013-10-03</th>\n",
              "      <td>108.584830</td>\n",
              "    </tr>\n",
              "    <tr>\n",
              "      <th>2013-10-04</th>\n",
              "      <td>118.674660</td>\n",
              "    </tr>\n",
              "    <tr>\n",
              "      <th>2013-10-05</th>\n",
              "      <td>121.338660</td>\n",
              "    </tr>\n",
              "    <tr>\n",
              "      <th>...</th>\n",
              "      <td>...</td>\n",
              "    </tr>\n",
              "    <tr>\n",
              "      <th>2021-05-14</th>\n",
              "      <td>49764.132082</td>\n",
              "    </tr>\n",
              "    <tr>\n",
              "      <th>2021-05-15</th>\n",
              "      <td>50032.693137</td>\n",
              "    </tr>\n",
              "    <tr>\n",
              "      <th>2021-05-16</th>\n",
              "      <td>47885.625255</td>\n",
              "    </tr>\n",
              "    <tr>\n",
              "      <th>2021-05-17</th>\n",
              "      <td>45604.615754</td>\n",
              "    </tr>\n",
              "    <tr>\n",
              "      <th>2021-05-18</th>\n",
              "      <td>43144.471291</td>\n",
              "    </tr>\n",
              "  </tbody>\n",
              "</table>\n",
              "<p>2787 rows × 1 columns</p>\n",
              "</div><br><label><b>dtype:</b> float64</label>"
            ]
          },
          "metadata": {},
          "execution_count": 44
        }
      ]
    },
    {
      "cell_type": "code",
      "source": [
        "bitcoin_prices.plot()\n",
        "plt.ylabel('price of bitcoin')\n",
        "plt.xlabel('years')\n",
        "plt.title('price of bitcoin over years')\n",
        "plt.legend(fontsize = 14)"
      ],
      "metadata": {
        "colab": {
          "base_uri": "https://localhost:8080/",
          "height": 489
        },
        "id": "7iL0P4nfg9Aw",
        "outputId": "ce56aa52-cb69-473c-b1d5-1f57a44c761b"
      },
      "execution_count": 45,
      "outputs": [
        {
          "output_type": "execute_result",
          "data": {
            "text/plain": [
              "<matplotlib.legend.Legend at 0x7af23895f370>"
            ]
          },
          "metadata": {},
          "execution_count": 45
        },
        {
          "output_type": "display_data",
          "data": {
            "text/plain": [
              "<Figure size 640x480 with 1 Axes>"
            ],
            "image/png": "[encoded data removed]"
          },
          "metadata": {}
        }
      ]
    },
    {
      "cell_type": "code",
      "source": [
        "prices = []\n",
        "year = []\n",
        "import csv\n",
        "from datetime import datetime\n",
        "with open('/content/BTC_USD_2013-10-01_2021-05-18-CoinDesk.csv', 'r') as f:\n",
        "  # print(f)\n",
        "  reader = csv.reader(f)\n",
        "  next(reader)\n",
        "  for row in reader:\n",
        "    year.append(datetime.strptime(row[1], \"%Y-%m-%d\"))\n",
        "    prices.append(float(row[2]))\n",
        "\n",
        "\n"
      ],
      "metadata": {
        "id": "Re6J_kZhjbD-"
      },
      "execution_count": 46,
      "outputs": []
    },
    {
      "cell_type": "code",
      "source": [
        "year[:10], prices[:10]"
      ],
      "metadata": {
        "colab": {
          "base_uri": "https://localhost:8080/"
        },
        "id": "1gm3Tj9XkUPl",
        "outputId": "77e89467-df92-41b5-d056-26a749baed6b"
      },
      "execution_count": 47,
      "outputs": [
        {
          "output_type": "execute_result",
          "data": {
            "text/plain": [
              "([datetime.datetime(2013, 10, 1, 0, 0),\n",
              "  datetime.datetime(2013, 10, 2, 0, 0),\n",
              "  datetime.datetime(2013, 10, 3, 0, 0),\n",
              "  datetime.datetime(2013, 10, 4, 0, 0),\n",
              "  datetime.datetime(2013, 10, 5, 0, 0),\n",
              "  datetime.datetime(2013, 10, 6, 0, 0),\n",
              "  datetime.datetime(2013, 10, 7, 0, 0),\n",
              "  datetime.datetime(2013, 10, 8, 0, 0),\n",
              "  datetime.datetime(2013, 10, 9, 0, 0),\n",
              "  datetime.datetime(2013, 10, 10, 0, 0)],\n",
              " [123.65499,\n",
              "  125.455,\n",
              "  108.58483,\n",
              "  118.67466,\n",
              "  121.33866,\n",
              "  120.65533,\n",
              "  121.795,\n",
              "  123.033,\n",
              "  124.049,\n",
              "  125.96116])"
            ]
          },
          "metadata": {},
          "execution_count": 47
        }
      ]
    },
    {
      "cell_type": "code",
      "source": [
        "plt.plot(year,prices)\n",
        "plt.ylabel('price')\n",
        "plt.xlabel('years')\n",
        "plt.title('price along years')"
      ],
      "metadata": {
        "colab": {
          "base_uri": "https://localhost:8080/",
          "height": 489
        },
        "id": "DFY6NnYekwBf",
        "outputId": "6897c859-581c-469e-fa2a-1f540e04434a"
      },
      "execution_count": 48,
      "outputs": [
        {
          "output_type": "execute_result",
          "data": {
            "text/plain": [
              "Text(0.5, 1.0, 'price along years')"
            ]
          },
          "metadata": {},
          "execution_count": 48
        },
        {
          "output_type": "display_data",
          "data": {
            "text/plain": [
              "<Figure size 640x480 with 1 Axes>"
            ],
            "image/png": "[encoded data removed]"
          },
          "metadata": {}
        }
      ]
    },
    {
      "cell_type": "code",
      "source": [
        "train_size = int(0.8 * len(year))\n",
        "\n",
        "X_train = year[:train_size]\n",
        "y_train = prices[:train_size]\n",
        "\n",
        "X_test = year[train_size:]\n",
        "y_test = prices[train_size:]"
      ],
      "metadata": {
        "id": "WubvLKjVm6NA"
      },
      "execution_count": 49,
      "outputs": []
    },
    {
      "cell_type": "code",
      "source": [
        "len(X_train), len(X_test), len(y_train), len(y_test)"
      ],
      "metadata": {
        "colab": {
          "base_uri": "https://localhost:8080/"
        },
        "id": "Fxehz-x6ntJy",
        "outputId": "6a990793-8ddc-4b9a-94f9-d73f491f4297"
      },
      "execution_count": 50,
      "outputs": [
        {
          "output_type": "execute_result",
          "data": {
            "text/plain": [
              "(2229, 558, 2229, 558)"
            ]
          },
          "metadata": {},
          "execution_count": 50
        }
      ]
    },
    {
      "cell_type": "code",
      "source": [
        "plt.figure(figsize = (10,7))\n",
        "plt.scatter(X_train,y_train)\n",
        "plt.scatter(X_test,y_test)\n",
        "plt.xlabel('years')\n",
        "plt.ylabel('price')"
      ],
      "metadata": {
        "colab": {
          "base_uri": "https://localhost:8080/",
          "height": 628
        },
        "id": "wkdc-_2cnyel",
        "outputId": "0d69958a-8e40-45dc-b7b4-74c43b5752f8"
      },
      "execution_count": 51,
      "outputs": [
        {
          "output_type": "execute_result",
          "data": {
            "text/plain": [
              "Text(0, 0.5, 'price')"
            ]
          },
          "metadata": {},
          "execution_count": 51
        },
        {
          "output_type": "display_data",
          "data": {
            "text/plain": [
              "<Figure size 1000x700 with 1 Axes>"
            ],
            "image/png": "[encoded data removed]"
          },
          "metadata": {}
        }
      ]
    },
    {
      "cell_type": "code",
      "source": [
        "def plot_time_series(time, values, format = '.', start = 0, end = None, label = None):\n",
        "\n",
        "  plt.plot(time[start:end], values[start:end], format,label = label)\n",
        "  plt.xlabel('years')\n",
        "  plt.ylabel('price')\n",
        "  if label:\n",
        "    plt.legend(fontsize = 14)\n",
        "  plt.grid(True)"
      ],
      "metadata": {
        "id": "NnUEkZS-oBRB"
      },
      "execution_count": 52,
      "outputs": []
    },
    {
      "cell_type": "code",
      "source": [
        "plt.figure(figsize = (10,7))\n",
        "plot_time_series(X_train, y_train)\n",
        "plot_time_series(X_test,y_test)"
      ],
      "metadata": {
        "colab": {
          "base_uri": "https://localhost:8080/",
          "height": 611
        },
        "id": "EeTQUEfSrobD",
        "outputId": "06c2b618-e6fd-4626-db28-d6213fbf9fa7"
      },
      "execution_count": 53,
      "outputs": [
        {
          "output_type": "display_data",
          "data": {
            "text/plain": [
              "<Figure size 1000x700 with 1 Axes>"
            ],
            "image/png": "[encoded data removed]"
          },
          "metadata": {}
        }
      ]
    },
    {
      "cell_type": "markdown",
      "source": [
        "# **Model experiments**"
      ],
      "metadata": {
        "id": "XM3A7dxQr8ry"
      }
    },
    {
      "cell_type": "markdown",
      "source": [
        "**Model 0 Naive Forecast**"
      ],
      "metadata": {
        "id": "dL-8m7P4XMzO"
      }
    },
    {
      "cell_type": "code",
      "source": [
        "naive_forecast = y_test[:-1]\n",
        "naive_forecast[:10], naive_forecast[-10:]"
      ],
      "metadata": {
        "id": "cPeJCyonrxrs",
        "colab": {
          "base_uri": "https://localhost:8080/"
        },
        "outputId": "3328046a-0d3a-4916-956a-e8e2581a99ad"
      },
      "execution_count": 54,
      "outputs": [
        {
          "output_type": "execute_result",
          "data": {
            "text/plain": [
              "([9226.4858208826,\n",
              "  8794.3586445233,\n",
              "  8798.0420546256,\n",
              "  9081.1868784913,\n",
              "  8711.5343391679,\n",
              "  8760.8927181435,\n",
              "  8749.520591019,\n",
              "  8656.970922354,\n",
              "  8500.6435581622,\n",
              "  8469.2608988992],\n",
              " [57107.1206718864,\n",
              "  58788.2096789273,\n",
              "  58102.1914262342,\n",
              "  55715.5466512869,\n",
              "  56573.5554719043,\n",
              "  52147.8211869823,\n",
              "  49764.1320815975,\n",
              "  50032.6931367648,\n",
              "  47885.6252547166,\n",
              "  45604.6157536131])"
            ]
          },
          "metadata": {},
          "execution_count": 54
        }
      ]
    },
    {
      "cell_type": "code",
      "source": [
        "plot_time_series(X_train,y_train)\n",
        "plot_time_series(X_test,y_test,)\n",
        "plot_time_series(X_test[1:], naive_forecast, format = '-', label = 'naive_forecast')"
      ],
      "metadata": {
        "colab": {
          "base_uri": "https://localhost:8080/",
          "height": 449
        },
        "id": "StGftUVPXfhS",
        "outputId": "95ac41b2-c855-40ff-8526-84cd2f8756f7"
      },
      "execution_count": 55,
      "outputs": [
        {
          "output_type": "display_data",
          "data": {
            "text/plain": [
              "<Figure size 640x480 with 1 Axes>"
            ],
            "image/png": "[encoded data removed]"
          },
          "metadata": {}
        }
      ]
    },
    {
      "cell_type": "code",
      "source": [
        "# plot_time_series(X_train, y_train)\n",
        "plot_time_series(X_test, y_test, start = 300)\n",
        "offset = 300\n",
        "plot_time_series(time=X_test[1:], values=naive_forecast, format=\"-\", start=300, label=\"Naive forecast\");"
      ],
      "metadata": {
        "colab": {
          "base_uri": "https://localhost:8080/",
          "height": 449
        },
        "id": "H6qIq6CkXvrI",
        "outputId": "041e332f-4201-469e-8082-499751494639"
      },
      "execution_count": 56,
      "outputs": [
        {
          "output_type": "display_data",
          "data": {
            "text/plain": [
              "<Figure size 640x480 with 1 Axes>"
            ],
            "image/png": "[encoded data removed]"
          },
          "metadata": {}
        }
      ]
    },
    {
      "cell_type": "markdown",
      "source": [
        "**Evaluating time series model**"
      ],
      "metadata": {
        "id": "bj3aFOi8aKIt"
      }
    },
    {
      "cell_type": "code",
      "source": [
        "def mean_absolute_scaled_error(y_true, y_pred):\n",
        "\n",
        "  mae = tf.reduce_mean(abs(y_true - y_pred))\n",
        "\n",
        "  #mae of naive forecast\n",
        "  naive_mae = tf.reduce_mean(abs(y_true[1:] - y_true[:-1]))\n",
        "\n",
        "  return mae/naive_mae"
      ],
      "metadata": {
        "id": "NHnvcUUxZA6j"
      },
      "execution_count": 57,
      "outputs": []
    },
    {
      "cell_type": "code",
      "source": [
        "def evaluate_preds(y_true, y_pred):\n",
        "  # print('entered')\n",
        "  y_true = tf.cast(y_true, dtype = tf.float32)\n",
        "  y_pred = tf.cast(y_pred, dtype = tf.float32)\n",
        "  # print('crossed')\n",
        "\n",
        "  mae_f = tf.keras.metrics.MeanAbsoluteError()\n",
        "  mae_f.update_state(y_true, y_pred)\n",
        "  mae = mae_f.result().numpy()\n",
        "\n",
        "  #mase\n",
        "  mase_f = tf.keras.metrics.MeanSquaredError()\n",
        "  mase_f.update_state(y_true, y_pred)\n",
        "  mse = mase_f.result().numpy()\n",
        "\n",
        "  # mase\n",
        "  mase = mean_absolute_scaled_error(y_true, y_pred).numpy()\n",
        "\n",
        "  #rmse\n",
        "  rmse_f = tf.keras.metrics.RootMeanSquaredError()\n",
        "  rmse_f.update_state(y_true, y_pred)\n",
        "  rmse = rmse_f.result().numpy()\n",
        "\n",
        "  #mape\n",
        "  mape_f = tf.keras.metrics.MeanAbsolutePercentageError()\n",
        "  mape_f.update_state(y_true, y_pred)\n",
        "  mape = mape_f.result().numpy()\n",
        "\n",
        "  return ({\n",
        "      'mae': mae,\n",
        "      'mse': mse,\n",
        "      'rmse': rmse,\n",
        "      'mape': mape,\n",
        "      'mase': mase\n",
        "  })"
      ],
      "metadata": {
        "id": "XKwl0p-NdlSE"
      },
      "execution_count": 58,
      "outputs": []
    },
    {
      "cell_type": "code",
      "source": [
        "naive_results = evaluate_preds(y_test[1:], naive_forecast)\n",
        "naive_results"
      ],
      "metadata": {
        "colab": {
          "base_uri": "https://localhost:8080/"
        },
        "id": "uOeYT_Q2fZvs",
        "outputId": "465c5963-be12-4523-a049-48742172d367"
      },
      "execution_count": 59,
      "outputs": [
        {
          "output_type": "execute_result",
          "data": {
            "text/plain": [
              "{'mae': 567.9802,\n",
              " 'mse': 1147547.0,\n",
              " 'rmse': 1071.2362,\n",
              " 'mape': 2.5165248,\n",
              " 'mase': 0.99957}"
            ]
          },
          "metadata": {},
          "execution_count": 59
        }
      ]
    },
    {
      "cell_type": "markdown",
      "source": [
        "# **Windowing Datasets**"
      ],
      "metadata": {
        "id": "T87zbcWUqgPb"
      }
    },
    {
      "cell_type": "code",
      "source": [
        "HORIZON = 1\n",
        "WINDOW_SIZE = 7"
      ],
      "metadata": {
        "id": "n6RgNKdBq0du"
      },
      "execution_count": 60,
      "outputs": []
    },
    {
      "cell_type": "code",
      "source": [
        "\n",
        "\n",
        "def get_labeled_windows(x, horizon = 1):\n",
        "\n",
        "  return x[:,:-horizon], x[:,-horizon:]\n"
      ],
      "metadata": {
        "id": "01BOugV5foRT"
      },
      "execution_count": 61,
      "outputs": []
    },
    {
      "cell_type": "code",
      "source": [],
      "metadata": {
        "id": "RYndgExEtTrq"
      },
      "execution_count": 61,
      "outputs": []
    },
    {
      "cell_type": "code",
      "source": [
        "test_window, test_label = get_labeled_windows(tf.expand_dims(tf.range(8)+1, axis=0), horizon=HORIZON)"
      ],
      "metadata": {
        "id": "OjZ2ZVz4rBpi"
      },
      "execution_count": 62,
      "outputs": []
    },
    {
      "cell_type": "code",
      "source": [
        "test_window, test_label"
      ],
      "metadata": {
        "colab": {
          "base_uri": "https://localhost:8080/"
        },
        "id": "0hs1TcuJrE7H",
        "outputId": "f791dcf5-1a56-4a36-e4d0-619adff1e572"
      },
      "execution_count": 63,
      "outputs": [
        {
          "output_type": "execute_result",
          "data": {
            "text/plain": [
              "(<tf.Tensor: shape=(1, 7), dtype=int32, numpy=array([[1, 2, 3, 4, 5, 6, 7]], dtype=int32)>,\n",
              " <tf.Tensor: shape=(1, 1), dtype=int32, numpy=array([[8]], dtype=int32)>)"
            ]
          },
          "metadata": {},
          "execution_count": 63
        }
      ]
    },
    {
      "cell_type": "code",
      "source": [
        "rices = np.arange(3000)"
      ],
      "metadata": {
        "id": "f-1TyX2QTuZt"
      },
      "execution_count": 71,
      "outputs": []
    },
    {
      "cell_type": "code",
      "source": [
        "rices.shape"
      ],
      "metadata": {
        "colab": {
          "base_uri": "https://localhost:8080/"
        },
        "id": "ped05URGdcMG",
        "outputId": "802620a4-8efc-44aa-adf4-41d2bc5e0974"
      },
      "execution_count": 76,
      "outputs": [
        {
          "output_type": "execute_result",
          "data": {
            "text/plain": [
              "(3000,)"
            ]
          },
          "metadata": {},
          "execution_count": 76
        }
      ]
    },
    {
      "cell_type": "code",
      "source": [
        "# Create function to view NumPy arrays as windows\n",
        "def make_windows(x, window_size=7, horizon=1):\n",
        "  \"\"\"\n",
        "  Turns a 1D array into a 2D array of sequential windows of window_size.\n",
        "  \"\"\"\n",
        "  # 1. Create a window of specific window_size (add the horizon on the end for later labelling)\n",
        "  window_step = np.expand_dims(np.arange(window_size+horizon), axis=0)\n",
        "  # print(f\"Window step:\\n {window_step}\")\n",
        "\n",
        "  # 2. Create a 2D array of multiple window steps (minus 1 to account for 0 indexing)\n",
        "  window_indexes = window_step + np.expand_dims(np.arange(len(x)-(window_size+horizon-1)), axis=0).T # create 2D array of windows of size window_size\n",
        "  # print(f\"Window indexes:\\n {window_indexes[:3], window_indexes[-3:], window_indexes.shape}\")\n",
        "\n",
        "  # 3. Index on the target array (time series) with 2D array of multiple window steps\n",
        "  windowed_array = x[window_indexes]\n",
        "\n",
        "  # 4. Get the labelled windows\n",
        "  windows, labels = get_labeled_windows(windowed_array, horizon=horizon)\n",
        "\n",
        "  return windows, labels"
      ],
      "metadata": {
        "id": "yquTVRpQeR1N"
      },
      "execution_count": 85,
      "outputs": []
    },
    {
      "cell_type": "code",
      "source": [
        "prices = np.array(prices)"
      ],
      "metadata": {
        "id": "ienPbeZWdGmz"
      },
      "execution_count": 272,
      "outputs": []
    },
    {
      "cell_type": "code",
      "source": [
        "full_windows, full_labels = make_windows(prices, window_size = 7, horizon = 1)"
      ],
      "metadata": {
        "id": "wDpJMgaq1Apv"
      },
      "execution_count": 273,
      "outputs": []
    },
    {
      "cell_type": "code",
      "source": [
        "full_windows[:3]"
      ],
      "metadata": {
        "colab": {
          "base_uri": "https://localhost:8080/"
        },
        "id": "3BdrX3oB1AiK",
        "outputId": "168955ce-be73-4613-ef85-0657a5cc6306"
      },
      "execution_count": 274,
      "outputs": [
        {
          "output_type": "execute_result",
          "data": {
            "text/plain": [
              "array([[123.65499, 125.455  , 108.58483, 118.67466, 121.33866, 120.65533,\n",
              "        121.795  ],\n",
              "       [125.455  , 108.58483, 118.67466, 121.33866, 120.65533, 121.795  ,\n",
              "        123.033  ],\n",
              "       [108.58483, 118.67466, 121.33866, 120.65533, 121.795  , 123.033  ,\n",
              "        124.049  ]])"
            ]
          },
          "metadata": {},
          "execution_count": 274
        }
      ]
    },
    {
      "cell_type": "code",
      "source": [
        "full_labels[:3]"
      ],
      "metadata": {
        "id": "bQ3j7W4HT-mp",
        "colab": {
          "base_uri": "https://localhost:8080/"
        },
        "outputId": "c4d9426d-7a38-4d2a-da4e-e84a6be4e33c"
      },
      "execution_count": 275,
      "outputs": [
        {
          "output_type": "execute_result",
          "data": {
            "text/plain": [
              "array([[123.033  ],\n",
              "       [124.049  ],\n",
              "       [125.96116]])"
            ]
          },
          "metadata": {},
          "execution_count": 275
        }
      ]
    },
    {
      "cell_type": "code",
      "source": [
        "len(full_windows), len(full_labels)"
      ],
      "metadata": {
        "colab": {
          "base_uri": "https://localhost:8080/"
        },
        "id": "-qvQf1fjd5lq",
        "outputId": "47e10553-c49c-4600-9354-9474541293db"
      },
      "execution_count": 276,
      "outputs": [
        {
          "output_type": "execute_result",
          "data": {
            "text/plain": [
              "(2780, 2780)"
            ]
          },
          "metadata": {},
          "execution_count": 276
        }
      ]
    },
    {
      "cell_type": "code",
      "source": [
        "for i in range (3):\n",
        "  print(f\"the window is {full_windows[i]} -->\")\n",
        "  print(full_labels[i])"
      ],
      "metadata": {
        "colab": {
          "base_uri": "https://localhost:8080/"
        },
        "id": "XRrSByZJeAry",
        "outputId": "9a927223-1a66-43b2-d027-68a70d15eb76"
      },
      "execution_count": 277,
      "outputs": [
        {
          "output_type": "stream",
          "name": "stdout",
          "text": [
            "the window is [123.65499 125.455   108.58483 118.67466 121.33866 120.65533 121.795  ] -->\n",
            "[123.033]\n",
            "the window is [125.455   108.58483 118.67466 121.33866 120.65533 121.795   123.033  ] -->\n",
            "[124.049]\n",
            "the window is [108.58483 118.67466 121.33866 120.65533 121.795   123.033   124.049  ] -->\n",
            "[125.96116]\n"
          ]
        }
      ]
    },
    {
      "cell_type": "code",
      "source": [
        "# last 3 values\n",
        "for i in range (3):\n",
        "  print(f\"the window is {full_windows[-i]} --> {full_labels[-i]}\")"
      ],
      "metadata": {
        "colab": {
          "base_uri": "https://localhost:8080/"
        },
        "id": "DboqdQHyeqHP",
        "outputId": "edadf8a3-14aa-488a-c15e-4c75beac61c7"
      },
      "execution_count": 278,
      "outputs": [
        {
          "output_type": "stream",
          "name": "stdout",
          "text": [
            "the window is [123.65499 125.455   108.58483 118.67466 121.33866 120.65533 121.795  ] --> [123.033]\n",
            "the window is [55715.54665129 56573.5554719  52147.82118698 49764.1320816\n",
            " 50032.69313676 47885.62525472 45604.61575361] --> [43144.47129086]\n",
            "the window is [58102.19142623 55715.54665129 56573.5554719  52147.82118698\n",
            " 49764.1320816  50032.69313676 47885.62525472] --> [45604.61575361]\n"
          ]
        }
      ]
    },
    {
      "cell_type": "markdown",
      "source": [
        "# **Turning into Training and Testing Datasets**"
      ],
      "metadata": {
        "id": "ydzgxNOufpH7"
      }
    },
    {
      "cell_type": "code",
      "source": [
        "def make_train_test_splits(windows, labels, test_size = 0.2):\n",
        "\n",
        "  split = int((1-test_size) * len(windows))\n",
        "  print(split)\n",
        "  window_train, window_test = windows [:split], windows[split:]\n",
        "  label_train, label_test = labels[:split], labels[split:]\n",
        "\n",
        "  return window_train, window_test,label_train, label_test"
      ],
      "metadata": {
        "id": "oiOpfiSxe-0O"
      },
      "execution_count": 279,
      "outputs": []
    },
    {
      "cell_type": "code",
      "source": [
        "train_windows, test_windows, train_labels, test_labels = make_train_test_splits(full_windows, full_labels)"
      ],
      "metadata": {
        "colab": {
          "base_uri": "https://localhost:8080/"
        },
        "id": "rphFIRLfioFV",
        "outputId": "44fa0b20-5747-4316-bb94-b496161884e9"
      },
      "execution_count": 280,
      "outputs": [
        {
          "output_type": "stream",
          "name": "stdout",
          "text": [
            "2224\n"
          ]
        }
      ]
    },
    {
      "cell_type": "code",
      "source": [
        "len(train_windows), len(test_windows), len(train_labels), len(test_labels)"
      ],
      "metadata": {
        "colab": {
          "base_uri": "https://localhost:8080/"
        },
        "id": "ls3mYZNXjVPc",
        "outputId": "acd840bd-2754-4d7c-b79e-da33ef1be38f"
      },
      "execution_count": 281,
      "outputs": [
        {
          "output_type": "execute_result",
          "data": {
            "text/plain": [
              "(2224, 556, 2224, 556)"
            ]
          },
          "metadata": {},
          "execution_count": 281
        }
      ]
    },
    {
      "cell_type": "code",
      "source": [
        "train_windows[:5], train_labels[:5]"
      ],
      "metadata": {
        "colab": {
          "base_uri": "https://localhost:8080/"
        },
        "id": "3GQJFK86jc3_",
        "outputId": "5e7a2fdf-e892-417e-f4be-d93cf729df0c"
      },
      "execution_count": 282,
      "outputs": [
        {
          "output_type": "execute_result",
          "data": {
            "text/plain": [
              "(array([[123.65499, 125.455  , 108.58483, 118.67466, 121.33866, 120.65533,\n",
              "         121.795  ],\n",
              "        [125.455  , 108.58483, 118.67466, 121.33866, 120.65533, 121.795  ,\n",
              "         123.033  ],\n",
              "        [108.58483, 118.67466, 121.33866, 120.65533, 121.795  , 123.033  ,\n",
              "         124.049  ],\n",
              "        [118.67466, 121.33866, 120.65533, 121.795  , 123.033  , 124.049  ,\n",
              "         125.96116],\n",
              "        [121.33866, 120.65533, 121.795  , 123.033  , 124.049  , 125.96116,\n",
              "         125.27966]]),\n",
              " array([[123.033  ],\n",
              "        [124.049  ],\n",
              "        [125.96116],\n",
              "        [125.27966],\n",
              "        [125.9275 ]]))"
            ]
          },
          "metadata": {},
          "execution_count": 282
        }
      ]
    },
    {
      "cell_type": "code",
      "source": [
        "WINDOW_SIZE, HORIZON"
      ],
      "metadata": {
        "colab": {
          "base_uri": "https://localhost:8080/"
        },
        "id": "oaBKNf6VlsDv",
        "outputId": "8e975efe-a831-41f9-ed6e-192f7b0c0406"
      },
      "execution_count": 283,
      "outputs": [
        {
          "output_type": "execute_result",
          "data": {
            "text/plain": [
              "(7, 1)"
            ]
          },
          "metadata": {},
          "execution_count": 283
        }
      ]
    },
    {
      "cell_type": "code",
      "source": [
        "len(y_train)"
      ],
      "metadata": {
        "colab": {
          "base_uri": "https://localhost:8080/"
        },
        "id": "-8LO0zrOmA9b",
        "outputId": "d8fecf23-585c-4677-804b-373bbc9cdd05"
      },
      "execution_count": 284,
      "outputs": [
        {
          "output_type": "execute_result",
          "data": {
            "text/plain": [
              "2229"
            ]
          },
          "metadata": {},
          "execution_count": 284
        }
      ]
    },
    {
      "cell_type": "code",
      "source": [
        "np.array_equal(y_train[WINDOW_SIZE:], np.squeeze(train_labels))"
      ],
      "metadata": {
        "colab": {
          "base_uri": "https://localhost:8080/"
        },
        "id": "MqOXgLvelXO5",
        "outputId": "9d4d6158-bac3-4307-d887-d979226029bb"
      },
      "execution_count": 285,
      "outputs": [
        {
          "output_type": "execute_result",
          "data": {
            "text/plain": [
              "False"
            ]
          },
          "metadata": {},
          "execution_count": 285
        }
      ]
    },
    {
      "cell_type": "code",
      "source": [
        "np.array(y_train).shape"
      ],
      "metadata": {
        "colab": {
          "base_uri": "https://localhost:8080/"
        },
        "id": "f82hDNaumfRp",
        "outputId": "a070b6ad-958b-47f3-ba26-9c8a1cd53118"
      },
      "execution_count": 286,
      "outputs": [
        {
          "output_type": "execute_result",
          "data": {
            "text/plain": [
              "(2229,)"
            ]
          },
          "metadata": {},
          "execution_count": 286
        }
      ]
    },
    {
      "cell_type": "code",
      "source": [
        "np.squeeze(train_labels).shape"
      ],
      "metadata": {
        "colab": {
          "base_uri": "https://localhost:8080/"
        },
        "id": "SJsmG--hln9k",
        "outputId": "fdd4dcde-6996-4453-f525-928799b001c5"
      },
      "execution_count": 287,
      "outputs": [
        {
          "output_type": "execute_result",
          "data": {
            "text/plain": [
              "(2224,)"
            ]
          },
          "metadata": {},
          "execution_count": 287
        }
      ]
    },
    {
      "cell_type": "code",
      "source": [
        "np.array(y_train[7:])"
      ],
      "metadata": {
        "colab": {
          "base_uri": "https://localhost:8080/"
        },
        "id": "cp6jXdaumeC4",
        "outputId": "780e041e-290c-4f8d-b34a-d4a9052827ed"
      },
      "execution_count": 288,
      "outputs": [
        {
          "output_type": "execute_result",
          "data": {
            "text/plain": [
              "array([ 123.033     ,  124.049     ,  125.96116   , ..., 9369.62808116,\n",
              "       9326.59962378, 9335.75240233])"
            ]
          },
          "metadata": {},
          "execution_count": 288
        }
      ]
    },
    {
      "cell_type": "code",
      "source": [
        "np.squeeze(train_labels[:-2])"
      ],
      "metadata": {
        "colab": {
          "base_uri": "https://localhost:8080/"
        },
        "id": "ie8lntzym5nS",
        "outputId": "06d1cf5e-5297-4b68-f9a9-552394edf27e"
      },
      "execution_count": 289,
      "outputs": [
        {
          "output_type": "execute_result",
          "data": {
            "text/plain": [
              "array([ 123.033     ,  124.049     ,  125.96116   , ..., 9369.62808116,\n",
              "       9326.59962378, 9335.75240233])"
            ]
          },
          "metadata": {},
          "execution_count": 289
        }
      ]
    },
    {
      "cell_type": "markdown",
      "source": [
        "# **Make a modeling Checkpoint**"
      ],
      "metadata": {
        "id": "pzpfJYCCp_oH"
      }
    },
    {
      "cell_type": "code",
      "source": [
        "import os"
      ],
      "metadata": {
        "id": "xmDo0pA3rCXv"
      },
      "execution_count": 290,
      "outputs": []
    },
    {
      "cell_type": "code",
      "source": [
        "def create_model_checkpoint(model_name, savepath = 'model_experiments'):\n",
        "  total_path = os.path.join(savepath, model_name + '.keras')\n",
        "  print(total_path)\n",
        "\n",
        "  back = tf.keras.callbacks.ModelCheckpoint(total_path,\n",
        "                                     monitor='val_loss',\n",
        "                                     verbose=1, save_best_only=True)\n",
        "  return back"
      ],
      "metadata": {
        "id": "rfEz8p1Pm68-"
      },
      "execution_count": 291,
      "outputs": []
    },
    {
      "cell_type": "markdown",
      "source": [
        "**Model1 Dense Model**"
      ],
      "metadata": {
        "id": "5IFp7TARrlK6"
      }
    },
    {
      "cell_type": "code",
      "source": [
        "from tensorflow.keras import Sequential\n",
        "from tensorflow.keras import layers"
      ],
      "metadata": {
        "id": "bo3NdegDrq-8"
      },
      "execution_count": 172,
      "outputs": []
    },
    {
      "cell_type": "code",
      "source": [
        "# Construct model\n",
        "model_1 = tf.keras.Sequential([\n",
        "  layers.Dense(128, activation=\"relu\"),\n",
        "  layers.Dense(HORIZON, activation=\"linear\") # linear activation is the same as having no activation\n",
        "], name=\"model_1_dense\") # give the model a name so we can save it\n",
        "\n",
        "model_1.compile(loss = 'mae',\n",
        "                optimizer = tf.keras.optimizers.Adam()\n",
        "               )\n",
        "\n",
        "model_1.fit(train_windows,train_labels,\n",
        "            epochs = 100, validation_data = (test_windows, test_labels),\n",
        "            batch_size = 128,\n",
        "            verbose = 1,\n",
        "             callbacks = [create_model_checkpoint(model_name ='model_1_dense')]\n",
        "            )"
      ],
      "metadata": {
        "colab": {
          "base_uri": "https://localhost:8080/"
        },
        "collapsed": true,
        "id": "6xqSzX8SrcEa",
        "outputId": "096c4643-402f-4b54-fb8d-9214a7e35c42"
      },
      "execution_count": 175,
      "outputs": [
        {
          "output_type": "stream",
          "name": "stdout",
          "text": [
            "model_experiments/model_1_dense.keras\n",
            "Epoch 1/100\n",
            "\u001b[1m16/18\u001b[0m \u001b[32m━━━━━━━━━━━━━━━━━\u001b[0m\u001b[37m━━━\u001b[0m \u001b[1m0s\u001b[0m 3ms/step - loss: 1429.5330\n",
            "Epoch 1: val_loss improved from inf to 2562.33740, saving model to model_experiments/model_1_dense.keras\n",
            "\u001b[1m18/18\u001b[0m \u001b[32m━━━━━━━━━━━━━━━━━━━━\u001b[0m\u001b[37m\u001b[0m \u001b[1m2s\u001b[0m 22ms/step - loss: 1343.8597 - val_loss: 2562.3374\n",
            "Epoch 2/100\n",
            "\u001b[1m10/18\u001b[0m \u001b[32m━━━━━━━━━━━\u001b[0m\u001b[37m━━━━━━━━━\u001b[0m \u001b[1m0s\u001b[0m 6ms/step - loss: 354.6835 \n",
            "Epoch 2: val_loss improved from 2562.33740 to 987.83362, saving model to model_experiments/model_1_dense.keras\n",
            "\u001b[1m18/18\u001b[0m \u001b[32m━━━━━━━━━━━━━━━━━━━━\u001b[0m\u001b[37m\u001b[0m \u001b[1m0s\u001b[0m 10ms/step - loss: 310.9164 - val_loss: 987.8336\n",
            "Epoch 3/100\n",
            "\u001b[1m10/18\u001b[0m \u001b[32m━━━━━━━━━━━\u001b[0m\u001b[37m━━━━━━━━━\u001b[0m \u001b[1m0s\u001b[0m 6ms/step - loss: 188.4281  \n",
            "Epoch 3: val_loss improved from 987.83362 to 966.11475, saving model to model_experiments/model_1_dense.keras\n",
            "\u001b[1m18/18\u001b[0m \u001b[32m━━━━━━━━━━━━━━━━━━━━\u001b[0m\u001b[37m\u001b[0m \u001b[1m0s\u001b[0m 11ms/step - loss: 189.7717 - val_loss: 966.1147\n",
            "Epoch 4/100\n",
            "\u001b[1m14/18\u001b[0m \u001b[32m━━━━━━━━━━━━━━━\u001b[0m\u001b[37m━━━━━\u001b[0m \u001b[1m0s\u001b[0m 4ms/step - loss: 179.0930 \n",
            "Epoch 4: val_loss improved from 966.11475 to 948.64313, saving model to model_experiments/model_1_dense.keras\n",
            "\u001b[1m18/18\u001b[0m \u001b[32m━━━━━━━━━━━━━━━━━━━━\u001b[0m\u001b[37m\u001b[0m \u001b[1m0s\u001b[0m 9ms/step - loss: 177.8428 - val_loss: 948.6431\n",
            "Epoch 5/100\n",
            "\u001b[1m 1/18\u001b[0m \u001b[32m━\u001b[0m\u001b[37m━━━━━━━━━━━━━━━━━━━\u001b[0m \u001b[1m2s\u001b[0m 118ms/step - loss: 138.0808\n",
            "Epoch 5: val_loss improved from 948.64313 to 935.17090, saving model to model_experiments/model_1_dense.keras\n",
            "\u001b[1m18/18\u001b[0m \u001b[32m━━━━━━━━━━━━━━━━━━━━\u001b[0m\u001b[37m\u001b[0m \u001b[1m0s\u001b[0m 4ms/step - loss: 169.6422 - val_loss: 935.1709\n",
            "Epoch 6/100\n",
            "\u001b[1m 1/18\u001b[0m \u001b[32m━\u001b[0m\u001b[37m━━━━━━━━━━━━━━━━━━━\u001b[0m \u001b[1m0s\u001b[0m 26ms/step - loss: 134.7054\n",
            "Epoch 6: val_loss improved from 935.17090 to 920.91479, saving model to model_experiments/model_1_dense.keras\n",
            "\u001b[1m18/18\u001b[0m \u001b[32m━━━━━━━━━━━━━━━━━━━━\u001b[0m\u001b[37m\u001b[0m \u001b[1m0s\u001b[0m 5ms/step - loss: 160.8860 - val_loss: 920.9148\n",
            "Epoch 7/100\n",
            "\u001b[1m 1/18\u001b[0m \u001b[32m━\u001b[0m\u001b[37m━━━━━━━━━━━━━━━━━━━\u001b[0m \u001b[1m1s\u001b[0m 62ms/step - loss: 169.5428\n",
            "Epoch 7: val_loss improved from 920.91479 to 895.24811, saving model to model_experiments/model_1_dense.keras\n",
            "\u001b[1m18/18\u001b[0m \u001b[32m━━━━━━━━━━━━━━━━━━━━\u001b[0m\u001b[37m\u001b[0m \u001b[1m0s\u001b[0m 5ms/step - loss: 158.7537 - val_loss: 895.2481\n",
            "Epoch 8/100\n",
            "\u001b[1m 1/18\u001b[0m \u001b[32m━\u001b[0m\u001b[37m━━━━━━━━━━━━━━━━━━━\u001b[0m \u001b[1m0s\u001b[0m 34ms/step - loss: 160.9847\n",
            "Epoch 8: val_loss improved from 895.24811 to 859.98108, saving model to model_experiments/model_1_dense.keras\n",
            "\u001b[1m18/18\u001b[0m \u001b[32m━━━━━━━━━━━━━━━━━━━━\u001b[0m\u001b[37m\u001b[0m \u001b[1m0s\u001b[0m 5ms/step - loss: 153.3403 - val_loss: 859.9811\n",
            "Epoch 9/100\n",
            "\u001b[1m 1/18\u001b[0m \u001b[32m━\u001b[0m\u001b[37m━━━━━━━━━━━━━━━━━━━\u001b[0m \u001b[1m0s\u001b[0m 58ms/step - loss: 126.8394\n",
            "Epoch 9: val_loss did not improve from 859.98108\n",
            "\u001b[1m18/18\u001b[0m \u001b[32m━━━━━━━━━━━━━━━━━━━━\u001b[0m\u001b[37m\u001b[0m \u001b[1m0s\u001b[0m 4ms/step - loss: 153.6345 - val_loss: 867.3368\n",
            "Epoch 10/100\n",
            "\u001b[1m 1/18\u001b[0m \u001b[32m━\u001b[0m\u001b[37m━━━━━━━━━━━━━━━━━━━\u001b[0m \u001b[1m1s\u001b[0m 67ms/step - loss: 141.3058\n",
            "Epoch 10: val_loss improved from 859.98108 to 819.94427, saving model to model_experiments/model_1_dense.keras\n",
            "\u001b[1m18/18\u001b[0m \u001b[32m━━━━━━━━━━━━━━━━━━━━\u001b[0m\u001b[37m\u001b[0m \u001b[1m0s\u001b[0m 5ms/step - loss: 158.3156 - val_loss: 819.9443\n",
            "Epoch 11/100\n",
            "\u001b[1m 1/18\u001b[0m \u001b[32m━\u001b[0m\u001b[37m━━━━━━━━━━━━━━━━━━━\u001b[0m \u001b[1m0s\u001b[0m 45ms/step - loss: 124.5286\n",
            "Epoch 11: val_loss did not improve from 819.94427\n",
            "\u001b[1m18/18\u001b[0m \u001b[32m━━━━━━━━━━━━━━━━━━━━\u001b[0m\u001b[37m\u001b[0m \u001b[1m0s\u001b[0m 3ms/step - loss: 151.1266 - val_loss: 877.5059\n",
            "Epoch 12/100\n",
            "\u001b[1m 1/18\u001b[0m \u001b[32m━\u001b[0m\u001b[37m━━━━━━━━━━━━━━━━━━━\u001b[0m \u001b[1m0s\u001b[0m 33ms/step - loss: 159.9831\n",
            "Epoch 12: val_loss improved from 819.94427 to 812.76245, saving model to model_experiments/model_1_dense.keras\n",
            "\u001b[1m18/18\u001b[0m \u001b[32m━━━━━━━━━━━━━━━━━━━━\u001b[0m\u001b[37m\u001b[0m \u001b[1m0s\u001b[0m 6ms/step - loss: 149.9436 - val_loss: 812.7625\n",
            "Epoch 13/100\n",
            "\u001b[1m 1/18\u001b[0m \u001b[32m━\u001b[0m\u001b[37m━━━━━━━━━━━━━━━━━━━\u001b[0m \u001b[1m0s\u001b[0m 35ms/step - loss: 96.1010\n",
            "Epoch 13: val_loss did not improve from 812.76245\n",
            "\u001b[1m18/18\u001b[0m \u001b[32m━━━━━━━━━━━━━━━━━━━━\u001b[0m\u001b[37m\u001b[0m \u001b[1m0s\u001b[0m 5ms/step - loss: 138.5065 - val_loss: 816.0556\n",
            "Epoch 14/100\n",
            "\u001b[1m 1/18\u001b[0m \u001b[32m━\u001b[0m\u001b[37m━━━━━━━━━━━━━━━━━━━\u001b[0m \u001b[1m0s\u001b[0m 50ms/step - loss: 146.2294\n",
            "Epoch 14: val_loss improved from 812.76245 to 785.99744, saving model to model_experiments/model_1_dense.keras\n",
            "\u001b[1m18/18\u001b[0m \u001b[32m━━━━━━━━━━━━━━━━━━━━\u001b[0m\u001b[37m\u001b[0m \u001b[1m0s\u001b[0m 5ms/step - loss: 147.3111 - val_loss: 785.9974\n",
            "Epoch 15/100\n",
            "\u001b[1m 1/18\u001b[0m \u001b[32m━\u001b[0m\u001b[37m━━━━━━━━━━━━━━━━━━━\u001b[0m \u001b[1m0s\u001b[0m 54ms/step - loss: 101.6004\n",
            "Epoch 15: val_loss improved from 785.99744 to 762.32593, saving model to model_experiments/model_1_dense.keras\n",
            "\u001b[1m18/18\u001b[0m \u001b[32m━━━━━━━━━━━━━━━━━━━━\u001b[0m\u001b[37m\u001b[0m \u001b[1m0s\u001b[0m 5ms/step - loss: 145.3825 - val_loss: 762.3259\n",
            "Epoch 16/100\n",
            "\u001b[1m 1/18\u001b[0m \u001b[32m━\u001b[0m\u001b[37m━━━━━━━━━━━━━━━━━━━\u001b[0m \u001b[1m0s\u001b[0m 56ms/step - loss: 154.8185\n",
            "Epoch 16: val_loss improved from 762.32593 to 754.68933, saving model to model_experiments/model_1_dense.keras\n",
            "\u001b[1m18/18\u001b[0m \u001b[32m━━━━━━━━━━━━━━━━━━━━\u001b[0m\u001b[37m\u001b[0m \u001b[1m0s\u001b[0m 6ms/step - loss: 135.9352 - val_loss: 754.6893\n",
            "Epoch 17/100\n",
            "\u001b[1m 1/18\u001b[0m \u001b[32m━\u001b[0m\u001b[37m━━━━━━━━━━━━━━━━━━━\u001b[0m \u001b[1m0s\u001b[0m 43ms/step - loss: 146.2091\n",
            "Epoch 17: val_loss did not improve from 754.68933\n",
            "\u001b[1m18/18\u001b[0m \u001b[32m━━━━━━━━━━━━━━━━━━━━\u001b[0m\u001b[37m\u001b[0m \u001b[1m0s\u001b[0m 4ms/step - loss: 137.3391 - val_loss: 757.4688\n",
            "Epoch 18/100\n",
            "\u001b[1m 1/18\u001b[0m \u001b[32m━\u001b[0m\u001b[37m━━━━━━━━━━━━━━━━━━━\u001b[0m \u001b[1m1s\u001b[0m 71ms/step - loss: 104.7352\n",
            "Epoch 18: val_loss improved from 754.68933 to 738.89142, saving model to model_experiments/model_1_dense.keras\n",
            "\u001b[1m18/18\u001b[0m \u001b[32m━━━━━━━━━━━━━━━━━━━━\u001b[0m\u001b[37m\u001b[0m \u001b[1m0s\u001b[0m 5ms/step - loss: 135.6544 - val_loss: 738.8914\n",
            "Epoch 19/100\n",
            "\u001b[1m 1/18\u001b[0m \u001b[32m━\u001b[0m\u001b[37m━━━━━━━━━━━━━━━━━━━\u001b[0m \u001b[1m0s\u001b[0m 30ms/step - loss: 126.6506\n",
            "Epoch 19: val_loss improved from 738.89142 to 712.98047, saving model to model_experiments/model_1_dense.keras\n",
            "\u001b[1m18/18\u001b[0m \u001b[32m━━━━━━━━━━━━━━━━━━━━\u001b[0m\u001b[37m\u001b[0m \u001b[1m0s\u001b[0m 6ms/step - loss: 136.6010 - val_loss: 712.9805\n",
            "Epoch 20/100\n",
            "\u001b[1m 1/18\u001b[0m \u001b[32m━\u001b[0m\u001b[37m━━━━━━━━━━━━━━━━━━━\u001b[0m \u001b[1m3s\u001b[0m 190ms/step - loss: 141.3475\n",
            "Epoch 20: val_loss did not improve from 712.98047\n",
            "\u001b[1m18/18\u001b[0m \u001b[32m━━━━━━━━━━━━━━━━━━━━\u001b[0m\u001b[37m\u001b[0m \u001b[1m0s\u001b[0m 4ms/step - loss: 126.3525 - val_loss: 728.2289\n",
            "Epoch 21/100\n",
            "\u001b[1m 1/18\u001b[0m \u001b[32m━\u001b[0m\u001b[37m━━━━━━━━━━━━━━━━━━━\u001b[0m \u001b[1m1s\u001b[0m 75ms/step - loss: 179.7026\n",
            "Epoch 21: val_loss improved from 712.98047 to 684.57703, saving model to model_experiments/model_1_dense.keras\n",
            "\u001b[1m18/18\u001b[0m \u001b[32m━━━━━━━━━━━━━━━━━━━━\u001b[0m\u001b[37m\u001b[0m \u001b[1m0s\u001b[0m 5ms/step - loss: 140.8318 - val_loss: 684.5770\n",
            "Epoch 22/100\n",
            "\u001b[1m 1/18\u001b[0m \u001b[32m━\u001b[0m\u001b[37m━━━━━━━━━━━━━━━━━━━\u001b[0m \u001b[1m0s\u001b[0m 50ms/step - loss: 141.2177\n",
            "Epoch 22: val_loss improved from 684.57703 to 679.86609, saving model to model_experiments/model_1_dense.keras\n",
            "\u001b[1m18/18\u001b[0m \u001b[32m━━━━━━━━━━━━━━━━━━━━\u001b[0m\u001b[37m\u001b[0m \u001b[1m0s\u001b[0m 5ms/step - loss: 127.9995 - val_loss: 679.8661\n",
            "Epoch 23/100\n",
            "\u001b[1m 1/18\u001b[0m \u001b[32m━\u001b[0m\u001b[37m━━━━━━━━━━━━━━━━━━━\u001b[0m \u001b[1m0s\u001b[0m 58ms/step - loss: 114.3150\n",
            "Epoch 23: val_loss did not improve from 679.86609\n",
            "\u001b[1m18/18\u001b[0m \u001b[32m━━━━━━━━━━━━━━━━━━━━\u001b[0m\u001b[37m\u001b[0m \u001b[1m0s\u001b[0m 5ms/step - loss: 128.8993 - val_loss: 715.8779\n",
            "Epoch 24/100\n",
            "\u001b[1m 1/18\u001b[0m \u001b[32m━\u001b[0m\u001b[37m━━━━━━━━━━━━━━━━━━━\u001b[0m \u001b[1m0s\u001b[0m 26ms/step - loss: 130.9348\n",
            "Epoch 24: val_loss did not improve from 679.86609\n",
            "\u001b[1m18/18\u001b[0m \u001b[32m━━━━━━━━━━━━━━━━━━━━\u001b[0m\u001b[37m\u001b[0m \u001b[1m0s\u001b[0m 5ms/step - loss: 131.7605 - val_loss: 689.0738\n",
            "Epoch 25/100\n",
            "\u001b[1m 1/18\u001b[0m \u001b[32m━\u001b[0m\u001b[37m━━━━━━━━━━━━━━━━━━━\u001b[0m \u001b[1m0s\u001b[0m 56ms/step - loss: 117.3552\n",
            "Epoch 25: val_loss improved from 679.86609 to 658.56036, saving model to model_experiments/model_1_dense.keras\n",
            "\u001b[1m18/18\u001b[0m \u001b[32m━━━━━━━━━━━━━━━━━━━━\u001b[0m\u001b[37m\u001b[0m \u001b[1m0s\u001b[0m 6ms/step - loss: 119.8815 - val_loss: 658.5604\n",
            "Epoch 26/100\n",
            "\u001b[1m 1/18\u001b[0m \u001b[32m━\u001b[0m\u001b[37m━━━━━━━━━━━━━━━━━━━\u001b[0m \u001b[1m0s\u001b[0m 33ms/step - loss: 102.5786\n",
            "Epoch 26: val_loss did not improve from 658.56036\n",
            "\u001b[1m18/18\u001b[0m \u001b[32m━━━━━━━━━━━━━━━━━━━━\u001b[0m\u001b[37m\u001b[0m \u001b[1m0s\u001b[0m 4ms/step - loss: 125.0698 - val_loss: 888.4142\n",
            "Epoch 27/100\n",
            "\u001b[1m 1/18\u001b[0m \u001b[32m━\u001b[0m\u001b[37m━━━━━━━━━━━━━━━━━━━\u001b[0m \u001b[1m1s\u001b[0m 62ms/step - loss: 167.3300\n",
            "Epoch 27: val_loss did not improve from 658.56036\n",
            "\u001b[1m18/18\u001b[0m \u001b[32m━━━━━━━━━━━━━━━━━━━━\u001b[0m\u001b[37m\u001b[0m \u001b[1m0s\u001b[0m 4ms/step - loss: 133.8444 - val_loss: 787.3392\n",
            "Epoch 28/100\n",
            "\u001b[1m 1/18\u001b[0m \u001b[32m━\u001b[0m\u001b[37m━━━━━━━━━━━━━━━━━━━\u001b[0m \u001b[1m1s\u001b[0m 76ms/step - loss: 164.0999\n",
            "Epoch 28: val_loss did not improve from 658.56036\n",
            "\u001b[1m18/18\u001b[0m \u001b[32m━━━━━━━━━━━━━━━━━━━━\u001b[0m\u001b[37m\u001b[0m \u001b[1m0s\u001b[0m 4ms/step - loss: 126.5120 - val_loss: 738.1010\n",
            "Epoch 29/100\n",
            "\u001b[1m 1/18\u001b[0m \u001b[32m━\u001b[0m\u001b[37m━━━━━━━━━━━━━━━━━━━\u001b[0m \u001b[1m1s\u001b[0m 63ms/step - loss: 122.5005\n",
            "Epoch 29: val_loss improved from 658.56036 to 657.96796, saving model to model_experiments/model_1_dense.keras\n",
            "\u001b[1m18/18\u001b[0m \u001b[32m━━━━━━━━━━━━━━━━━━━━\u001b[0m\u001b[37m\u001b[0m \u001b[1m0s\u001b[0m 5ms/step - loss: 124.6260 - val_loss: 657.9680\n",
            "Epoch 30/100\n",
            "\u001b[1m 1/18\u001b[0m \u001b[32m━\u001b[0m\u001b[37m━━━━━━━━━━━━━━━━━━━\u001b[0m \u001b[1m1s\u001b[0m 60ms/step - loss: 146.4028\n",
            "Epoch 30: val_loss improved from 657.96796 to 644.61261, saving model to model_experiments/model_1_dense.keras\n",
            "\u001b[1m18/18\u001b[0m \u001b[32m━━━━━━━━━━━━━━━━━━━━\u001b[0m\u001b[37m\u001b[0m \u001b[1m0s\u001b[0m 5ms/step - loss: 122.5858 - val_loss: 644.6126\n",
            "Epoch 31/100\n",
            "\u001b[1m 1/18\u001b[0m \u001b[32m━\u001b[0m\u001b[37m━━━━━━━━━━━━━━━━━━━\u001b[0m \u001b[1m0s\u001b[0m 48ms/step - loss: 138.2257\n",
            "Epoch 31: val_loss did not improve from 644.61261\n",
            "\u001b[1m18/18\u001b[0m \u001b[32m━━━━━━━━━━━━━━━━━━━━\u001b[0m\u001b[37m\u001b[0m \u001b[1m0s\u001b[0m 4ms/step - loss: 125.9152 - val_loss: 653.7009\n",
            "Epoch 32/100\n",
            "\u001b[1m 1/18\u001b[0m \u001b[32m━\u001b[0m\u001b[37m━━━━━━━━━━━━━━━━━━━\u001b[0m \u001b[1m1s\u001b[0m 64ms/step - loss: 104.1581\n",
            "Epoch 32: val_loss improved from 644.61261 to 629.16547, saving model to model_experiments/model_1_dense.keras\n",
            "\u001b[1m18/18\u001b[0m \u001b[32m━━━━━━━━━━━━━━━━━━━━\u001b[0m\u001b[37m\u001b[0m \u001b[1m0s\u001b[0m 6ms/step - loss: 117.0954 - val_loss: 629.1655\n",
            "Epoch 33/100\n",
            "\u001b[1m 1/18\u001b[0m \u001b[32m━\u001b[0m\u001b[37m━━━━━━━━━━━━━━━━━━━\u001b[0m \u001b[1m0s\u001b[0m 41ms/step - loss: 146.0312\n",
            "Epoch 33: val_loss improved from 629.16547 to 625.61285, saving model to model_experiments/model_1_dense.keras\n",
            "\u001b[1m18/18\u001b[0m \u001b[32m━━━━━━━━━━━━━━━━━━━━\u001b[0m\u001b[37m\u001b[0m \u001b[1m0s\u001b[0m 5ms/step - loss: 119.2247 - val_loss: 625.6129\n",
            "Epoch 34/100\n",
            "\u001b[1m 1/18\u001b[0m \u001b[32m━\u001b[0m\u001b[37m━━━━━━━━━━━━━━━━━━━\u001b[0m \u001b[1m0s\u001b[0m 27ms/step - loss: 73.9961\n",
            "Epoch 34: val_loss did not improve from 625.61285\n",
            "\u001b[1m18/18\u001b[0m \u001b[32m━━━━━━━━━━━━━━━━━━━━\u001b[0m\u001b[37m\u001b[0m \u001b[1m0s\u001b[0m 4ms/step - loss: 113.8840 - val_loss: 625.9035\n",
            "Epoch 35/100\n",
            "\u001b[1m 1/18\u001b[0m \u001b[32m━\u001b[0m\u001b[37m━━━━━━━━━━━━━━━━━━━\u001b[0m \u001b[1m1s\u001b[0m 77ms/step - loss: 106.7882\n",
            "Epoch 35: val_loss did not improve from 625.61285\n",
            "\u001b[1m18/18\u001b[0m \u001b[32m━━━━━━━━━━━━━━━━━━━━\u001b[0m\u001b[37m\u001b[0m \u001b[1m0s\u001b[0m 4ms/step - loss: 112.4499 - val_loss: 722.5042\n",
            "Epoch 36/100\n",
            "\u001b[1m 1/18\u001b[0m \u001b[32m━\u001b[0m\u001b[37m━━━━━━━━━━━━━━━━━━━\u001b[0m \u001b[1m1s\u001b[0m 74ms/step - loss: 133.3050\n",
            "Epoch 36: val_loss did not improve from 625.61285\n",
            "\u001b[1m18/18\u001b[0m \u001b[32m━━━━━━━━━━━━━━━━━━━━\u001b[0m\u001b[37m\u001b[0m \u001b[1m0s\u001b[0m 5ms/step - loss: 127.3601 - val_loss: 694.1057\n",
            "Epoch 37/100\n",
            "\u001b[1m18/18\u001b[0m \u001b[32m━━━━━━━━━━━━━━━━━━━━\u001b[0m\u001b[37m\u001b[0m \u001b[1m0s\u001b[0m 3ms/step - loss: 130.9438 \n",
            "Epoch 37: val_loss did not improve from 625.61285\n",
            "\u001b[1m18/18\u001b[0m \u001b[32m━━━━━━━━━━━━━━━━━━━━\u001b[0m\u001b[37m\u001b[0m \u001b[1m0s\u001b[0m 6ms/step - loss: 130.3743 - val_loss: 626.8464\n",
            "Epoch 38/100\n",
            "\u001b[1m 1/18\u001b[0m \u001b[32m━\u001b[0m\u001b[37m━━━━━━━━━━━━━━━━━━━\u001b[0m \u001b[1m3s\u001b[0m 193ms/step - loss: 128.9281\n",
            "Epoch 38: val_loss did not improve from 625.61285\n",
            "\u001b[1m18/18\u001b[0m \u001b[32m━━━━━━━━━━━━━━━━━━━━\u001b[0m\u001b[37m\u001b[0m \u001b[1m0s\u001b[0m 6ms/step - loss: 121.0923 - val_loss: 633.9747\n",
            "Epoch 39/100\n",
            "\u001b[1m 1/18\u001b[0m \u001b[32m━\u001b[0m\u001b[37m━━━━━━━━━━━━━━━━━━━\u001b[0m \u001b[1m3s\u001b[0m 193ms/step - loss: 154.8113\n",
            "Epoch 39: val_loss improved from 625.61285 to 623.77307, saving model to model_experiments/model_1_dense.keras\n",
            "\u001b[1m18/18\u001b[0m \u001b[32m━━━━━━━━━━━━━━━━━━━━\u001b[0m\u001b[37m\u001b[0m \u001b[1m0s\u001b[0m 8ms/step - loss: 120.9068 - val_loss: 623.7731\n",
            "Epoch 40/100\n",
            "\u001b[1m 1/18\u001b[0m \u001b[32m━\u001b[0m\u001b[37m━━━━━━━━━━━━━━━━━━━\u001b[0m \u001b[1m2s\u001b[0m 167ms/step - loss: 89.2684\n",
            "Epoch 40: val_loss did not improve from 623.77307\n",
            "\u001b[1m18/18\u001b[0m \u001b[32m━━━━━━━━━━━━━━━━━━━━\u001b[0m\u001b[37m\u001b[0m \u001b[1m0s\u001b[0m 6ms/step - loss: 104.0018 - val_loss: 631.7720\n",
            "Epoch 41/100\n",
            "\u001b[1m 1/18\u001b[0m \u001b[32m━\u001b[0m\u001b[37m━━━━━━━━━━━━━━━━━━━\u001b[0m \u001b[1m3s\u001b[0m 190ms/step - loss: 121.7095\n",
            "Epoch 41: val_loss did not improve from 623.77307\n",
            "\u001b[1m18/18\u001b[0m \u001b[32m━━━━━━━━━━━━━━━━━━━━\u001b[0m\u001b[37m\u001b[0m \u001b[1m0s\u001b[0m 7ms/step - loss: 115.8356 - val_loss: 626.6410\n",
            "Epoch 42/100\n",
            "\u001b[1m 1/18\u001b[0m \u001b[32m━\u001b[0m\u001b[37m━━━━━━━━━━━━━━━━━━━\u001b[0m \u001b[1m3s\u001b[0m 181ms/step - loss: 101.7352\n",
            "Epoch 42: val_loss did not improve from 623.77307\n",
            "\u001b[1m18/18\u001b[0m \u001b[32m━━━━━━━━━━━━━━━━━━━━\u001b[0m\u001b[37m\u001b[0m \u001b[1m0s\u001b[0m 6ms/step - loss: 116.3852 - val_loss: 745.6955\n",
            "Epoch 43/100\n",
            "\u001b[1m 1/18\u001b[0m \u001b[32m━\u001b[0m\u001b[37m━━━━━━━━━━━━━━━━━━━\u001b[0m \u001b[1m0s\u001b[0m 45ms/step - loss: 143.3072\n",
            "Epoch 43: val_loss did not improve from 623.77307\n",
            "\u001b[1m18/18\u001b[0m \u001b[32m━━━━━━━━━━━━━━━━━━━━\u001b[0m\u001b[37m\u001b[0m \u001b[1m0s\u001b[0m 6ms/step - loss: 129.3969 - val_loss: 679.8759\n",
            "Epoch 44/100\n",
            "\u001b[1m 1/18\u001b[0m \u001b[32m━\u001b[0m\u001b[37m━━━━━━━━━━━━━━━━━━━\u001b[0m \u001b[1m3s\u001b[0m 196ms/step - loss: 87.7057\n",
            "Epoch 44: val_loss improved from 623.77307 to 600.65369, saving model to model_experiments/model_1_dense.keras\n",
            "\u001b[1m18/18\u001b[0m \u001b[32m━━━━━━━━━━━━━━━━━━━━\u001b[0m\u001b[37m\u001b[0m \u001b[1m0s\u001b[0m 8ms/step - loss: 119.5199 - val_loss: 600.6537\n",
            "Epoch 45/100\n",
            "\u001b[1m13/18\u001b[0m \u001b[32m━━━━━━━━━━━━━━\u001b[0m\u001b[37m━━━━━━\u001b[0m \u001b[1m0s\u001b[0m 4ms/step - loss: 122.4605  \n",
            "Epoch 45: val_loss did not improve from 600.65369\n",
            "\u001b[1m18/18\u001b[0m \u001b[32m━━━━━━━━━━━━━━━━━━━━\u001b[0m\u001b[37m\u001b[0m \u001b[1m0s\u001b[0m 9ms/step - loss: 120.0949 - val_loss: 607.9621\n",
            "Epoch 46/100\n",
            "\u001b[1m 1/18\u001b[0m \u001b[32m━\u001b[0m\u001b[37m━━━━━━━━━━━━━━━━━━━\u001b[0m \u001b[1m0s\u001b[0m 54ms/step - loss: 121.2738\n",
            "Epoch 46: val_loss did not improve from 600.65369\n",
            "\u001b[1m18/18\u001b[0m \u001b[32m━━━━━━━━━━━━━━━━━━━━\u001b[0m\u001b[37m\u001b[0m \u001b[1m0s\u001b[0m 4ms/step - loss: 113.5992 - val_loss: 659.4599\n",
            "Epoch 47/100\n",
            "\u001b[1m 1/18\u001b[0m \u001b[32m━\u001b[0m\u001b[37m━━━━━━━━━━━━━━━━━━━\u001b[0m \u001b[1m1s\u001b[0m 76ms/step - loss: 134.4965\n",
            "Epoch 47: val_loss did not improve from 600.65369\n",
            "\u001b[1m18/18\u001b[0m \u001b[32m━━━━━━━━━━━━━━━━━━━━\u001b[0m\u001b[37m\u001b[0m \u001b[1m0s\u001b[0m 4ms/step - loss: 130.1343 - val_loss: 695.7784\n",
            "Epoch 48/100\n",
            "\u001b[1m 1/18\u001b[0m \u001b[32m━\u001b[0m\u001b[37m━━━━━━━━━━━━━━━━━━━\u001b[0m \u001b[1m1s\u001b[0m 74ms/step - loss: 164.0632\n",
            "Epoch 48: val_loss did not improve from 600.65369\n",
            "\u001b[1m18/18\u001b[0m \u001b[32m━━━━━━━━━━━━━━━━━━━━\u001b[0m\u001b[37m\u001b[0m \u001b[1m0s\u001b[0m 4ms/step - loss: 134.9638 - val_loss: 604.4660\n",
            "Epoch 49/100\n",
            "\u001b[1m 1/18\u001b[0m \u001b[32m━\u001b[0m\u001b[37m━━━━━━━━━━━━━━━━━━━\u001b[0m \u001b[1m1s\u001b[0m 76ms/step - loss: 88.3596\n",
            "Epoch 49: val_loss did not improve from 600.65369\n",
            "\u001b[1m18/18\u001b[0m \u001b[32m━━━━━━━━━━━━━━━━━━━━\u001b[0m\u001b[37m\u001b[0m \u001b[1m0s\u001b[0m 3ms/step - loss: 113.0519 - val_loss: 602.2346\n",
            "Epoch 50/100\n",
            "\u001b[1m 1/18\u001b[0m \u001b[32m━\u001b[0m\u001b[37m━━━━━━━━━━━━━━━━━━━\u001b[0m \u001b[1m1s\u001b[0m 78ms/step - loss: 97.4843\n",
            "Epoch 50: val_loss improved from 600.65369 to 600.23676, saving model to model_experiments/model_1_dense.keras\n",
            "\u001b[1m18/18\u001b[0m \u001b[32m━━━━━━━━━━━━━━━━━━━━\u001b[0m\u001b[37m\u001b[0m \u001b[1m0s\u001b[0m 5ms/step - loss: 112.5514 - val_loss: 600.2368\n",
            "Epoch 51/100\n",
            "\u001b[1m 1/18\u001b[0m \u001b[32m━\u001b[0m\u001b[37m━━━━━━━━━━━━━━━━━━━\u001b[0m \u001b[1m0s\u001b[0m 52ms/step - loss: 80.1146\n",
            "Epoch 51: val_loss did not improve from 600.23676\n",
            "\u001b[1m18/18\u001b[0m \u001b[32m━━━━━━━━━━━━━━━━━━━━\u001b[0m\u001b[37m\u001b[0m \u001b[1m0s\u001b[0m 4ms/step - loss: 104.3487 - val_loss: 600.5579\n",
            "Epoch 52/100\n",
            "\u001b[1m 1/18\u001b[0m \u001b[32m━\u001b[0m\u001b[37m━━━━━━━━━━━━━━━━━━━\u001b[0m \u001b[1m1s\u001b[0m 64ms/step - loss: 112.4874\n",
            "Epoch 52: val_loss did not improve from 600.23676\n",
            "\u001b[1m18/18\u001b[0m \u001b[32m━━━━━━━━━━━━━━━━━━━━\u001b[0m\u001b[37m\u001b[0m \u001b[1m0s\u001b[0m 5ms/step - loss: 112.7570 - val_loss: 604.6306\n",
            "Epoch 53/100\n",
            "\u001b[1m 1/18\u001b[0m \u001b[32m━\u001b[0m\u001b[37m━━━━━━━━━━━━━━━━━━━\u001b[0m \u001b[1m0s\u001b[0m 46ms/step - loss: 98.1163\n",
            "Epoch 53: val_loss did not improve from 600.23676\n",
            "\u001b[1m18/18\u001b[0m \u001b[32m━━━━━━━━━━━━━━━━━━━━\u001b[0m\u001b[37m\u001b[0m \u001b[1m0s\u001b[0m 4ms/step - loss: 107.0354 - val_loss: 672.8055\n",
            "Epoch 54/100\n",
            "\u001b[1m 1/18\u001b[0m \u001b[32m━\u001b[0m\u001b[37m━━━━━━━━━━━━━━━━━━━\u001b[0m \u001b[1m1s\u001b[0m 65ms/step - loss: 96.3117\n",
            "Epoch 54: val_loss did not improve from 600.23676\n",
            "\u001b[1m18/18\u001b[0m \u001b[32m━━━━━━━━━━━━━━━━━━━━\u001b[0m\u001b[37m\u001b[0m \u001b[1m0s\u001b[0m 4ms/step - loss: 111.8307 - val_loss: 645.1069\n",
            "Epoch 55/100\n",
            "\u001b[1m 1/18\u001b[0m \u001b[32m━\u001b[0m\u001b[37m━━━━━━━━━━━━━━━━━━━\u001b[0m \u001b[1m0s\u001b[0m 27ms/step - loss: 142.8447\n",
            "Epoch 55: val_loss did not improve from 600.23676\n",
            "\u001b[1m18/18\u001b[0m \u001b[32m━━━━━━━━━━━━━━━━━━━━\u001b[0m\u001b[37m\u001b[0m \u001b[1m0s\u001b[0m 4ms/step - loss: 119.2392 - val_loss: 610.8176\n",
            "Epoch 56/100\n",
            "\u001b[1m 1/18\u001b[0m \u001b[32m━\u001b[0m\u001b[37m━━━━━━━━━━━━━━━━━━━\u001b[0m \u001b[1m1s\u001b[0m 75ms/step - loss: 84.7433\n",
            "Epoch 56: val_loss improved from 600.23676 to 589.43726, saving model to model_experiments/model_1_dense.keras\n",
            "\u001b[1m18/18\u001b[0m \u001b[32m━━━━━━━━━━━━━━━━━━━━\u001b[0m\u001b[37m\u001b[0m \u001b[1m0s\u001b[0m 6ms/step - loss: 111.0845 - val_loss: 589.4373\n",
            "Epoch 57/100\n",
            "\u001b[1m 1/18\u001b[0m \u001b[32m━\u001b[0m\u001b[37m━━━━━━━━━━━━━━━━━━━\u001b[0m \u001b[1m0s\u001b[0m 42ms/step - loss: 116.9620\n",
            "Epoch 57: val_loss did not improve from 589.43726\n",
            "\u001b[1m18/18\u001b[0m \u001b[32m━━━━━━━━━━━━━━━━━━━━\u001b[0m\u001b[37m\u001b[0m \u001b[1m0s\u001b[0m 4ms/step - loss: 117.2266 - val_loss: 589.7493\n",
            "Epoch 58/100\n",
            "\u001b[1m 1/18\u001b[0m \u001b[32m━\u001b[0m\u001b[37m━━━━━━━━━━━━━━━━━━━\u001b[0m \u001b[1m0s\u001b[0m 28ms/step - loss: 117.7163\n",
            "Epoch 58: val_loss did not improve from 589.43726\n",
            "\u001b[1m18/18\u001b[0m \u001b[32m━━━━━━━━━━━━━━━━━━━━\u001b[0m\u001b[37m\u001b[0m \u001b[1m0s\u001b[0m 3ms/step - loss: 114.2867 - val_loss: 592.9424\n",
            "Epoch 59/100\n",
            "\u001b[1m 1/18\u001b[0m \u001b[32m━\u001b[0m\u001b[37m━━━━━━━━━━━━━━━━━━━\u001b[0m \u001b[1m1s\u001b[0m 79ms/step - loss: 103.8343\n",
            "Epoch 59: val_loss did not improve from 589.43726\n",
            "\u001b[1m18/18\u001b[0m \u001b[32m━━━━━━━━━━━━━━━━━━━━\u001b[0m\u001b[37m\u001b[0m \u001b[1m0s\u001b[0m 4ms/step - loss: 109.9242 - val_loss: 602.2537\n",
            "Epoch 60/100\n",
            "\u001b[1m 1/18\u001b[0m \u001b[32m━\u001b[0m\u001b[37m━━━━━━━━━━━━━━━━━━━\u001b[0m \u001b[1m1s\u001b[0m 73ms/step - loss: 113.0364\n",
            "Epoch 60: val_loss improved from 589.43726 to 586.19409, saving model to model_experiments/model_1_dense.keras\n",
            "\u001b[1m18/18\u001b[0m \u001b[32m━━━━━━━━━━━━━━━━━━━━\u001b[0m\u001b[37m\u001b[0m \u001b[1m0s\u001b[0m 7ms/step - loss: 118.5738 - val_loss: 586.1941\n",
            "Epoch 61/100\n",
            "\u001b[1m 1/18\u001b[0m \u001b[32m━\u001b[0m\u001b[37m━━━━━━━━━━━━━━━━━━━\u001b[0m \u001b[1m0s\u001b[0m 30ms/step - loss: 137.5460\n",
            "Epoch 61: val_loss did not improve from 586.19409\n",
            "\u001b[1m18/18\u001b[0m \u001b[32m━━━━━━━━━━━━━━━━━━━━\u001b[0m\u001b[37m\u001b[0m \u001b[1m0s\u001b[0m 5ms/step - loss: 115.6876 - val_loss: 590.6298\n",
            "Epoch 62/100\n",
            "\u001b[1m 1/18\u001b[0m \u001b[32m━\u001b[0m\u001b[37m━━━━━━━━━━━━━━━━━━━\u001b[0m \u001b[1m0s\u001b[0m 29ms/step - loss: 151.6371\n",
            "Epoch 62: val_loss did not improve from 586.19409\n",
            "\u001b[1m18/18\u001b[0m \u001b[32m━━━━━━━━━━━━━━━━━━━━\u001b[0m\u001b[37m\u001b[0m \u001b[1m0s\u001b[0m 3ms/step - loss: 120.4326 - val_loss: 613.6699\n",
            "Epoch 63/100\n",
            "\u001b[1m 1/18\u001b[0m \u001b[32m━\u001b[0m\u001b[37m━━━━━━━━━━━━━━━━━━━\u001b[0m \u001b[1m0s\u001b[0m 29ms/step - loss: 116.9939\n",
            "Epoch 63: val_loss improved from 586.19409 to 584.91833, saving model to model_experiments/model_1_dense.keras\n",
            "\u001b[1m18/18\u001b[0m \u001b[32m━━━━━━━━━━━━━━━━━━━━\u001b[0m\u001b[37m\u001b[0m \u001b[1m0s\u001b[0m 5ms/step - loss: 111.1528 - val_loss: 584.9183\n",
            "Epoch 64/100\n",
            "\u001b[1m 1/18\u001b[0m \u001b[32m━\u001b[0m\u001b[37m━━━━━━━━━━━━━━━━━━━\u001b[0m \u001b[1m0s\u001b[0m 29ms/step - loss: 160.6913\n",
            "Epoch 64: val_loss did not improve from 584.91833\n",
            "\u001b[1m18/18\u001b[0m \u001b[32m━━━━━━━━━━━━━━━━━━━━\u001b[0m\u001b[37m\u001b[0m \u001b[1m0s\u001b[0m 4ms/step - loss: 120.2468 - val_loss: 729.9247\n",
            "Epoch 65/100\n",
            "\u001b[1m 1/18\u001b[0m \u001b[32m━\u001b[0m\u001b[37m━━━━━━━━━━━━━━━━━━━\u001b[0m \u001b[1m0s\u001b[0m 29ms/step - loss: 151.8196\n",
            "Epoch 65: val_loss improved from 584.91833 to 581.30035, saving model to model_experiments/model_1_dense.keras\n",
            "\u001b[1m18/18\u001b[0m \u001b[32m━━━━━━━━━━━━━━━━━━━━\u001b[0m\u001b[37m\u001b[0m \u001b[1m0s\u001b[0m 6ms/step - loss: 122.6469 - val_loss: 581.3004\n",
            "Epoch 66/100\n",
            "\u001b[1m 1/18\u001b[0m \u001b[32m━\u001b[0m\u001b[37m━━━━━━━━━━━━━━━━━━━\u001b[0m \u001b[1m0s\u001b[0m 43ms/step - loss: 114.7189\n",
            "Epoch 66: val_loss did not improve from 581.30035\n",
            "\u001b[1m18/18\u001b[0m \u001b[32m━━━━━━━━━━━━━━━━━━━━\u001b[0m\u001b[37m\u001b[0m \u001b[1m0s\u001b[0m 4ms/step - loss: 108.8285 - val_loss: 581.5955\n",
            "Epoch 67/100\n",
            "\u001b[1m 1/18\u001b[0m \u001b[32m━\u001b[0m\u001b[37m━━━━━━━━━━━━━━━━━━━\u001b[0m \u001b[1m1s\u001b[0m 77ms/step - loss: 113.5626\n",
            "Epoch 67: val_loss did not improve from 581.30035\n",
            "\u001b[1m18/18\u001b[0m \u001b[32m━━━━━━━━━━━━━━━━━━━━\u001b[0m\u001b[37m\u001b[0m \u001b[1m0s\u001b[0m 4ms/step - loss: 114.3855 - val_loss: 596.8759\n",
            "Epoch 68/100\n",
            "\u001b[1m 1/18\u001b[0m \u001b[32m━\u001b[0m\u001b[37m━━━━━━━━━━━━━━━━━━━\u001b[0m \u001b[1m1s\u001b[0m 66ms/step - loss: 111.3919\n",
            "Epoch 68: val_loss did not improve from 581.30035\n",
            "\u001b[1m18/18\u001b[0m \u001b[32m━━━━━━━━━━━━━━━━━━━━\u001b[0m\u001b[37m\u001b[0m \u001b[1m0s\u001b[0m 5ms/step - loss: 108.1166 - val_loss: 585.9962\n",
            "Epoch 69/100\n",
            "\u001b[1m 1/18\u001b[0m \u001b[32m━\u001b[0m\u001b[37m━━━━━━━━━━━━━━━━━━━\u001b[0m \u001b[1m0s\u001b[0m 32ms/step - loss: 102.3628\n",
            "Epoch 69: val_loss did not improve from 581.30035\n",
            "\u001b[1m18/18\u001b[0m \u001b[32m━━━━━━━━━━━━━━━━━━━━\u001b[0m\u001b[37m\u001b[0m \u001b[1m0s\u001b[0m 3ms/step - loss: 105.4472 - val_loss: 584.5107\n",
            "Epoch 70/100\n",
            "\u001b[1m 1/18\u001b[0m \u001b[32m━\u001b[0m\u001b[37m━━━━━━━━━━━━━━━━━━━\u001b[0m \u001b[1m0s\u001b[0m 28ms/step - loss: 110.9742\n",
            "Epoch 70: val_loss did not improve from 581.30035\n",
            "\u001b[1m18/18\u001b[0m \u001b[32m━━━━━━━━━━━━━━━━━━━━\u001b[0m\u001b[37m\u001b[0m \u001b[1m0s\u001b[0m 4ms/step - loss: 111.1290 - val_loss: 591.2122\n",
            "Epoch 71/100\n",
            "\u001b[1m 1/18\u001b[0m \u001b[32m━\u001b[0m\u001b[37m━━━━━━━━━━━━━━━━━━━\u001b[0m \u001b[1m0s\u001b[0m 29ms/step - loss: 84.7621\n",
            "Epoch 71: val_loss improved from 581.30035 to 580.62366, saving model to model_experiments/model_1_dense.keras\n",
            "\u001b[1m18/18\u001b[0m \u001b[32m━━━━━━━━━━━━━━━━━━━━\u001b[0m\u001b[37m\u001b[0m \u001b[1m0s\u001b[0m 5ms/step - loss: 101.7521 - val_loss: 580.6237\n",
            "Epoch 72/100\n",
            "\u001b[1m 1/18\u001b[0m \u001b[32m━\u001b[0m\u001b[37m━━━━━━━━━━━━━━━━━━━\u001b[0m \u001b[1m0s\u001b[0m 58ms/step - loss: 119.4382\n",
            "Epoch 72: val_loss did not improve from 580.62366\n",
            "\u001b[1m18/18\u001b[0m \u001b[32m━━━━━━━━━━━━━━━━━━━━\u001b[0m\u001b[37m\u001b[0m \u001b[1m0s\u001b[0m 4ms/step - loss: 112.5613 - val_loss: 605.9050\n",
            "Epoch 73/100\n",
            "\u001b[1m 1/18\u001b[0m \u001b[32m━\u001b[0m\u001b[37m━━━━━━━━━━━━━━━━━━━\u001b[0m \u001b[1m0s\u001b[0m 30ms/step - loss: 77.3330\n",
            "Epoch 73: val_loss did not improve from 580.62366\n",
            "\u001b[1m18/18\u001b[0m \u001b[32m━━━━━━━━━━━━━━━━━━━━\u001b[0m\u001b[37m\u001b[0m \u001b[1m0s\u001b[0m 3ms/step - loss: 105.4376 - val_loss: 582.0172\n",
            "Epoch 74/100\n",
            "\u001b[1m 1/18\u001b[0m \u001b[32m━\u001b[0m\u001b[37m━━━━━━━━━━━━━━━━━━━\u001b[0m \u001b[1m0s\u001b[0m 28ms/step - loss: 85.0998\n",
            "Epoch 74: val_loss did not improve from 580.62366\n",
            "\u001b[1m18/18\u001b[0m \u001b[32m━━━━━━━━━━━━━━━━━━━━\u001b[0m\u001b[37m\u001b[0m \u001b[1m0s\u001b[0m 4ms/step - loss: 100.7180 - val_loss: 728.7499\n",
            "Epoch 75/100\n",
            "\u001b[1m 1/18\u001b[0m \u001b[32m━\u001b[0m\u001b[37m━━━━━━━━━━━━━━━━━━━\u001b[0m \u001b[1m1s\u001b[0m 63ms/step - loss: 99.4955\n",
            "Epoch 75: val_loss did not improve from 580.62366\n",
            "\u001b[1m18/18\u001b[0m \u001b[32m━━━━━━━━━━━━━━━━━━━━\u001b[0m\u001b[37m\u001b[0m \u001b[1m0s\u001b[0m 5ms/step - loss: 112.1769 - val_loss: 615.7411\n",
            "Epoch 76/100\n",
            "\u001b[1m 1/18\u001b[0m \u001b[32m━\u001b[0m\u001b[37m━━━━━━━━━━━━━━━━━━━\u001b[0m \u001b[1m0s\u001b[0m 55ms/step - loss: 132.9620\n",
            "Epoch 76: val_loss did not improve from 580.62366\n",
            "\u001b[1m18/18\u001b[0m \u001b[32m━━━━━━━━━━━━━━━━━━━━\u001b[0m\u001b[37m\u001b[0m \u001b[1m0s\u001b[0m 5ms/step - loss: 120.0432 - val_loss: 629.5593\n",
            "Epoch 77/100\n",
            "\u001b[1m 1/18\u001b[0m \u001b[32m━\u001b[0m\u001b[37m━━━━━━━━━━━━━━━━━━━\u001b[0m \u001b[1m0s\u001b[0m 53ms/step - loss: 115.8447\n",
            "Epoch 77: val_loss did not improve from 580.62366\n",
            "\u001b[1m18/18\u001b[0m \u001b[32m━━━━━━━━━━━━━━━━━━━━\u001b[0m\u001b[37m\u001b[0m \u001b[1m0s\u001b[0m 4ms/step - loss: 110.4953 - val_loss: 693.3739\n",
            "Epoch 78/100\n",
            "\u001b[1m 1/18\u001b[0m \u001b[32m━\u001b[0m\u001b[37m━━━━━━━━━━━━━━━━━━━\u001b[0m \u001b[1m0s\u001b[0m 28ms/step - loss: 141.2398\n",
            "Epoch 78: val_loss did not improve from 580.62366\n",
            "\u001b[1m18/18\u001b[0m \u001b[32m━━━━━━━━━━━━━━━━━━━━\u001b[0m\u001b[37m\u001b[0m \u001b[1m0s\u001b[0m 4ms/step - loss: 116.5714 - val_loss: 602.2267\n",
            "Epoch 79/100\n",
            "\u001b[1m 1/18\u001b[0m \u001b[32m━\u001b[0m\u001b[37m━━━━━━━━━━━━━━━━━━━\u001b[0m \u001b[1m0s\u001b[0m 27ms/step - loss: 102.5439\n",
            "Epoch 79: val_loss improved from 580.62366 to 578.59869, saving model to model_experiments/model_1_dense.keras\n",
            "\u001b[1m18/18\u001b[0m \u001b[32m━━━━━━━━━━━━━━━━━━━━\u001b[0m\u001b[37m\u001b[0m \u001b[1m0s\u001b[0m 4ms/step - loss: 110.1454 - val_loss: 578.5987\n",
            "Epoch 80/100\n",
            "\u001b[1m 1/18\u001b[0m \u001b[32m━\u001b[0m\u001b[37m━━━━━━━━━━━━━━━━━━━\u001b[0m \u001b[1m1s\u001b[0m 63ms/step - loss: 90.6252\n",
            "Epoch 80: val_loss did not improve from 578.59869\n",
            "\u001b[1m18/18\u001b[0m \u001b[32m━━━━━━━━━━━━━━━━━━━━\u001b[0m\u001b[37m\u001b[0m \u001b[1m0s\u001b[0m 4ms/step - loss: 103.3284 - val_loss: 650.3669\n",
            "Epoch 81/100\n",
            "\u001b[1m 1/18\u001b[0m \u001b[32m━\u001b[0m\u001b[37m━━━━━━━━━━━━━━━━━━━\u001b[0m \u001b[1m1s\u001b[0m 75ms/step - loss: 130.2631\n",
            "Epoch 81: val_loss did not improve from 578.59869\n",
            "\u001b[1m18/18\u001b[0m \u001b[32m━━━━━━━━━━━━━━━━━━━━\u001b[0m\u001b[37m\u001b[0m \u001b[1m0s\u001b[0m 4ms/step - loss: 115.1494 - val_loss: 587.6033\n",
            "Epoch 82/100\n",
            "\u001b[1m 1/18\u001b[0m \u001b[32m━\u001b[0m\u001b[37m━━━━━━━━━━━━━━━━━━━\u001b[0m \u001b[1m1s\u001b[0m 69ms/step - loss: 100.5250\n",
            "Epoch 82: val_loss did not improve from 578.59869\n",
            "\u001b[1m18/18\u001b[0m \u001b[32m━━━━━━━━━━━━━━━━━━━━\u001b[0m\u001b[37m\u001b[0m \u001b[1m0s\u001b[0m 4ms/step - loss: 106.6706 - val_loss: 605.2863\n",
            "Epoch 83/100\n",
            "\u001b[1m 1/18\u001b[0m \u001b[32m━\u001b[0m\u001b[37m━━━━━━━━━━━━━━━━━━━\u001b[0m \u001b[1m1s\u001b[0m 68ms/step - loss: 129.4782\n",
            "Epoch 83: val_loss did not improve from 578.59869\n",
            "\u001b[1m18/18\u001b[0m \u001b[32m━━━━━━━━━━━━━━━━━━━━\u001b[0m\u001b[37m\u001b[0m \u001b[1m0s\u001b[0m 4ms/step - loss: 110.4444 - val_loss: 580.7590\n",
            "Epoch 84/100\n",
            "\u001b[1m 1/18\u001b[0m \u001b[32m━\u001b[0m\u001b[37m━━━━━━━━━━━━━━━━━━━\u001b[0m \u001b[1m0s\u001b[0m 36ms/step - loss: 156.1561\n",
            "Epoch 84: val_loss did not improve from 578.59869\n",
            "\u001b[1m18/18\u001b[0m \u001b[32m━━━━━━━━━━━━━━━━━━━━\u001b[0m\u001b[37m\u001b[0m \u001b[1m0s\u001b[0m 5ms/step - loss: 115.5291 - val_loss: 650.1039\n",
            "Epoch 85/100\n",
            "\u001b[1m 1/18\u001b[0m \u001b[32m━\u001b[0m\u001b[37m━━━━━━━━━━━━━━━━━━━\u001b[0m \u001b[1m0s\u001b[0m 58ms/step - loss: 122.9561\n",
            "Epoch 85: val_loss did not improve from 578.59869\n",
            "\u001b[1m18/18\u001b[0m \u001b[32m━━━━━━━━━━━━━━━━━━━━\u001b[0m\u001b[37m\u001b[0m \u001b[1m0s\u001b[0m 4ms/step - loss: 112.2750 - val_loss: 595.0075\n",
            "Epoch 86/100\n",
            "\u001b[1m 1/18\u001b[0m \u001b[32m━\u001b[0m\u001b[37m━━━━━━━━━━━━━━━━━━━\u001b[0m \u001b[1m1s\u001b[0m 73ms/step - loss: 85.2948\n",
            "Epoch 86: val_loss did not improve from 578.59869\n",
            "\u001b[1m18/18\u001b[0m \u001b[32m━━━━━━━━━━━━━━━━━━━━\u001b[0m\u001b[37m\u001b[0m \u001b[1m0s\u001b[0m 4ms/step - loss: 103.0258 - val_loss: 672.7360\n",
            "Epoch 87/100\n",
            "\u001b[1m 1/18\u001b[0m \u001b[32m━\u001b[0m\u001b[37m━━━━━━━━━━━━━━━━━━━\u001b[0m \u001b[1m1s\u001b[0m 62ms/step - loss: 135.9079\n",
            "Epoch 87: val_loss improved from 578.59869 to 573.50824, saving model to model_experiments/model_1_dense.keras\n",
            "\u001b[1m18/18\u001b[0m \u001b[32m━━━━━━━━━━━━━━━━━━━━\u001b[0m\u001b[37m\u001b[0m \u001b[1m0s\u001b[0m 5ms/step - loss: 115.0628 - val_loss: 573.5082\n",
            "Epoch 88/100\n",
            "\u001b[1m 1/18\u001b[0m \u001b[32m━\u001b[0m\u001b[37m━━━━━━━━━━━━━━━━━━━\u001b[0m \u001b[1m0s\u001b[0m 30ms/step - loss: 108.8612\n",
            "Epoch 88: val_loss did not improve from 573.50824\n",
            "\u001b[1m18/18\u001b[0m \u001b[32m━━━━━━━━━━━━━━━━━━━━\u001b[0m\u001b[37m\u001b[0m \u001b[1m0s\u001b[0m 4ms/step - loss: 110.6796 - val_loss: 591.5786\n",
            "Epoch 89/100\n",
            "\u001b[1m 1/18\u001b[0m \u001b[32m━\u001b[0m\u001b[37m━━━━━━━━━━━━━━━━━━━\u001b[0m \u001b[1m1s\u001b[0m 75ms/step - loss: 95.3174\n",
            "Epoch 89: val_loss did not improve from 573.50824\n",
            "\u001b[1m18/18\u001b[0m \u001b[32m━━━━━━━━━━━━━━━━━━━━\u001b[0m\u001b[37m\u001b[0m \u001b[1m0s\u001b[0m 4ms/step - loss: 105.1123 - val_loss: 583.1088\n",
            "Epoch 90/100\n",
            "\u001b[1m 1/18\u001b[0m \u001b[32m━\u001b[0m\u001b[37m━━━━━━━━━━━━━━━━━━━\u001b[0m \u001b[1m1s\u001b[0m 73ms/step - loss: 89.6173\n",
            "Epoch 90: val_loss did not improve from 573.50824\n",
            "\u001b[1m18/18\u001b[0m \u001b[32m━━━━━━━━━━━━━━━━━━━━\u001b[0m\u001b[37m\u001b[0m \u001b[1m0s\u001b[0m 4ms/step - loss: 113.4781 - val_loss: 669.6266\n",
            "Epoch 91/100\n",
            "\u001b[1m 1/18\u001b[0m \u001b[32m━\u001b[0m\u001b[37m━━━━━━━━━━━━━━━━━━━\u001b[0m \u001b[1m1s\u001b[0m 61ms/step - loss: 140.6636\n",
            "Epoch 91: val_loss improved from 573.50824 to 572.54980, saving model to model_experiments/model_1_dense.keras\n",
            "\u001b[1m18/18\u001b[0m \u001b[32m━━━━━━━━━━━━━━━━━━━━\u001b[0m\u001b[37m\u001b[0m \u001b[1m0s\u001b[0m 6ms/step - loss: 114.1958 - val_loss: 572.5498\n",
            "Epoch 92/100\n",
            "\u001b[1m 1/18\u001b[0m \u001b[32m━\u001b[0m\u001b[37m━━━━━━━━━━━━━━━━━━━\u001b[0m \u001b[1m0s\u001b[0m 33ms/step - loss: 121.1479\n",
            "Epoch 92: val_loss did not improve from 572.54980\n",
            "\u001b[1m18/18\u001b[0m \u001b[32m━━━━━━━━━━━━━━━━━━━━\u001b[0m\u001b[37m\u001b[0m \u001b[1m0s\u001b[0m 4ms/step - loss: 110.0591 - val_loss: 595.9544\n",
            "Epoch 93/100\n",
            "\u001b[1m 1/18\u001b[0m \u001b[32m━\u001b[0m\u001b[37m━━━━━━━━━━━━━━━━━━━\u001b[0m \u001b[1m0s\u001b[0m 29ms/step - loss: 101.0922\n",
            "Epoch 93: val_loss improved from 572.54980 to 572.16089, saving model to model_experiments/model_1_dense.keras\n",
            "\u001b[1m18/18\u001b[0m \u001b[32m━━━━━━━━━━━━━━━━━━━━\u001b[0m\u001b[37m\u001b[0m \u001b[1m0s\u001b[0m 5ms/step - loss: 117.9557 - val_loss: 572.1609\n",
            "Epoch 94/100\n",
            "\u001b[1m 1/18\u001b[0m \u001b[32m━\u001b[0m\u001b[37m━━━━━━━━━━━━━━━━━━━\u001b[0m \u001b[1m0s\u001b[0m 32ms/step - loss: 111.6121\n",
            "Epoch 94: val_loss did not improve from 572.16089\n",
            "\u001b[1m18/18\u001b[0m \u001b[32m━━━━━━━━━━━━━━━━━━━━\u001b[0m\u001b[37m\u001b[0m \u001b[1m0s\u001b[0m 4ms/step - loss: 104.9032 - val_loss: 578.3192\n",
            "Epoch 95/100\n",
            "\u001b[1m 1/18\u001b[0m \u001b[32m━\u001b[0m\u001b[37m━━━━━━━━━━━━━━━━━━━\u001b[0m \u001b[1m0s\u001b[0m 29ms/step - loss: 107.1452\n",
            "Epoch 95: val_loss did not improve from 572.16089\n",
            "\u001b[1m18/18\u001b[0m \u001b[32m━━━━━━━━━━━━━━━━━━━━\u001b[0m\u001b[37m\u001b[0m \u001b[1m0s\u001b[0m 5ms/step - loss: 111.6207 - val_loss: 578.7372\n",
            "Epoch 96/100\n",
            "\u001b[1m 1/18\u001b[0m \u001b[32m━\u001b[0m\u001b[37m━━━━━━━━━━━━━━━━━━━\u001b[0m \u001b[1m1s\u001b[0m 59ms/step - loss: 92.4415\n",
            "Epoch 96: val_loss did not improve from 572.16089\n",
            "\u001b[1m18/18\u001b[0m \u001b[32m━━━━━━━━━━━━━━━━━━━━\u001b[0m\u001b[37m\u001b[0m \u001b[1m0s\u001b[0m 4ms/step - loss: 105.6105 - val_loss: 572.1704\n",
            "Epoch 97/100\n",
            "\u001b[1m 1/18\u001b[0m \u001b[32m━\u001b[0m\u001b[37m━━━━━━━━━━━━━━━━━━━\u001b[0m \u001b[1m1s\u001b[0m 69ms/step - loss: 124.5523\n",
            "Epoch 97: val_loss did not improve from 572.16089\n",
            "\u001b[1m18/18\u001b[0m \u001b[32m━━━━━━━━━━━━━━━━━━━━\u001b[0m\u001b[37m\u001b[0m \u001b[1m0s\u001b[0m 4ms/step - loss: 113.2903 - val_loss: 584.2748\n",
            "Epoch 98/100\n",
            "\u001b[1m 1/18\u001b[0m \u001b[32m━\u001b[0m\u001b[37m━━━━━━━━━━━━━━━━━━━\u001b[0m \u001b[1m1s\u001b[0m 67ms/step - loss: 106.2051\n",
            "Epoch 98: val_loss did not improve from 572.16089\n",
            "\u001b[1m18/18\u001b[0m \u001b[32m━━━━━━━━━━━━━━━━━━━━\u001b[0m\u001b[37m\u001b[0m \u001b[1m0s\u001b[0m 5ms/step - loss: 106.5932 - val_loss: 697.1795\n",
            "Epoch 99/100\n",
            "\u001b[1m 1/18\u001b[0m \u001b[32m━\u001b[0m\u001b[37m━━━━━━━━━━━━━━━━━━━\u001b[0m \u001b[1m0s\u001b[0m 49ms/step - loss: 108.5991\n",
            "Epoch 99: val_loss did not improve from 572.16089\n",
            "\u001b[1m18/18\u001b[0m \u001b[32m━━━━━━━━━━━━━━━━━━━━\u001b[0m\u001b[37m\u001b[0m \u001b[1m0s\u001b[0m 6ms/step - loss: 106.7923 - val_loss: 575.3201\n",
            "Epoch 100/100\n",
            "\u001b[1m 1/18\u001b[0m \u001b[32m━\u001b[0m\u001b[37m━━━━━━━━━━━━━━━━━━━\u001b[0m \u001b[1m0s\u001b[0m 37ms/step - loss: 132.6579\n",
            "Epoch 100: val_loss did not improve from 572.16089\n",
            "\u001b[1m18/18\u001b[0m \u001b[32m━━━━━━━━━━━━━━━━━━━━\u001b[0m\u001b[37m\u001b[0m \u001b[1m0s\u001b[0m 5ms/step - loss: 114.7179 - val_loss: 702.2128\n"
          ]
        },
        {
          "output_type": "execute_result",
          "data": {
            "text/plain": [
              "<keras.src.callbacks.history.History at 0x7af234a1a2f0>"
            ]
          },
          "metadata": {},
          "execution_count": 175
        }
      ]
    },
    {
      "cell_type": "code",
      "source": [
        "model_1.evaluate(test_windows, test_labels)"
      ],
      "metadata": {
        "colab": {
          "base_uri": "https://localhost:8080/"
        },
        "id": "aexGX3sRsBOr",
        "outputId": "7f89dd83-246d-4bf7-c414-59db7e709eb4"
      },
      "execution_count": 176,
      "outputs": [
        {
          "output_type": "stream",
          "name": "stdout",
          "text": [
            "\u001b[1m18/18\u001b[0m \u001b[32m━━━━━━━━━━━━━━━━━━━━\u001b[0m\u001b[37m\u001b[0m \u001b[1m0s\u001b[0m 3ms/step - loss: 369.4746 \n"
          ]
        },
        {
          "output_type": "execute_result",
          "data": {
            "text/plain": [
              "702.2127685546875"
            ]
          },
          "metadata": {},
          "execution_count": 176
        }
      ]
    },
    {
      "cell_type": "code",
      "source": [
        "model_1 = tf.keras.models.load_model('/content/model_experiments/model_1_dense.keras')"
      ],
      "metadata": {
        "id": "8tb-7KPysJHd"
      },
      "execution_count": 271,
      "outputs": []
    },
    {
      "cell_type": "code",
      "source": [
        "model_1.evaluate(test_windows,test_labels)"
      ],
      "metadata": {
        "colab": {
          "base_uri": "https://localhost:8080/"
        },
        "id": "GqouNilO6Gdt",
        "outputId": "f63fadfa-f424-49c6-f639-3b48defeca7b"
      },
      "execution_count": 292,
      "outputs": [
        {
          "output_type": "stream",
          "name": "stdout",
          "text": [
            "\u001b[1m18/18\u001b[0m \u001b[32m━━━━━━━━━━━━━━━━━━━━\u001b[0m\u001b[37m\u001b[0m \u001b[1m0s\u001b[0m 1ms/step - loss: 285.4151  \n"
          ]
        },
        {
          "output_type": "execute_result",
          "data": {
            "text/plain": [
              "572.160888671875"
            ]
          },
          "metadata": {},
          "execution_count": 292
        }
      ]
    },
    {
      "cell_type": "code",
      "source": [
        "preds = model_1.predict(test_windows)"
      ],
      "metadata": {
        "colab": {
          "base_uri": "https://localhost:8080/"
        },
        "id": "Kb6fwR196vxs",
        "outputId": "c25203a3-3c25-4deb-f5a5-c93d93da418a"
      },
      "execution_count": 293,
      "outputs": [
        {
          "output_type": "stream",
          "name": "stdout",
          "text": [
            "\u001b[1m18/18\u001b[0m \u001b[32m━━━━━━━━━━━━━━━━━━━━\u001b[0m\u001b[37m\u001b[0m \u001b[1m0s\u001b[0m 3ms/step \n"
          ]
        }
      ]
    },
    {
      "cell_type": "code",
      "source": [],
      "metadata": {
        "id": "uNFe2Z356zmK"
      },
      "execution_count": 293,
      "outputs": []
    },
    {
      "cell_type": "markdown",
      "source": [
        "# **Making forecasts on test data**"
      ],
      "metadata": {
        "id": "QBenVXjK6gXo"
      }
    },
    {
      "cell_type": "code",
      "source": [
        "def make_preds(model, input_data):\n",
        "\n",
        "  preds = model.predict(input_data)\n",
        "  preds = tf.squeeze(preds)\n",
        "  return preds"
      ],
      "metadata": {
        "id": "Xhdmcyua6PQh"
      },
      "execution_count": 294,
      "outputs": []
    },
    {
      "cell_type": "code",
      "source": [
        "preds = make_preds(model_1, test_windows)\n",
        "preds.shape"
      ],
      "metadata": {
        "colab": {
          "base_uri": "https://localhost:8080/"
        },
        "id": "GCV3B2kk7KfA",
        "outputId": "08913cb4-e02a-44c8-c048-903c0dd22633"
      },
      "execution_count": 295,
      "outputs": [
        {
          "output_type": "stream",
          "name": "stdout",
          "text": [
            "\u001b[1m18/18\u001b[0m \u001b[32m━━━━━━━━━━━━━━━━━━━━\u001b[0m\u001b[37m\u001b[0m \u001b[1m0s\u001b[0m 1ms/step \n"
          ]
        },
        {
          "output_type": "execute_result",
          "data": {
            "text/plain": [
              "TensorShape([556])"
            ]
          },
          "metadata": {},
          "execution_count": 295
        }
      ]
    },
    {
      "cell_type": "code",
      "source": [
        "test_labels.shape"
      ],
      "metadata": {
        "colab": {
          "base_uri": "https://localhost:8080/"
        },
        "id": "XqPsGcBc7fEa",
        "outputId": "a8cfd00d-38cc-405e-9c36-84b680996672"
      },
      "execution_count": 296,
      "outputs": [
        {
          "output_type": "execute_result",
          "data": {
            "text/plain": [
              "(556, 1)"
            ]
          },
          "metadata": {},
          "execution_count": 296
        }
      ]
    },
    {
      "cell_type": "code",
      "source": [
        "model1_results = evaluate_preds(tf.squeeze(test_labels), preds)\n",
        "model1_results"
      ],
      "metadata": {
        "colab": {
          "base_uri": "https://localhost:8080/"
        },
        "id": "gRbIucEa7sAs",
        "outputId": "6b5a3b0b-326b-4f66-fe3f-d5ce15c6ba8e"
      },
      "execution_count": 298,
      "outputs": [
        {
          "output_type": "execute_result",
          "data": {
            "text/plain": [
              "{'mae': 572.1609,\n",
              " 'mse': 1179593.9,\n",
              " 'rmse': 1086.0911,\n",
              " 'mape': 2.5644608,\n",
              " 'mase': 1.0051283}"
            ]
          },
          "metadata": {},
          "execution_count": 298
        }
      ]
    },
    {
      "cell_type": "code",
      "source": [
        "naive_results"
      ],
      "metadata": {
        "colab": {
          "base_uri": "https://localhost:8080/"
        },
        "id": "wEuV9PtX75J5",
        "outputId": "22125639-cb7f-48e7-9d25-5703dd0fda33"
      },
      "execution_count": 190,
      "outputs": [
        {
          "output_type": "execute_result",
          "data": {
            "text/plain": [
              "{'mae': 567.9802,\n",
              " 'mse': 1147547.0,\n",
              " 'rmse': 1071.2362,\n",
              " 'mape': 2.5165248,\n",
              " 'mase': 0.99957}"
            ]
          },
          "metadata": {},
          "execution_count": 190
        }
      ]
    },
    {
      "cell_type": "code",
      "source": [
        "len(X_test), len(X_test[-len(test_windows):])"
      ],
      "metadata": {
        "colab": {
          "base_uri": "https://localhost:8080/"
        },
        "id": "L72WmkOi8lZD",
        "outputId": "f2a685a5-d35a-4d3f-fca2-77072d4f3772"
      },
      "execution_count": 200,
      "outputs": [
        {
          "output_type": "execute_result",
          "data": {
            "text/plain": [
              "(558, 556)"
            ]
          },
          "metadata": {},
          "execution_count": 200
        }
      ]
    },
    {
      "cell_type": "code",
      "source": [
        "offset = 300\n",
        "plot_time_series(X_test[-len(test_windows):], test_labels, start = offset)\n",
        "plot_time_series(X_test[-len(test_windows):], preds, format = '-', start = offset)"
      ],
      "metadata": {
        "colab": {
          "base_uri": "https://localhost:8080/",
          "height": 449
        },
        "id": "DTN-E-Ay8Fzf",
        "outputId": "6aabf19b-867f-4c35-bbd5-7d8790eea919"
      },
      "execution_count": 198,
      "outputs": [
        {
          "output_type": "display_data",
          "data": {
            "text/plain": [
              "<Figure size 640x480 with 1 Axes>"
            ],
            "image/png": "[encoded data removed]"
          },
          "metadata": {}
        }
      ]
    },
    {
      "cell_type": "markdown",
      "source": [
        "# **Dense model 2 window 30 and horizon 1**"
      ],
      "metadata": {
        "id": "ed69xXx7Aaoj"
      }
    },
    {
      "cell_type": "code",
      "source": [
        " full_windows, full_labels = make_windows(prices, window_size = 30, horizon = 1)"
      ],
      "metadata": {
        "id": "CBW883O38Ss4"
      },
      "execution_count": 202,
      "outputs": []
    },
    {
      "cell_type": "code",
      "source": [
        "full_windows[1].shape, full_labels[1]"
      ],
      "metadata": {
        "colab": {
          "base_uri": "https://localhost:8080/"
        },
        "id": "NvYkhZopAwGp",
        "outputId": "c598d11a-41cb-4ea8-da24-d97a7dadc9f7"
      },
      "execution_count": 206,
      "outputs": [
        {
          "output_type": "execute_result",
          "data": {
            "text/plain": [
              "((30,), array([198.04883]))"
            ]
          },
          "metadata": {},
          "execution_count": 206
        }
      ]
    },
    {
      "cell_type": "code",
      "source": [
        "train_windows,test_windows, train_labels,  test_labels =  make_train_test_splits(full_windows, full_labels)"
      ],
      "metadata": {
        "colab": {
          "base_uri": "https://localhost:8080/"
        },
        "id": "M9YbMUJUA1-T",
        "outputId": "ddc2cce4-ef7a-427a-f68f-ffd3d6ac6da9"
      },
      "execution_count": 209,
      "outputs": [
        {
          "output_type": "stream",
          "name": "stdout",
          "text": [
            "2205\n"
          ]
        }
      ]
    },
    {
      "cell_type": "code",
      "source": [
        "len(train_windows), len(train_labels), len(test_windows), len(test_labels)"
      ],
      "metadata": {
        "colab": {
          "base_uri": "https://localhost:8080/"
        },
        "id": "ayBblLXEBT_e",
        "outputId": "e6c6d4e8-6f84-4b57-d442-aeb2b091b53a"
      },
      "execution_count": 210,
      "outputs": [
        {
          "output_type": "execute_result",
          "data": {
            "text/plain": [
              "(2205, 2205, 552, 552)"
            ]
          },
          "metadata": {},
          "execution_count": 210
        }
      ]
    },
    {
      "cell_type": "markdown",
      "source": [
        "**model 2**"
      ],
      "metadata": {
        "id": "hB1bqvwjBwDJ"
      }
    },
    {
      "cell_type": "code",
      "source": [
        "model_2 = Sequential([\n",
        "    layers.Dense(128, 'relu'),\n",
        "    layers.Dense(HORIZON)\n",
        "])\n",
        "\n",
        "model_2.compile(loss = 'mae',\n",
        "                optimizer = tf.keras.optimizers.Adam())\n",
        "\n",
        "model_2.fit(train_windows,train_labels, epochs = 100, verbose = 0,\n",
        "            batch_size = 128, validation_data = (test_windows, test_labels),\n",
        "            callbacks = [create_model_checkpoint(model_name= 'model_2_dense')])"
      ],
      "metadata": {
        "colab": {
          "base_uri": "https://localhost:8080/"
        },
        "id": "R9oM_AvyBaSV",
        "outputId": "78105599-d476-44b2-f4fa-29025e4dd92d"
      },
      "execution_count": 218,
      "outputs": [
        {
          "output_type": "stream",
          "name": "stdout",
          "text": [
            "model_experiments/model_2_dense.keras\n",
            "\n",
            "Epoch 1: val_loss improved from inf to 4115.92529, saving model to model_experiments/model_2_dense.keras\n",
            "\n",
            "Epoch 2: val_loss improved from 4115.92529 to 2651.07959, saving model to model_experiments/model_2_dense.keras\n",
            "\n",
            "Epoch 3: val_loss improved from 2651.07959 to 1731.48364, saving model to model_experiments/model_2_dense.keras\n",
            "\n",
            "Epoch 4: val_loss improved from 1731.48364 to 1515.85168, saving model to model_experiments/model_2_dense.keras\n",
            "\n",
            "Epoch 5: val_loss improved from 1515.85168 to 1220.99304, saving model to model_experiments/model_2_dense.keras\n",
            "\n",
            "Epoch 6: val_loss improved from 1220.99304 to 1200.82434, saving model to model_experiments/model_2_dense.keras\n",
            "\n",
            "Epoch 7: val_loss improved from 1200.82434 to 1146.19275, saving model to model_experiments/model_2_dense.keras\n",
            "\n",
            "Epoch 8: val_loss improved from 1146.19275 to 1042.88782, saving model to model_experiments/model_2_dense.keras\n",
            "\n",
            "Epoch 9: val_loss improved from 1042.88782 to 1026.09827, saving model to model_experiments/model_2_dense.keras\n",
            "\n",
            "Epoch 10: val_loss improved from 1026.09827 to 992.97284, saving model to model_experiments/model_2_dense.keras\n",
            "\n",
            "Epoch 11: val_loss did not improve from 992.97284\n",
            "\n",
            "Epoch 12: val_loss did not improve from 992.97284\n",
            "\n",
            "Epoch 13: val_loss improved from 992.97284 to 943.47949, saving model to model_experiments/model_2_dense.keras\n",
            "\n",
            "Epoch 14: val_loss improved from 943.47949 to 938.52490, saving model to model_experiments/model_2_dense.keras\n",
            "\n",
            "Epoch 15: val_loss improved from 938.52490 to 864.84113, saving model to model_experiments/model_2_dense.keras\n",
            "\n",
            "Epoch 16: val_loss improved from 864.84113 to 846.19196, saving model to model_experiments/model_2_dense.keras\n",
            "\n",
            "Epoch 17: val_loss improved from 846.19196 to 840.66052, saving model to model_experiments/model_2_dense.keras\n",
            "\n",
            "Epoch 18: val_loss improved from 840.66052 to 821.09204, saving model to model_experiments/model_2_dense.keras\n",
            "\n",
            "Epoch 19: val_loss did not improve from 821.09204\n",
            "\n",
            "Epoch 20: val_loss improved from 821.09204 to 800.50262, saving model to model_experiments/model_2_dense.keras\n",
            "\n",
            "Epoch 21: val_loss improved from 800.50262 to 799.53271, saving model to model_experiments/model_2_dense.keras\n",
            "\n",
            "Epoch 22: val_loss improved from 799.53271 to 792.88477, saving model to model_experiments/model_2_dense.keras\n",
            "\n",
            "Epoch 23: val_loss did not improve from 792.88477\n",
            "\n",
            "Epoch 24: val_loss improved from 792.88477 to 774.37048, saving model to model_experiments/model_2_dense.keras\n",
            "\n",
            "Epoch 25: val_loss improved from 774.37048 to 757.02832, saving model to model_experiments/model_2_dense.keras\n",
            "\n",
            "Epoch 26: val_loss improved from 757.02832 to 746.44098, saving model to model_experiments/model_2_dense.keras\n",
            "\n",
            "Epoch 27: val_loss improved from 746.44098 to 744.27850, saving model to model_experiments/model_2_dense.keras\n",
            "\n",
            "Epoch 28: val_loss improved from 744.27850 to 736.83533, saving model to model_experiments/model_2_dense.keras\n",
            "\n",
            "Epoch 29: val_loss improved from 736.83533 to 729.61810, saving model to model_experiments/model_2_dense.keras\n",
            "\n",
            "Epoch 30: val_loss did not improve from 729.61810\n",
            "\n",
            "Epoch 31: val_loss improved from 729.61810 to 720.39349, saving model to model_experiments/model_2_dense.keras\n",
            "\n",
            "Epoch 32: val_loss did not improve from 720.39349\n",
            "\n",
            "Epoch 33: val_loss improved from 720.39349 to 714.51831, saving model to model_experiments/model_2_dense.keras\n",
            "\n",
            "Epoch 34: val_loss improved from 714.51831 to 709.20667, saving model to model_experiments/model_2_dense.keras\n",
            "\n",
            "Epoch 35: val_loss improved from 709.20667 to 705.20850, saving model to model_experiments/model_2_dense.keras\n",
            "\n",
            "Epoch 36: val_loss improved from 705.20850 to 702.41815, saving model to model_experiments/model_2_dense.keras\n",
            "\n",
            "Epoch 37: val_loss did not improve from 702.41815\n",
            "\n",
            "Epoch 38: val_loss did not improve from 702.41815\n",
            "\n",
            "Epoch 39: val_loss did not improve from 702.41815\n",
            "\n",
            "Epoch 40: val_loss improved from 702.41815 to 689.51758, saving model to model_experiments/model_2_dense.keras\n",
            "\n",
            "Epoch 41: val_loss improved from 689.51758 to 688.73865, saving model to model_experiments/model_2_dense.keras\n",
            "\n",
            "Epoch 42: val_loss improved from 688.73865 to 688.44580, saving model to model_experiments/model_2_dense.keras\n",
            "\n",
            "Epoch 43: val_loss did not improve from 688.44580\n",
            "\n",
            "Epoch 44: val_loss improved from 688.44580 to 678.03101, saving model to model_experiments/model_2_dense.keras\n",
            "\n",
            "Epoch 45: val_loss did not improve from 678.03101\n",
            "\n",
            "Epoch 46: val_loss improved from 678.03101 to 670.22211, saving model to model_experiments/model_2_dense.keras\n",
            "\n",
            "Epoch 47: val_loss did not improve from 670.22211\n",
            "\n",
            "Epoch 48: val_loss improved from 670.22211 to 665.32928, saving model to model_experiments/model_2_dense.keras\n",
            "\n",
            "Epoch 49: val_loss improved from 665.32928 to 664.02722, saving model to model_experiments/model_2_dense.keras\n",
            "\n",
            "Epoch 50: val_loss did not improve from 664.02722\n",
            "\n",
            "Epoch 51: val_loss did not improve from 664.02722\n",
            "\n",
            "Epoch 52: val_loss did not improve from 664.02722\n",
            "\n",
            "Epoch 53: val_loss did not improve from 664.02722\n",
            "\n",
            "Epoch 54: val_loss improved from 664.02722 to 660.30396, saving model to model_experiments/model_2_dense.keras\n",
            "\n",
            "Epoch 55: val_loss did not improve from 660.30396\n",
            "\n",
            "Epoch 56: val_loss did not improve from 660.30396\n",
            "\n",
            "Epoch 57: val_loss improved from 660.30396 to 651.40155, saving model to model_experiments/model_2_dense.keras\n",
            "\n",
            "Epoch 58: val_loss did not improve from 651.40155\n",
            "\n",
            "Epoch 59: val_loss did not improve from 651.40155\n",
            "\n",
            "Epoch 60: val_loss improved from 651.40155 to 650.95581, saving model to model_experiments/model_2_dense.keras\n",
            "\n",
            "Epoch 61: val_loss did not improve from 650.95581\n",
            "\n",
            "Epoch 62: val_loss improved from 650.95581 to 649.60034, saving model to model_experiments/model_2_dense.keras\n",
            "\n",
            "Epoch 63: val_loss did not improve from 649.60034\n",
            "\n",
            "Epoch 64: val_loss improved from 649.60034 to 641.81940, saving model to model_experiments/model_2_dense.keras\n",
            "\n",
            "Epoch 65: val_loss improved from 641.81940 to 640.78546, saving model to model_experiments/model_2_dense.keras\n",
            "\n",
            "Epoch 66: val_loss did not improve from 640.78546\n",
            "\n",
            "Epoch 67: val_loss improved from 640.78546 to 639.98572, saving model to model_experiments/model_2_dense.keras\n",
            "\n",
            "Epoch 68: val_loss did not improve from 639.98572\n",
            "\n",
            "Epoch 69: val_loss did not improve from 639.98572\n",
            "\n",
            "Epoch 70: val_loss did not improve from 639.98572\n",
            "\n",
            "Epoch 71: val_loss did not improve from 639.98572\n",
            "\n",
            "Epoch 72: val_loss did not improve from 639.98572\n",
            "\n",
            "Epoch 73: val_loss improved from 639.98572 to 636.97583, saving model to model_experiments/model_2_dense.keras\n",
            "\n",
            "Epoch 74: val_loss did not improve from 636.97583\n",
            "\n",
            "Epoch 75: val_loss did not improve from 636.97583\n",
            "\n",
            "Epoch 76: val_loss improved from 636.97583 to 633.19226, saving model to model_experiments/model_2_dense.keras\n",
            "\n",
            "Epoch 77: val_loss did not improve from 633.19226\n",
            "\n",
            "Epoch 78: val_loss did not improve from 633.19226\n",
            "\n",
            "Epoch 79: val_loss did not improve from 633.19226\n",
            "\n",
            "Epoch 80: val_loss did not improve from 633.19226\n",
            "\n",
            "Epoch 81: val_loss did not improve from 633.19226\n",
            "\n",
            "Epoch 82: val_loss improved from 633.19226 to 628.19031, saving model to model_experiments/model_2_dense.keras\n",
            "\n",
            "Epoch 83: val_loss did not improve from 628.19031\n",
            "\n",
            "Epoch 84: val_loss did not improve from 628.19031\n",
            "\n",
            "Epoch 85: val_loss did not improve from 628.19031\n",
            "\n",
            "Epoch 86: val_loss improved from 628.19031 to 626.27380, saving model to model_experiments/model_2_dense.keras\n",
            "\n",
            "Epoch 87: val_loss did not improve from 626.27380\n",
            "\n",
            "Epoch 88: val_loss improved from 626.27380 to 624.34454, saving model to model_experiments/model_2_dense.keras\n",
            "\n",
            "Epoch 89: val_loss did not improve from 624.34454\n",
            "\n",
            "Epoch 90: val_loss did not improve from 624.34454\n",
            "\n",
            "Epoch 91: val_loss did not improve from 624.34454\n",
            "\n",
            "Epoch 92: val_loss improved from 624.34454 to 621.91315, saving model to model_experiments/model_2_dense.keras\n",
            "\n",
            "Epoch 93: val_loss did not improve from 621.91315\n",
            "\n",
            "Epoch 94: val_loss did not improve from 621.91315\n",
            "\n",
            "Epoch 95: val_loss did not improve from 621.91315\n",
            "\n",
            "Epoch 96: val_loss did not improve from 621.91315\n",
            "\n",
            "Epoch 97: val_loss did not improve from 621.91315\n",
            "\n",
            "Epoch 98: val_loss did not improve from 621.91315\n",
            "\n",
            "Epoch 99: val_loss did not improve from 621.91315\n",
            "\n",
            "Epoch 100: val_loss did not improve from 621.91315\n"
          ]
        },
        {
          "output_type": "execute_result",
          "data": {
            "text/plain": [
              "<keras.src.callbacks.history.History at 0x7af227ff5840>"
            ]
          },
          "metadata": {},
          "execution_count": 218
        }
      ]
    },
    {
      "cell_type": "code",
      "source": [
        "model_2.evaluate(test_windows, test_labels)"
      ],
      "metadata": {
        "colab": {
          "base_uri": "https://localhost:8080/"
        },
        "id": "Eyn-1RSjB_DV",
        "outputId": "48dda665-4329-4445-ac39-d5d4453ff365"
      },
      "execution_count": 219,
      "outputs": [
        {
          "output_type": "stream",
          "name": "stdout",
          "text": [
            "\u001b[1m18/18\u001b[0m \u001b[32m━━━━━━━━━━━━━━━━━━━━\u001b[0m\u001b[37m\u001b[0m \u001b[1m0s\u001b[0m 1ms/step - loss: 350.8963 \n"
          ]
        },
        {
          "output_type": "execute_result",
          "data": {
            "text/plain": [
              "666.7863159179688"
            ]
          },
          "metadata": {},
          "execution_count": 219
        }
      ]
    },
    {
      "cell_type": "code",
      "source": [
        "model_2 = tf.keras.models.load_model('/content/model_experiments/model_2_dense.keras')"
      ],
      "metadata": {
        "id": "TxXrFdufC2oT"
      },
      "execution_count": 221,
      "outputs": []
    },
    {
      "cell_type": "code",
      "source": [
        "model_2.evaluate(test_windows, test_labels)"
      ],
      "metadata": {
        "colab": {
          "base_uri": "https://localhost:8080/"
        },
        "id": "hdnlxUx4F0fD",
        "outputId": "a5a8a45c-7f2b-47be-b6c5-60445278a6da"
      },
      "execution_count": 222,
      "outputs": [
        {
          "output_type": "stream",
          "name": "stdout",
          "text": [
            "\u001b[1m18/18\u001b[0m \u001b[32m━━━━━━━━━━━━━━━━━━━━\u001b[0m\u001b[37m\u001b[0m \u001b[1m1s\u001b[0m 4ms/step - loss: 315.0883\n"
          ]
        },
        {
          "output_type": "execute_result",
          "data": {
            "text/plain": [
              "621.9131469726562"
            ]
          },
          "metadata": {},
          "execution_count": 222
        }
      ]
    },
    {
      "cell_type": "code",
      "source": [
        "pred_2 = make_preds(model_2, test_windows)"
      ],
      "metadata": {
        "colab": {
          "base_uri": "https://localhost:8080/"
        },
        "id": "rX50BrHtF488",
        "outputId": "d5cc222c-1987-4d4d-fa59-e6ac8bfc247e"
      },
      "execution_count": 223,
      "outputs": [
        {
          "output_type": "stream",
          "name": "stdout",
          "text": [
            "\u001b[1m18/18\u001b[0m \u001b[32m━━━━━━━━━━━━━━━━━━━━\u001b[0m\u001b[37m\u001b[0m \u001b[1m0s\u001b[0m 3ms/step\n"
          ]
        }
      ]
    },
    {
      "cell_type": "code",
      "source": [
        "model_2_results = evaluate_preds(tf.squeeze(test_labels), pred_2)\n",
        "model_2_results"
      ],
      "metadata": {
        "colab": {
          "base_uri": "https://localhost:8080/"
        },
        "id": "E313MEYUGC7K",
        "outputId": "e6c96cc5-9cd0-4b06-d1d7-9ebffc696c0b"
      },
      "execution_count": 224,
      "outputs": [
        {
          "output_type": "execute_result",
          "data": {
            "text/plain": [
              "{'mae': 621.91315,\n",
              " 'mse': 1311167.2,\n",
              " 'rmse': 1145.0621,\n",
              " 'mape': 2.8170676,\n",
              " 'mase': 1.0871102}"
            ]
          },
          "metadata": {},
          "execution_count": 224
        }
      ]
    },
    {
      "cell_type": "code",
      "source": [
        "len(X_test)"
      ],
      "metadata": {
        "colab": {
          "base_uri": "https://localhost:8080/"
        },
        "id": "4gAkn9FrGnT5",
        "outputId": "f2d88948-e05c-44c2-a4e0-10e803597c18"
      },
      "execution_count": 227,
      "outputs": [
        {
          "output_type": "execute_result",
          "data": {
            "text/plain": [
              "558"
            ]
          },
          "metadata": {},
          "execution_count": 227
        }
      ]
    },
    {
      "cell_type": "code",
      "source": [
        "len(test_windows), len(test_labels)"
      ],
      "metadata": {
        "colab": {
          "base_uri": "https://localhost:8080/"
        },
        "id": "VsAqe8zfGzZc",
        "outputId": "115ce76f-e51f-4939-fcf3-2a069bc56244"
      },
      "execution_count": 230,
      "outputs": [
        {
          "output_type": "execute_result",
          "data": {
            "text/plain": [
              "(552, 552)"
            ]
          },
          "metadata": {},
          "execution_count": 230
        }
      ]
    },
    {
      "cell_type": "code",
      "source": [
        "plt.figure(figsize = (10,7))\n",
        "plot_time_series(X_test[-len(test_windows):], test_labels, start = 300)\n",
        "plot_time_series(X_test[-len(test_windows):], pred_2, start = 300, format = '-')"
      ],
      "metadata": {
        "colab": {
          "base_uri": "https://localhost:8080/",
          "height": 611
        },
        "id": "7hGVKIaSGUme",
        "outputId": "c5970430-3bf0-4065-eff7-24cdef837d2e"
      },
      "execution_count": 235,
      "outputs": [
        {
          "output_type": "display_data",
          "data": {
            "text/plain": [
              "<Figure size 1000x700 with 1 Axes>"
            ],
            "image/png": "[encoded data removed]"
          },
          "metadata": {}
        }
      ]
    },
    {
      "cell_type": "markdown",
      "source": [
        "**model 3 Dense window 30 horizon 7**"
      ],
      "metadata": {
        "id": "HOzJJ69HI5o-"
      }
    },
    {
      "cell_type": "code",
      "source": [
        "full_windows, full_labels = make_windows(prices, window_size = 30, horizon = 7)"
      ],
      "metadata": {
        "id": "ZJbtPGg_GjZq"
      },
      "execution_count": 236,
      "outputs": []
    },
    {
      "cell_type": "code",
      "source": [
        "full_windows[0].shape, full_labels[0].shape"
      ],
      "metadata": {
        "colab": {
          "base_uri": "https://localhost:8080/"
        },
        "id": "cOn9yrslJLK_",
        "outputId": "791a17c9-187c-46b6-ea89-c1307148097c"
      },
      "execution_count": 238,
      "outputs": [
        {
          "output_type": "execute_result",
          "data": {
            "text/plain": [
              "((30,), (7,))"
            ]
          },
          "metadata": {},
          "execution_count": 238
        }
      ]
    },
    {
      "cell_type": "code",
      "source": [
        "train_windows,test_windows, train_labels, test_labels = make_train_test_splits(full_windows, full_labels)"
      ],
      "metadata": {
        "colab": {
          "base_uri": "https://localhost:8080/"
        },
        "id": "xovMkLYrJN9K",
        "outputId": "868d0578-add7-4ad8-c353-4ed4a584cb74"
      },
      "execution_count": 239,
      "outputs": [
        {
          "output_type": "stream",
          "name": "stdout",
          "text": [
            "2200\n"
          ]
        }
      ]
    },
    {
      "cell_type": "code",
      "source": [
        "len(train_windows), len(test_windows),len(train_labels), len(test_labels)"
      ],
      "metadata": {
        "colab": {
          "base_uri": "https://localhost:8080/"
        },
        "id": "STzvEAaHJhSv",
        "outputId": "25872622-25bf-49e9-a4cb-6545a5768cfa"
      },
      "execution_count": 240,
      "outputs": [
        {
          "output_type": "execute_result",
          "data": {
            "text/plain": [
              "(2200, 551, 2200, 551)"
            ]
          },
          "metadata": {},
          "execution_count": 240
        }
      ]
    },
    {
      "cell_type": "code",
      "source": [
        "model_3 = Sequential([\n",
        "    layers.Dense(128, 'relu'),\n",
        "    layers.Dense(7)\n",
        "])\n",
        "\n",
        "model_3.compile(loss = 'mae',\n",
        "                optimizer = tf.keras.optimizers.Adam())\n",
        "\n",
        "model_3.fit(train_windows, train_labels, epochs = 100, batch_size = 128,\n",
        "            validation_data = (test_windows, test_labels),verbose = 0,\n",
        "            callbacks = [create_model_checkpoint('model_3_dense')])"
      ],
      "metadata": {
        "colab": {
          "base_uri": "https://localhost:8080/"
        },
        "id": "kP1NRJOkJq2K",
        "outputId": "1b8ff106-fc44-4bd1-fd00-9e0ae2ab3fe9"
      },
      "execution_count": 243,
      "outputs": [
        {
          "output_type": "stream",
          "name": "stdout",
          "text": [
            "model_experiments/model_3_dense.keras\n",
            "\n",
            "Epoch 1: val_loss improved from inf to 2829.51221, saving model to model_experiments/model_3_dense.keras\n",
            "\n",
            "Epoch 2: val_loss improved from 2829.51221 to 2458.39404, saving model to model_experiments/model_3_dense.keras\n",
            "\n",
            "Epoch 3: val_loss improved from 2458.39404 to 2102.83984, saving model to model_experiments/model_3_dense.keras\n",
            "\n",
            "Epoch 4: val_loss improved from 2102.83984 to 1993.48914, saving model to model_experiments/model_3_dense.keras\n",
            "\n",
            "Epoch 5: val_loss improved from 1993.48914 to 1849.52991, saving model to model_experiments/model_3_dense.keras\n",
            "\n",
            "Epoch 6: val_loss improved from 1849.52991 to 1750.45276, saving model to model_experiments/model_3_dense.keras\n",
            "\n",
            "Epoch 7: val_loss improved from 1750.45276 to 1685.24915, saving model to model_experiments/model_3_dense.keras\n",
            "\n",
            "Epoch 8: val_loss improved from 1685.24915 to 1633.63855, saving model to model_experiments/model_3_dense.keras\n",
            "\n",
            "Epoch 9: val_loss improved from 1633.63855 to 1562.91223, saving model to model_experiments/model_3_dense.keras\n",
            "\n",
            "Epoch 10: val_loss improved from 1562.91223 to 1545.40015, saving model to model_experiments/model_3_dense.keras\n",
            "\n",
            "Epoch 11: val_loss improved from 1545.40015 to 1499.23376, saving model to model_experiments/model_3_dense.keras\n",
            "\n",
            "Epoch 12: val_loss improved from 1499.23376 to 1474.55359, saving model to model_experiments/model_3_dense.keras\n",
            "\n",
            "Epoch 13: val_loss improved from 1474.55359 to 1468.24817, saving model to model_experiments/model_3_dense.keras\n",
            "\n",
            "Epoch 14: val_loss improved from 1468.24817 to 1453.29272, saving model to model_experiments/model_3_dense.keras\n",
            "\n",
            "Epoch 15: val_loss improved from 1453.29272 to 1416.89502, saving model to model_experiments/model_3_dense.keras\n",
            "\n",
            "Epoch 16: val_loss did not improve from 1416.89502\n",
            "\n",
            "Epoch 17: val_loss did not improve from 1416.89502\n",
            "\n",
            "Epoch 18: val_loss did not improve from 1416.89502\n",
            "\n",
            "Epoch 19: val_loss improved from 1416.89502 to 1413.51038, saving model to model_experiments/model_3_dense.keras\n",
            "\n",
            "Epoch 20: val_loss improved from 1413.51038 to 1408.59143, saving model to model_experiments/model_3_dense.keras\n",
            "\n",
            "Epoch 21: val_loss did not improve from 1408.59143\n",
            "\n",
            "Epoch 22: val_loss did not improve from 1408.59143\n",
            "\n",
            "Epoch 23: val_loss did not improve from 1408.59143\n",
            "\n",
            "Epoch 24: val_loss did not improve from 1408.59143\n",
            "\n",
            "Epoch 25: val_loss improved from 1408.59143 to 1383.78699, saving model to model_experiments/model_3_dense.keras\n",
            "\n",
            "Epoch 26: val_loss did not improve from 1383.78699\n",
            "\n",
            "Epoch 27: val_loss improved from 1383.78699 to 1380.85107, saving model to model_experiments/model_3_dense.keras\n",
            "\n",
            "Epoch 28: val_loss improved from 1380.85107 to 1347.88843, saving model to model_experiments/model_3_dense.keras\n",
            "\n",
            "Epoch 29: val_loss did not improve from 1347.88843\n",
            "\n",
            "Epoch 30: val_loss did not improve from 1347.88843\n",
            "\n",
            "Epoch 31: val_loss improved from 1347.88843 to 1339.58862, saving model to model_experiments/model_3_dense.keras\n",
            "\n",
            "Epoch 32: val_loss improved from 1339.58862 to 1326.91870, saving model to model_experiments/model_3_dense.keras\n",
            "\n",
            "Epoch 33: val_loss improved from 1326.91870 to 1324.69922, saving model to model_experiments/model_3_dense.keras\n",
            "\n",
            "Epoch 34: val_loss did not improve from 1324.69922\n",
            "\n",
            "Epoch 35: val_loss improved from 1324.69922 to 1324.54944, saving model to model_experiments/model_3_dense.keras\n",
            "\n",
            "Epoch 36: val_loss improved from 1324.54944 to 1317.70142, saving model to model_experiments/model_3_dense.keras\n",
            "\n",
            "Epoch 37: val_loss improved from 1317.70142 to 1312.67151, saving model to model_experiments/model_3_dense.keras\n",
            "\n",
            "Epoch 38: val_loss improved from 1312.67151 to 1305.81494, saving model to model_experiments/model_3_dense.keras\n",
            "\n",
            "Epoch 39: val_loss did not improve from 1305.81494\n",
            "\n",
            "Epoch 40: val_loss did not improve from 1305.81494\n",
            "\n",
            "Epoch 41: val_loss did not improve from 1305.81494\n",
            "\n",
            "Epoch 42: val_loss did not improve from 1305.81494\n",
            "\n",
            "Epoch 43: val_loss did not improve from 1305.81494\n",
            "\n",
            "Epoch 44: val_loss improved from 1305.81494 to 1305.37170, saving model to model_experiments/model_3_dense.keras\n",
            "\n",
            "Epoch 45: val_loss improved from 1305.37170 to 1301.78320, saving model to model_experiments/model_3_dense.keras\n",
            "\n",
            "Epoch 46: val_loss improved from 1301.78320 to 1288.90527, saving model to model_experiments/model_3_dense.keras\n",
            "\n",
            "Epoch 47: val_loss did not improve from 1288.90527\n",
            "\n",
            "Epoch 48: val_loss improved from 1288.90527 to 1283.30054, saving model to model_experiments/model_3_dense.keras\n",
            "\n",
            "Epoch 49: val_loss did not improve from 1283.30054\n",
            "\n",
            "Epoch 50: val_loss did not improve from 1283.30054\n",
            "\n",
            "Epoch 51: val_loss did not improve from 1283.30054\n",
            "\n",
            "Epoch 52: val_loss improved from 1283.30054 to 1281.37219, saving model to model_experiments/model_3_dense.keras\n",
            "\n",
            "Epoch 53: val_loss improved from 1281.37219 to 1277.31848, saving model to model_experiments/model_3_dense.keras\n",
            "\n",
            "Epoch 54: val_loss improved from 1277.31848 to 1269.83044, saving model to model_experiments/model_3_dense.keras\n",
            "\n",
            "Epoch 55: val_loss did not improve from 1269.83044\n",
            "\n",
            "Epoch 56: val_loss did not improve from 1269.83044\n",
            "\n",
            "Epoch 57: val_loss did not improve from 1269.83044\n",
            "\n",
            "Epoch 58: val_loss did not improve from 1269.83044\n",
            "\n",
            "Epoch 59: val_loss improved from 1269.83044 to 1263.55054, saving model to model_experiments/model_3_dense.keras\n",
            "\n",
            "Epoch 60: val_loss improved from 1263.55054 to 1262.05664, saving model to model_experiments/model_3_dense.keras\n",
            "\n",
            "Epoch 61: val_loss did not improve from 1262.05664\n",
            "\n",
            "Epoch 62: val_loss did not improve from 1262.05664\n",
            "\n",
            "Epoch 63: val_loss did not improve from 1262.05664\n",
            "\n",
            "Epoch 64: val_loss did not improve from 1262.05664\n",
            "\n",
            "Epoch 65: val_loss improved from 1262.05664 to 1258.19324, saving model to model_experiments/model_3_dense.keras\n",
            "\n",
            "Epoch 66: val_loss did not improve from 1258.19324\n",
            "\n",
            "Epoch 67: val_loss did not improve from 1258.19324\n",
            "\n",
            "Epoch 68: val_loss improved from 1258.19324 to 1249.28943, saving model to model_experiments/model_3_dense.keras\n",
            "\n",
            "Epoch 69: val_loss did not improve from 1249.28943\n",
            "\n",
            "Epoch 70: val_loss did not improve from 1249.28943\n",
            "\n",
            "Epoch 71: val_loss did not improve from 1249.28943\n",
            "\n",
            "Epoch 72: val_loss did not improve from 1249.28943\n",
            "\n",
            "Epoch 73: val_loss did not improve from 1249.28943\n",
            "\n",
            "Epoch 74: val_loss did not improve from 1249.28943\n",
            "\n",
            "Epoch 75: val_loss did not improve from 1249.28943\n",
            "\n",
            "Epoch 76: val_loss did not improve from 1249.28943\n",
            "\n",
            "Epoch 77: val_loss improved from 1249.28943 to 1247.13696, saving model to model_experiments/model_3_dense.keras\n",
            "\n",
            "Epoch 78: val_loss did not improve from 1247.13696\n",
            "\n",
            "Epoch 79: val_loss did not improve from 1247.13696\n",
            "\n",
            "Epoch 80: val_loss did not improve from 1247.13696\n",
            "\n",
            "Epoch 81: val_loss did not improve from 1247.13696\n",
            "\n",
            "Epoch 82: val_loss improved from 1247.13696 to 1244.39246, saving model to model_experiments/model_3_dense.keras\n",
            "\n",
            "Epoch 83: val_loss improved from 1244.39246 to 1240.58643, saving model to model_experiments/model_3_dense.keras\n",
            "\n",
            "Epoch 84: val_loss did not improve from 1240.58643\n",
            "\n",
            "Epoch 85: val_loss did not improve from 1240.58643\n",
            "\n",
            "Epoch 86: val_loss did not improve from 1240.58643\n",
            "\n",
            "Epoch 87: val_loss did not improve from 1240.58643\n",
            "\n",
            "Epoch 88: val_loss did not improve from 1240.58643\n",
            "\n",
            "Epoch 89: val_loss improved from 1240.58643 to 1238.37451, saving model to model_experiments/model_3_dense.keras\n",
            "\n",
            "Epoch 90: val_loss did not improve from 1238.37451\n",
            "\n",
            "Epoch 91: val_loss did not improve from 1238.37451\n",
            "\n",
            "Epoch 92: val_loss did not improve from 1238.37451\n",
            "\n",
            "Epoch 93: val_loss did not improve from 1238.37451\n",
            "\n",
            "Epoch 94: val_loss improved from 1238.37451 to 1230.23804, saving model to model_experiments/model_3_dense.keras\n",
            "\n",
            "Epoch 95: val_loss did not improve from 1230.23804\n",
            "\n",
            "Epoch 96: val_loss did not improve from 1230.23804\n",
            "\n",
            "Epoch 97: val_loss did not improve from 1230.23804\n",
            "\n",
            "Epoch 98: val_loss did not improve from 1230.23804\n",
            "\n",
            "Epoch 99: val_loss did not improve from 1230.23804\n",
            "\n",
            "Epoch 100: val_loss did not improve from 1230.23804\n"
          ]
        },
        {
          "output_type": "execute_result",
          "data": {
            "text/plain": [
              "<keras.src.callbacks.history.History at 0x7af227c8b2b0>"
            ]
          },
          "metadata": {},
          "execution_count": 243
        }
      ]
    },
    {
      "cell_type": "code",
      "source": [
        "model_3.evaluate(test_windows, test_labels)"
      ],
      "metadata": {
        "colab": {
          "base_uri": "https://localhost:8080/"
        },
        "id": "E5tX_qErKRy4",
        "outputId": "ca28c6b0-ad64-46b4-8cd3-4f097d07a684"
      },
      "execution_count": 244,
      "outputs": [
        {
          "output_type": "stream",
          "name": "stdout",
          "text": [
            "\u001b[1m18/18\u001b[0m \u001b[32m━━━━━━━━━━━━━━━━━━━━\u001b[0m\u001b[37m\u001b[0m \u001b[1m0s\u001b[0m 2ms/step - loss: 627.9435 \n"
          ]
        },
        {
          "output_type": "execute_result",
          "data": {
            "text/plain": [
              "1258.6495361328125"
            ]
          },
          "metadata": {},
          "execution_count": 244
        }
      ]
    },
    {
      "cell_type": "code",
      "source": [
        "model_3 = tf.keras.models.load_model(\"/content/model_experiments/model_3_dense.keras\")"
      ],
      "metadata": {
        "id": "DulJc9PIKymN"
      },
      "execution_count": 245,
      "outputs": []
    },
    {
      "cell_type": "code",
      "source": [
        "model_3.evaluate(test_windows, test_labels)"
      ],
      "metadata": {
        "colab": {
          "base_uri": "https://localhost:8080/"
        },
        "id": "Ody29d3UK9sF",
        "outputId": "c04db997-6325-4fa6-b3a1-1533a81017b6"
      },
      "execution_count": 246,
      "outputs": [
        {
          "output_type": "stream",
          "name": "stdout",
          "text": [
            "\u001b[1m18/18\u001b[0m \u001b[32m━━━━━━━━━━━━━━━━━━━━\u001b[0m\u001b[37m\u001b[0m \u001b[1m0s\u001b[0m 2ms/step - loss: 619.7316  \n"
          ]
        },
        {
          "output_type": "execute_result",
          "data": {
            "text/plain": [
              "1230.238037109375"
            ]
          },
          "metadata": {},
          "execution_count": 246
        }
      ]
    },
    {
      "cell_type": "code",
      "source": [
        "model_3_preds = make_preds(model_3,test_windows)"
      ],
      "metadata": {
        "colab": {
          "base_uri": "https://localhost:8080/"
        },
        "id": "b92Pk3wHLCNM",
        "outputId": "ec9f3f84-fe63-49c5-a614-373e2af36440"
      },
      "execution_count": 248,
      "outputs": [
        {
          "output_type": "stream",
          "name": "stdout",
          "text": [
            "\u001b[1m18/18\u001b[0m \u001b[32m━━━━━━━━━━━━━━━━━━━━\u001b[0m\u001b[37m\u001b[0m \u001b[1m0s\u001b[0m 10ms/step\n"
          ]
        }
      ]
    },
    {
      "cell_type": "code",
      "source": [
        "model_3_preds.shape"
      ],
      "metadata": {
        "colab": {
          "base_uri": "https://localhost:8080/"
        },
        "id": "N1g2MsMlMbm1",
        "outputId": "1ee45aae-3722-4de1-b1aa-75cdefbc7902"
      },
      "execution_count": 251,
      "outputs": [
        {
          "output_type": "execute_result",
          "data": {
            "text/plain": [
              "TensorShape([551, 7])"
            ]
          },
          "metadata": {},
          "execution_count": 251
        }
      ]
    },
    {
      "cell_type": "code",
      "source": [
        "tf.squeeze(test_labels).shape"
      ],
      "metadata": {
        "colab": {
          "base_uri": "https://localhost:8080/"
        },
        "id": "wHKxo7mvMeHf",
        "outputId": "e742d07d-461d-43a4-f8d0-ec5de800362b"
      },
      "execution_count": 252,
      "outputs": [
        {
          "output_type": "execute_result",
          "data": {
            "text/plain": [
              "TensorShape([551, 7])"
            ]
          },
          "metadata": {},
          "execution_count": 252
        }
      ]
    },
    {
      "cell_type": "code",
      "source": [
        "model_3_results = evaluate_preds(tf.squeeze(test_labels), model_3_preds)\n",
        "model_3_results"
      ],
      "metadata": {
        "colab": {
          "base_uri": "https://localhost:8080/"
        },
        "id": "_dQCqCTMLQTC",
        "outputId": "64c50fbe-3325-475c-eb97-2e145b95e465"
      },
      "execution_count": 249,
      "outputs": [
        {
          "output_type": "execute_result",
          "data": {
            "text/plain": [
              "{'mae': 1230.2379,\n",
              " 'mse': 5168318.0,\n",
              " 'rmse': 2273.3936,\n",
              " 'mape': 5.5316763,\n",
              " 'mase': 2.1891396}"
            ]
          },
          "metadata": {},
          "execution_count": 249
        }
      ]
    },
    {
      "cell_type": "code",
      "source": [
        "k = 300\n",
        "plt.figure(figsize=(10,7))\n",
        "plot_time_series(X_test[-len(test_windows):], test_labels[:,0], start = 300, label = 'Test_data')\n",
        "plot_time_series(X_test[-len(test_labels):], model_3_preds, start = k, format = '-', label = 'model3_preds')"
      ],
      "metadata": {
        "colab": {
          "base_uri": "https://localhost:8080/",
          "height": 611
        },
        "id": "uP0mpGtOLb-l",
        "outputId": "990f5811-8fe8-47ea-ca2e-220681d6ef40"
      },
      "execution_count": 269,
      "outputs": [
        {
          "output_type": "display_data",
          "data": {
            "text/plain": [
              "<Figure size 1000x700 with 1 Axes>"
            ],
            "image/png": "[encoded data removed]"
          },
          "metadata": {}
        }
      ]
    },
    {
      "cell_type": "code",
      "source": [
        "k = 300\n",
        "plt.figure(figsize=(10,7))\n",
        "plot_time_series(X_test[-len(test_windows):], test_labels[:,0], start = 300, label = 'Test_data')\n",
        "plot_time_series(X_test[-len(test_labels):], model_3_preds[:,0], start = k, format = '-', label = 'model3_preds')"
      ],
      "metadata": {
        "colab": {
          "base_uri": "https://localhost:8080/",
          "height": 611
        },
        "id": "Hpfj0irrLs94",
        "outputId": "f41d9fb2-37b4-4a03-8d71-ad782b0641cc"
      },
      "execution_count": 270,
      "outputs": [
        {
          "output_type": "display_data",
          "data": {
            "text/plain": [
              "<Figure size 1000x700 with 1 Axes>"
            ],
            "image/png": "[encoded data removed]"
          },
          "metadata": {}
        }
      ]
    },
    {
      "cell_type": "code",
      "source": [
        "model1_results['mae']"
      ],
      "metadata": {
        "colab": {
          "base_uri": "https://localhost:8080/"
        },
        "id": "GbXdFrunZgtG",
        "outputId": "f3d9ba21-11fe-4efb-902d-ea38fb07ef99"
      },
      "execution_count": 300,
      "outputs": [
        {
          "output_type": "execute_result",
          "data": {
            "text/plain": [
              "572.1609"
            ]
          },
          "metadata": {},
          "execution_count": 300
        }
      ]
    },
    {
      "cell_type": "code",
      "source": [
        "model_maes = {\n",
        "    'naive': naive_results['mae'],\n",
        "    'm1': model1_results['mae'],\n",
        "    'm2': model_2_results['mae'],\n",
        "    'm3': model_3_results['mae']\n",
        "}"
      ],
      "metadata": {
        "id": "XwB-PxZfRnaE"
      },
      "execution_count": 308,
      "outputs": []
    },
    {
      "cell_type": "code",
      "source": [],
      "metadata": {
        "id": "MjIU_O7fauSh"
      },
      "execution_count": 306,
      "outputs": []
    },
    {
      "cell_type": "code",
      "source": [
        "results = pd.DataFrame([model_maes],index=['mae'])\n"
      ],
      "metadata": {
        "id": "xNPrD0qeZfax"
      },
      "execution_count": 313,
      "outputs": []
    },
    {
      "cell_type": "code",
      "source": [
        "results"
      ],
      "metadata": {
        "colab": {
          "base_uri": "https://localhost:8080/",
          "height": 89
        },
        "id": "hS5Tff9caSg2",
        "outputId": "9bfada83-c0e7-4d27-86ea-4d057d811d59"
      },
      "execution_count": 314,
      "outputs": [
        {
          "output_type": "execute_result",
          "data": {
            "text/plain": [
              "          naive          m1          m2           m3\n",
              "mae  567.980225  572.160889  621.913147  1230.237915"
            ],
            "text/html": [
              "\n",
              "  <div id=\"df-a2f0d2f6-ad31-4ca1-a647-fa179ee83527\" class=\"colab-df-container\">\n",
              "    <div>\n",
              "<style scoped>\n",
              "    .dataframe tbody tr th:only-of-type {\n",
              "        vertical-align: middle;\n",
              "    }\n",
              "\n",
              "    .dataframe tbody tr th {\n",
              "        vertical-align: top;\n",
              "    }\n",
              "\n",
              "    .dataframe thead th {\n",
              "        text-align: right;\n",
              "    }\n",
              "</style>\n",
              "<table border=\"1\" class=\"dataframe\">\n",
              "  <thead>\n",
              "    <tr style=\"text-align: right;\">\n",
              "      <th></th>\n",
              "      <th>naive</th>\n",
              "      <th>m1</th>\n",
              "      <th>m2</th>\n",
              "      <th>m3</th>\n",
              "    </tr>\n",
              "  </thead>\n",
              "  <tbody>\n",
              "    <tr>\n",
              "      <th>mae</th>\n",
              "      <td>567.980225</td>\n",
              "      <td>572.160889</td>\n",
              "      <td>621.913147</td>\n",
              "      <td>1230.237915</td>\n",
              "    </tr>\n",
              "  </tbody>\n",
              "</table>\n",
              "</div>\n",
              "    <div class=\"colab-df-buttons\">\n",
              "\n",
              "  <div class=\"colab-df-container\">\n",
              "    <button class=\"colab-df-convert\" onclick=\"convertToInteractive('df-a2f0d2f6-ad31-4ca1-a647-fa179ee83527')\"\n",
              "            title=\"Convert this dataframe to an interactive table.\"\n",
              "            style=\"display:none;\">\n",
              "\n",
              "  <svg xmlns=\"http://www.w3.org/2000/svg\" height=\"24px\" viewBox=\"0 -960 960 960\">\n",
              "    <path d=\"M120-120v-720h720v720H120Zm60-500h600v-160H180v160Zm220 220h160v-160H400v160Zm0 220h160v-160H400v160ZM180-400h160v-160H180v160Zm440 0h160v-160H620v160ZM180-180h160v-160H180v160Zm440 0h160v-160H620v160Z\"/>\n",
              "  </svg>\n",
              "    </button>\n",
              "\n",
              "  <style>\n",
              "    .colab-df-container {\n",
              "      display:flex;\n",
              "      gap: 12px;\n",
              "    }\n",
              "\n",
              "    .colab-df-convert {\n",
              "      background-color: #E8F0FE;\n",
              "      border: none;\n",
              "      border-radius: 50%;\n",
              "      cursor: pointer;\n",
              "      display: none;\n",
              "      fill: #1967D2;\n",
              "      height: 32px;\n",
              "      padding: 0 0 0 0;\n",
              "      width: 32px;\n",
              "    }\n",
              "\n",
              "    .colab-df-convert:hover {\n",
              "      background-color: #E2EBFA;\n",
              "      box-shadow: 0px 1px 2px rgba(60, 64, 67, 0.3), 0px 1px 3px 1px rgba(60, 64, 67, 0.15);\n",
              "      fill: #174EA6;\n",
              "    }\n",
              "\n",
              "    .colab-df-buttons div {\n",
              "      margin-bottom: 4px;\n",
              "    }\n",
              "\n",
              "    [theme=dark] .colab-df-convert {\n",
              "      background-color: #3B4455;\n",
              "      fill: #D2E3FC;\n",
              "    }\n",
              "\n",
              "    [theme=dark] .colab-df-convert:hover {\n",
              "      background-color: #434B5C;\n",
              "      box-shadow: 0px 1px 3px 1px rgba(0, 0, 0, 0.15);\n",
              "      filter: drop-shadow(0px 1px 2px rgba(0, 0, 0, 0.3));\n",
              "      fill: #FFFFFF;\n",
              "    }\n",
              "  </style>\n",
              "\n",
              "    <script>\n",
              "      const buttonEl =\n",
              "        document.querySelector('#df-a2f0d2f6-ad31-4ca1-a647-fa179ee83527 button.colab-df-convert');\n",
              "      buttonEl.style.display =\n",
              "        google.colab.kernel.accessAllowed ? 'block' : 'none';\n",
              "\n",
              "      async function convertToInteractive(key) {\n",
              "        const element = document.querySelector('#df-a2f0d2f6-ad31-4ca1-a647-fa179ee83527');\n",
              "        const dataTable =\n",
              "          await google.colab.kernel.invokeFunction('convertToInteractive',\n",
              "                                                    [key], {});\n",
              "        if (!dataTable) return;\n",
              "\n",
              "        const docLinkHtml = 'Like what you see? Visit the ' +\n",
              "          '<a target=\"_blank\" href=https://colab.research.google.com/notebooks/data_table.ipynb>data table notebook</a>'\n",
              "          + ' to learn more about interactive tables.';\n",
              "        element.innerHTML = '';\n",
              "        dataTable['output_type'] = 'display_data';\n",
              "        await google.colab.output.renderOutput(dataTable, element);\n",
              "        const docLink = document.createElement('div');\n",
              "        docLink.innerHTML = docLinkHtml;\n",
              "        element.appendChild(docLink);\n",
              "      }\n",
              "    </script>\n",
              "  </div>\n",
              "\n",
              "\n",
              "  <div id=\"id_3c11fab6-eab4-448a-942c-70112dec4e02\">\n",
              "    <style>\n",
              "      .colab-df-generate {\n",
              "        background-color: #E8F0FE;\n",
              "        border: none;\n",
              "        border-radius: 50%;\n",
              "        cursor: pointer;\n",
              "        display: none;\n",
              "        fill: #1967D2;\n",
              "        height: 32px;\n",
              "        padding: 0 0 0 0;\n",
              "        width: 32px;\n",
              "      }\n",
              "\n",
              "      .colab-df-generate:hover {\n",
              "        background-color: #E2EBFA;\n",
              "        box-shadow: 0px 1px 2px rgba(60, 64, 67, 0.3), 0px 1px 3px 1px rgba(60, 64, 67, 0.15);\n",
              "        fill: #174EA6;\n",
              "      }\n",
              "\n",
              "      [theme=dark] .colab-df-generate {\n",
              "        background-color: #3B4455;\n",
              "        fill: #D2E3FC;\n",
              "      }\n",
              "\n",
              "      [theme=dark] .colab-df-generate:hover {\n",
              "        background-color: #434B5C;\n",
              "        box-shadow: 0px 1px 3px 1px rgba(0, 0, 0, 0.15);\n",
              "        filter: drop-shadow(0px 1px 2px rgba(0, 0, 0, 0.3));\n",
              "        fill: #FFFFFF;\n",
              "      }\n",
              "    </style>\n",
              "    <button class=\"colab-df-generate\" onclick=\"generateWithVariable('results')\"\n",
              "            title=\"Generate code using this dataframe.\"\n",
              "            style=\"display:none;\">\n",
              "\n",
              "  <svg xmlns=\"http://www.w3.org/2000/svg\" height=\"24px\"viewBox=\"0 0 24 24\"\n",
              "       width=\"24px\">\n",
              "    <path d=\"M7,19H8.4L18.45,9,17,7.55,7,17.6ZM5,21V16.75L18.45,3.32a2,2,0,0,1,2.83,0l1.4,1.43a1.91,1.91,0,0,1,.58,1.4,1.91,1.91,0,0,1-.58,1.4L9.25,21ZM18.45,9,17,7.55Zm-12,3A5.31,5.31,0,0,0,4.9,8.1,5.31,5.31,0,0,0,1,6.5,5.31,5.31,0,0,0,4.9,4.9,5.31,5.31,0,0,0,6.5,1,5.31,5.31,0,0,0,8.1,4.9,5.31,5.31,0,0,0,12,6.5,5.46,5.46,0,0,0,6.5,12Z\"/>\n",
              "  </svg>\n",
              "    </button>\n",
              "    <script>\n",
              "      (() => {\n",
              "      const buttonEl =\n",
              "        document.querySelector('#id_3c11fab6-eab4-448a-942c-70112dec4e02 button.colab-df-generate');\n",
              "      buttonEl.style.display =\n",
              "        google.colab.kernel.accessAllowed ? 'block' : 'none';\n",
              "\n",
              "      buttonEl.onclick = () => {\n",
              "        google.colab.notebook.generateWithVariable('results');\n",
              "      }\n",
              "      })();\n",
              "    </script>\n",
              "  </div>\n",
              "\n",
              "    </div>\n",
              "  </div>\n"
            ],
            "application/vnd.google.colaboratory.intrinsic+json": {
              "type": "dataframe",
              "variable_name": "results",
              "summary": "{\n  \"name\": \"results\",\n  \"rows\": 1,\n  \"fields\": [\n    {\n      \"column\": \"naive\",\n      \"properties\": {\n        \"dtype\": \"float32\",\n        \"num_unique_values\": 1,\n        \"samples\": [\n          567.980224609375\n        ],\n        \"semantic_type\": \"\",\n        \"description\": \"\"\n      }\n    },\n    {\n      \"column\": \"m1\",\n      \"properties\": {\n        \"dtype\": \"float32\",\n        \"num_unique_values\": 1,\n        \"samples\": [\n          572.160888671875\n        ],\n        \"semantic_type\": \"\",\n        \"description\": \"\"\n      }\n    },\n    {\n      \"column\": \"m2\",\n      \"properties\": {\n        \"dtype\": \"float32\",\n        \"num_unique_values\": 1,\n        \"samples\": [\n          621.9131469726562\n        ],\n        \"semantic_type\": \"\",\n        \"description\": \"\"\n      }\n    },\n    {\n      \"column\": \"m3\",\n      \"properties\": {\n        \"dtype\": \"float32\",\n        \"num_unique_values\": 1,\n        \"samples\": [\n          1230.2379150390625\n        ],\n        \"semantic_type\": \"\",\n        \"description\": \"\"\n      }\n    }\n  ]\n}"
            }
          },
          "metadata": {},
          "execution_count": 314
        }
      ]
    },
    {
      "cell_type": "code",
      "source": [
        "results.plot(kind = 'bar')"
      ],
      "metadata": {
        "colab": {
          "base_uri": "https://localhost:8080/",
          "height": 463
        },
        "id": "U6sJwk9HbCHz",
        "outputId": "08777428-922f-4fd6-9eaf-08ed3e738fb0"
      },
      "execution_count": 315,
      "outputs": [
        {
          "output_type": "execute_result",
          "data": {
            "text/plain": [
              "<Axes: >"
            ]
          },
          "metadata": {},
          "execution_count": 315
        },
        {
          "output_type": "display_data",
          "data": {
            "text/plain": [
              "<Figure size 640x480 with 1 Axes>"
            ],
            "image/png": "[encoded data removed]"
          },
          "metadata": {}
        }
      ]
    },
    {
      "cell_type": "code",
      "source": [],
      "metadata": {
        "id": "atzlWdGZbOSw"
      },
      "execution_count": null,
      "outputs": []
    }
  ]
}