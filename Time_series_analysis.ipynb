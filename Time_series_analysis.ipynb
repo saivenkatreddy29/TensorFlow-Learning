{
  "nbformat": 4,
  "nbformat_minor": 0,
  "metadata": {
    "colab": {
      "provenance": [],
      "authorship_tag": "ABX9TyNfYqDomEPHzbznbCQCa8Wv",
      "include_colab_link": true
    },
    "kernelspec": {
      "name": "python3",
      "display_name": "Python 3"
    },
    "language_info": {
      "name": "python"
    }
  },
  "cells": [
    {
      "cell_type": "markdown",
      "metadata": {
        "id": "view-in-github",
        "colab_type": "text"
      },
      "source": [
        "<a href=\"https://colab.research.google.com/github/saivenkatreddy29/TensorFlow-Learning/blob/main/Time_series_analysis.ipynb\" target=\"_parent\"><img src=\"https://colab.research.google.com/assets/colab-badge.svg\" alt=\"Open In Colab\"/></a>"
      ]
    },
    {
      "cell_type": "code",
      "execution_count": null,
      "metadata": {
        "colab": {
          "base_uri": "https://localhost:8080/"
        },
        "id": "soITGwnFff9u",
        "outputId": "b66222da-8956-4e7c-fde4-486f4be7b75d"
      },
      "outputs": [
        {
          "output_type": "stream",
          "name": "stdout",
          "text": [
            "--2024-08-13 19:31:17--  https://raw.githubusercontent.com/mrdbourke/tensorflow-deep-learning/main/extras/BTC_USD_2013-10-01_2021-05-18-CoinDesk.csv\n",
            "Resolving raw.githubusercontent.com (raw.githubusercontent.com)... 185.199.108.133, 185.199.109.133, 185.199.110.133, ...\n",
            "Connecting to raw.githubusercontent.com (raw.githubusercontent.com)|185.199.108.133|:443... connected.\n",
            "HTTP request sent, awaiting response... 200 OK\n",
            "Length: 178509 (174K) [text/plain]\n",
            "Saving to: ‘BTC_USD_2013-10-01_2021-05-18-CoinDesk.csv’\n",
            "\n",
            "BTC_USD_2013-10-01_ 100%[===================>] 174.33K  --.-KB/s    in 0.04s   \n",
            "\n",
            "2024-08-13 19:31:17 (4.50 MB/s) - ‘BTC_USD_2013-10-01_2021-05-18-CoinDesk.csv’ saved [178509/178509]\n",
            "\n"
          ]
        }
      ],
      "source": [
        "!wget https://raw.githubusercontent.com/mrdbourke/tensorflow-deep-learning/main/extras/BTC_USD_2013-10-01_2021-05-18-CoinDesk.csv\n"
      ]
    },
    {
      "cell_type": "code",
      "source": [
        "import pandas as pd\n",
        "import numpy as np\n",
        "import tensorflow as tf\n",
        "import matplotlib.pyplot as plt"
      ],
      "metadata": {
        "id": "nPvBgHqQfsdE"
      },
      "execution_count": null,
      "outputs": []
    },
    {
      "cell_type": "code",
      "source": [
        "df = pd.read_csv('/content/BTC_USD_2013-10-01_2021-05-18-CoinDesk.csv', index_col = 'Date', parse_dates=['Date'])"
      ],
      "metadata": {
        "id": "tZXg625kf6qF"
      },
      "execution_count": null,
      "outputs": []
    },
    {
      "cell_type": "code",
      "source": [
        "df.head()"
      ],
      "metadata": {
        "colab": {
          "base_uri": "https://localhost:8080/",
          "height": 237
        },
        "id": "hZGprveSf_13",
        "outputId": "1085dc48-302b-4c01-b1a7-2876a90b36f8"
      },
      "execution_count": null,
      "outputs": [
        {
          "output_type": "execute_result",
          "data": {
            "text/plain": [
              "           Currency  Closing Price (USD)  24h Open (USD)  24h High (USD)  \\\n",
              "Date                                                                       \n",
              "2013-10-01      BTC            123.65499       124.30466       124.75166   \n",
              "2013-10-02      BTC            125.45500       123.65499       125.75850   \n",
              "2013-10-03      BTC            108.58483       125.45500       125.66566   \n",
              "2013-10-04      BTC            118.67466       108.58483       118.67500   \n",
              "2013-10-05      BTC            121.33866       118.67466       121.93633   \n",
              "\n",
              "            24h Low (USD)  \n",
              "Date                       \n",
              "2013-10-01      122.56349  \n",
              "2013-10-02      123.63383  \n",
              "2013-10-03       83.32833  \n",
              "2013-10-04      107.05816  \n",
              "2013-10-05      118.00566  "
            ],
            "text/html": [
              "\n",
              "  <div id=\"df-ec48ba9a-0c68-42ae-a2d8-4646f51f4f8a\" class=\"colab-df-container\">\n",
              "    <div>\n",
              "<style scoped>\n",
              "    .dataframe tbody tr th:only-of-type {\n",
              "        vertical-align: middle;\n",
              "    }\n",
              "\n",
              "    .dataframe tbody tr th {\n",
              "        vertical-align: top;\n",
              "    }\n",
              "\n",
              "    .dataframe thead th {\n",
              "        text-align: right;\n",
              "    }\n",
              "</style>\n",
              "<table border=\"1\" class=\"dataframe\">\n",
              "  <thead>\n",
              "    <tr style=\"text-align: right;\">\n",
              "      <th></th>\n",
              "      <th>Currency</th>\n",
              "      <th>Closing Price (USD)</th>\n",
              "      <th>24h Open (USD)</th>\n",
              "      <th>24h High (USD)</th>\n",
              "      <th>24h Low (USD)</th>\n",
              "    </tr>\n",
              "    <tr>\n",
              "      <th>Date</th>\n",
              "      <th></th>\n",
              "      <th></th>\n",
              "      <th></th>\n",
              "      <th></th>\n",
              "      <th></th>\n",
              "    </tr>\n",
              "  </thead>\n",
              "  <tbody>\n",
              "    <tr>\n",
              "      <th>2013-10-01</th>\n",
              "      <td>BTC</td>\n",
              "      <td>123.65499</td>\n",
              "      <td>124.30466</td>\n",
              "      <td>124.75166</td>\n",
              "      <td>122.56349</td>\n",
              "    </tr>\n",
              "    <tr>\n",
              "      <th>2013-10-02</th>\n",
              "      <td>BTC</td>\n",
              "      <td>125.45500</td>\n",
              "      <td>123.65499</td>\n",
              "      <td>125.75850</td>\n",
              "      <td>123.63383</td>\n",
              "    </tr>\n",
              "    <tr>\n",
              "      <th>2013-10-03</th>\n",
              "      <td>BTC</td>\n",
              "      <td>108.58483</td>\n",
              "      <td>125.45500</td>\n",
              "      <td>125.66566</td>\n",
              "      <td>83.32833</td>\n",
              "    </tr>\n",
              "    <tr>\n",
              "      <th>2013-10-04</th>\n",
              "      <td>BTC</td>\n",
              "      <td>118.67466</td>\n",
              "      <td>108.58483</td>\n",
              "      <td>118.67500</td>\n",
              "      <td>107.05816</td>\n",
              "    </tr>\n",
              "    <tr>\n",
              "      <th>2013-10-05</th>\n",
              "      <td>BTC</td>\n",
              "      <td>121.33866</td>\n",
              "      <td>118.67466</td>\n",
              "      <td>121.93633</td>\n",
              "      <td>118.00566</td>\n",
              "    </tr>\n",
              "  </tbody>\n",
              "</table>\n",
              "</div>\n",
              "    <div class=\"colab-df-buttons\">\n",
              "\n",
              "  <div class=\"colab-df-container\">\n",
              "    <button class=\"colab-df-convert\" onclick=\"convertToInteractive('df-ec48ba9a-0c68-42ae-a2d8-4646f51f4f8a')\"\n",
              "            title=\"Convert this dataframe to an interactive table.\"\n",
              "            style=\"display:none;\">\n",
              "\n",
              "  <svg xmlns=\"http://www.w3.org/2000/svg\" height=\"24px\" viewBox=\"0 -960 960 960\">\n",
              "    <path d=\"M120-120v-720h720v720H120Zm60-500h600v-160H180v160Zm220 220h160v-160H400v160Zm0 220h160v-160H400v160ZM180-400h160v-160H180v160Zm440 0h160v-160H620v160ZM180-180h160v-160H180v160Zm440 0h160v-160H620v160Z\"/>\n",
              "  </svg>\n",
              "    </button>\n",
              "\n",
              "  <style>\n",
              "    .colab-df-container {\n",
              "      display:flex;\n",
              "      gap: 12px;\n",
              "    }\n",
              "\n",
              "    .colab-df-convert {\n",
              "      background-color: #E8F0FE;\n",
              "      border: none;\n",
              "      border-radius: 50%;\n",
              "      cursor: pointer;\n",
              "      display: none;\n",
              "      fill: #1967D2;\n",
              "      height: 32px;\n",
              "      padding: 0 0 0 0;\n",
              "      width: 32px;\n",
              "    }\n",
              "\n",
              "    .colab-df-convert:hover {\n",
              "      background-color: #E2EBFA;\n",
              "      box-shadow: 0px 1px 2px rgba(60, 64, 67, 0.3), 0px 1px 3px 1px rgba(60, 64, 67, 0.15);\n",
              "      fill: #174EA6;\n",
              "    }\n",
              "\n",
              "    .colab-df-buttons div {\n",
              "      margin-bottom: 4px;\n",
              "    }\n",
              "\n",
              "    [theme=dark] .colab-df-convert {\n",
              "      background-color: #3B4455;\n",
              "      fill: #D2E3FC;\n",
              "    }\n",
              "\n",
              "    [theme=dark] .colab-df-convert:hover {\n",
              "      background-color: #434B5C;\n",
              "      box-shadow: 0px 1px 3px 1px rgba(0, 0, 0, 0.15);\n",
              "      filter: drop-shadow(0px 1px 2px rgba(0, 0, 0, 0.3));\n",
              "      fill: #FFFFFF;\n",
              "    }\n",
              "  </style>\n",
              "\n",
              "    <script>\n",
              "      const buttonEl =\n",
              "        document.querySelector('#df-ec48ba9a-0c68-42ae-a2d8-4646f51f4f8a button.colab-df-convert');\n",
              "      buttonEl.style.display =\n",
              "        google.colab.kernel.accessAllowed ? 'block' : 'none';\n",
              "\n",
              "      async function convertToInteractive(key) {\n",
              "        const element = document.querySelector('#df-ec48ba9a-0c68-42ae-a2d8-4646f51f4f8a');\n",
              "        const dataTable =\n",
              "          await google.colab.kernel.invokeFunction('convertToInteractive',\n",
              "                                                    [key], {});\n",
              "        if (!dataTable) return;\n",
              "\n",
              "        const docLinkHtml = 'Like what you see? Visit the ' +\n",
              "          '<a target=\"_blank\" href=https://colab.research.google.com/notebooks/data_table.ipynb>data table notebook</a>'\n",
              "          + ' to learn more about interactive tables.';\n",
              "        element.innerHTML = '';\n",
              "        dataTable['output_type'] = 'display_data';\n",
              "        await google.colab.output.renderOutput(dataTable, element);\n",
              "        const docLink = document.createElement('div');\n",
              "        docLink.innerHTML = docLinkHtml;\n",
              "        element.appendChild(docLink);\n",
              "      }\n",
              "    </script>\n",
              "  </div>\n",
              "\n",
              "\n",
              "<div id=\"df-a276a5f8-23ca-4986-aa97-07643795ad12\">\n",
              "  <button class=\"colab-df-quickchart\" onclick=\"quickchart('df-a276a5f8-23ca-4986-aa97-07643795ad12')\"\n",
              "            title=\"Suggest charts\"\n",
              "            style=\"display:none;\">\n",
              "\n",
              "<svg xmlns=\"http://www.w3.org/2000/svg\" height=\"24px\"viewBox=\"0 0 24 24\"\n",
              "     width=\"24px\">\n",
              "    <g>\n",
              "        <path d=\"M19 3H5c-1.1 0-2 .9-2 2v14c0 1.1.9 2 2 2h14c1.1 0 2-.9 2-2V5c0-1.1-.9-2-2-2zM9 17H7v-7h2v7zm4 0h-2V7h2v10zm4 0h-2v-4h2v4z\"/>\n",
              "    </g>\n",
              "</svg>\n",
              "  </button>\n",
              "\n",
              "<style>\n",
              "  .colab-df-quickchart {\n",
              "      --bg-color: #E8F0FE;\n",
              "      --fill-color: #1967D2;\n",
              "      --hover-bg-color: #E2EBFA;\n",
              "      --hover-fill-color: #174EA6;\n",
              "      --disabled-fill-color: #AAA;\n",
              "      --disabled-bg-color: #DDD;\n",
              "  }\n",
              "\n",
              "  [theme=dark] .colab-df-quickchart {\n",
              "      --bg-color: #3B4455;\n",
              "      --fill-color: #D2E3FC;\n",
              "      --hover-bg-color: #434B5C;\n",
              "      --hover-fill-color: #FFFFFF;\n",
              "      --disabled-bg-color: #3B4455;\n",
              "      --disabled-fill-color: #666;\n",
              "  }\n",
              "\n",
              "  .colab-df-quickchart {\n",
              "    background-color: var(--bg-color);\n",
              "    border: none;\n",
              "    border-radius: 50%;\n",
              "    cursor: pointer;\n",
              "    display: none;\n",
              "    fill: var(--fill-color);\n",
              "    height: 32px;\n",
              "    padding: 0;\n",
              "    width: 32px;\n",
              "  }\n",
              "\n",
              "  .colab-df-quickchart:hover {\n",
              "    background-color: var(--hover-bg-color);\n",
              "    box-shadow: 0 1px 2px rgba(60, 64, 67, 0.3), 0 1px 3px 1px rgba(60, 64, 67, 0.15);\n",
              "    fill: var(--button-hover-fill-color);\n",
              "  }\n",
              "\n",
              "  .colab-df-quickchart-complete:disabled,\n",
              "  .colab-df-quickchart-complete:disabled:hover {\n",
              "    background-color: var(--disabled-bg-color);\n",
              "    fill: var(--disabled-fill-color);\n",
              "    box-shadow: none;\n",
              "  }\n",
              "\n",
              "  .colab-df-spinner {\n",
              "    border: 2px solid var(--fill-color);\n",
              "    border-color: transparent;\n",
              "    border-bottom-color: var(--fill-color);\n",
              "    animation:\n",
              "      spin 1s steps(1) infinite;\n",
              "  }\n",
              "\n",
              "  @keyframes spin {\n",
              "    0% {\n",
              "      border-color: transparent;\n",
              "      border-bottom-color: var(--fill-color);\n",
              "      border-left-color: var(--fill-color);\n",
              "    }\n",
              "    20% {\n",
              "      border-color: transparent;\n",
              "      border-left-color: var(--fill-color);\n",
              "      border-top-color: var(--fill-color);\n",
              "    }\n",
              "    30% {\n",
              "      border-color: transparent;\n",
              "      border-left-color: var(--fill-color);\n",
              "      border-top-color: var(--fill-color);\n",
              "      border-right-color: var(--fill-color);\n",
              "    }\n",
              "    40% {\n",
              "      border-color: transparent;\n",
              "      border-right-color: var(--fill-color);\n",
              "      border-top-color: var(--fill-color);\n",
              "    }\n",
              "    60% {\n",
              "      border-color: transparent;\n",
              "      border-right-color: var(--fill-color);\n",
              "    }\n",
              "    80% {\n",
              "      border-color: transparent;\n",
              "      border-right-color: var(--fill-color);\n",
              "      border-bottom-color: var(--fill-color);\n",
              "    }\n",
              "    90% {\n",
              "      border-color: transparent;\n",
              "      border-bottom-color: var(--fill-color);\n",
              "    }\n",
              "  }\n",
              "</style>\n",
              "\n",
              "  <script>\n",
              "    async function quickchart(key) {\n",
              "      const quickchartButtonEl =\n",
              "        document.querySelector('#' + key + ' button');\n",
              "      quickchartButtonEl.disabled = true;  // To prevent multiple clicks.\n",
              "      quickchartButtonEl.classList.add('colab-df-spinner');\n",
              "      try {\n",
              "        const charts = await google.colab.kernel.invokeFunction(\n",
              "            'suggestCharts', [key], {});\n",
              "      } catch (error) {\n",
              "        console.error('Error during call to suggestCharts:', error);\n",
              "      }\n",
              "      quickchartButtonEl.classList.remove('colab-df-spinner');\n",
              "      quickchartButtonEl.classList.add('colab-df-quickchart-complete');\n",
              "    }\n",
              "    (() => {\n",
              "      let quickchartButtonEl =\n",
              "        document.querySelector('#df-a276a5f8-23ca-4986-aa97-07643795ad12 button');\n",
              "      quickchartButtonEl.style.display =\n",
              "        google.colab.kernel.accessAllowed ? 'block' : 'none';\n",
              "    })();\n",
              "  </script>\n",
              "</div>\n",
              "\n",
              "    </div>\n",
              "  </div>\n"
            ],
            "application/vnd.google.colaboratory.intrinsic+json": {
              "type": "dataframe",
              "variable_name": "df",
              "summary": "{\n  \"name\": \"df\",\n  \"rows\": 2787,\n  \"fields\": [\n    {\n      \"column\": \"Date\",\n      \"properties\": {\n        \"dtype\": \"date\",\n        \"min\": \"2013-10-01 00:00:00\",\n        \"max\": \"2021-05-18 00:00:00\",\n        \"num_unique_values\": 2787,\n        \"samples\": [\n          \"2019-06-11 00:00:00\",\n          \"2021-05-03 00:00:00\",\n          \"2017-10-05 00:00:00\"\n        ],\n        \"semantic_type\": \"\",\n        \"description\": \"\"\n      }\n    },\n    {\n      \"column\": \"Currency\",\n      \"properties\": {\n        \"dtype\": \"category\",\n        \"num_unique_values\": 1,\n        \"samples\": [\n          \"BTC\"\n        ],\n        \"semantic_type\": \"\",\n        \"description\": \"\"\n      }\n    },\n    {\n      \"column\": \"Closing Price (USD)\",\n      \"properties\": {\n        \"dtype\": \"number\",\n        \"std\": 10887.84744436952,\n        \"min\": 108.58483,\n        \"max\": 63346.7890351052,\n        \"num_unique_values\": 2787,\n        \"samples\": [\n          7954.0062377205\n        ],\n        \"semantic_type\": \"\",\n        \"description\": \"\"\n      }\n    },\n    {\n      \"column\": \"24h Open (USD)\",\n      \"properties\": {\n        \"dtype\": \"number\",\n        \"std\": 10863.80077212387,\n        \"min\": 108.58483,\n        \"max\": 63562.6735446382,\n        \"num_unique_values\": 2787,\n        \"samples\": [\n          7600.9225047785\n        ],\n        \"semantic_type\": \"\",\n        \"description\": \"\"\n      }\n    },\n    {\n      \"column\": \"24h High (USD)\",\n      \"properties\": {\n        \"dtype\": \"number\",\n        \"std\": 11206.779756254151,\n        \"min\": 118.675,\n        \"max\": 64801.787869525,\n        \"num_unique_values\": 2787,\n        \"samples\": [\n          8064.9001353225\n        ],\n        \"semantic_type\": \"\",\n        \"description\": \"\"\n      }\n    },\n    {\n      \"column\": \"24h Low (USD)\",\n      \"properties\": {\n        \"dtype\": \"number\",\n        \"std\": 10475.8112518284,\n        \"min\": 83.32833,\n        \"max\": 62094.6329143272,\n        \"num_unique_values\": 2785,\n        \"samples\": [\n          7714.610306452\n        ],\n        \"semantic_type\": \"\",\n        \"description\": \"\"\n      }\n    }\n  ]\n}"
            }
          },
          "metadata": {},
          "execution_count": 4
        }
      ]
    },
    {
      "cell_type": "code",
      "source": [
        "df.info()"
      ],
      "metadata": {
        "colab": {
          "base_uri": "https://localhost:8080/"
        },
        "id": "LHhc2c7vgA23",
        "outputId": "404fda68-9641-4400-cbe8-9ab6e06cebd3"
      },
      "execution_count": null,
      "outputs": [
        {
          "output_type": "stream",
          "name": "stdout",
          "text": [
            "<class 'pandas.core.frame.DataFrame'>\n",
            "DatetimeIndex: 2787 entries, 2013-10-01 to 2021-05-18\n",
            "Data columns (total 5 columns):\n",
            " #   Column               Non-Null Count  Dtype  \n",
            "---  ------               --------------  -----  \n",
            " 0   Currency             2787 non-null   object \n",
            " 1   Closing Price (USD)  2787 non-null   float64\n",
            " 2   24h Open (USD)       2787 non-null   float64\n",
            " 3   24h High (USD)       2787 non-null   float64\n",
            " 4   24h Low (USD)        2787 non-null   float64\n",
            "dtypes: float64(4), object(1)\n",
            "memory usage: 130.6+ KB\n"
          ]
        }
      ]
    },
    {
      "cell_type": "code",
      "source": [
        "bitcoin_prices = df.rename( columns = {'Closing Price (USD)': 'Price'})['Price']"
      ],
      "metadata": {
        "id": "E49UFhawgEZ0"
      },
      "execution_count": null,
      "outputs": []
    },
    {
      "cell_type": "code",
      "source": [
        "bitcoin_prices"
      ],
      "metadata": {
        "colab": {
          "base_uri": "https://localhost:8080/",
          "height": 489
        },
        "id": "tziE6OM_g2wA",
        "outputId": "85ad0c39-432c-45ce-f904-1d6a83b544cb"
      },
      "execution_count": null,
      "outputs": [
        {
          "output_type": "execute_result",
          "data": {
            "text/plain": [
              "Date\n",
              "2013-10-01      123.654990\n",
              "2013-10-02      125.455000\n",
              "2013-10-03      108.584830\n",
              "2013-10-04      118.674660\n",
              "2013-10-05      121.338660\n",
              "                  ...     \n",
              "2021-05-14    49764.132082\n",
              "2021-05-15    50032.693137\n",
              "2021-05-16    47885.625255\n",
              "2021-05-17    45604.615754\n",
              "2021-05-18    43144.471291\n",
              "Name: Price, Length: 2787, dtype: float64"
            ],
            "text/html": [
              "<div>\n",
              "<style scoped>\n",
              "    .dataframe tbody tr th:only-of-type {\n",
              "        vertical-align: middle;\n",
              "    }\n",
              "\n",
              "    .dataframe tbody tr th {\n",
              "        vertical-align: top;\n",
              "    }\n",
              "\n",
              "    .dataframe thead th {\n",
              "        text-align: right;\n",
              "    }\n",
              "</style>\n",
              "<table border=\"1\" class=\"dataframe\">\n",
              "  <thead>\n",
              "    <tr style=\"text-align: right;\">\n",
              "      <th></th>\n",
              "      <th>Price</th>\n",
              "    </tr>\n",
              "    <tr>\n",
              "      <th>Date</th>\n",
              "      <th></th>\n",
              "    </tr>\n",
              "  </thead>\n",
              "  <tbody>\n",
              "    <tr>\n",
              "      <th>2013-10-01</th>\n",
              "      <td>123.654990</td>\n",
              "    </tr>\n",
              "    <tr>\n",
              "      <th>2013-10-02</th>\n",
              "      <td>125.455000</td>\n",
              "    </tr>\n",
              "    <tr>\n",
              "      <th>2013-10-03</th>\n",
              "      <td>108.584830</td>\n",
              "    </tr>\n",
              "    <tr>\n",
              "      <th>2013-10-04</th>\n",
              "      <td>118.674660</td>\n",
              "    </tr>\n",
              "    <tr>\n",
              "      <th>2013-10-05</th>\n",
              "      <td>121.338660</td>\n",
              "    </tr>\n",
              "    <tr>\n",
              "      <th>...</th>\n",
              "      <td>...</td>\n",
              "    </tr>\n",
              "    <tr>\n",
              "      <th>2021-05-14</th>\n",
              "      <td>49764.132082</td>\n",
              "    </tr>\n",
              "    <tr>\n",
              "      <th>2021-05-15</th>\n",
              "      <td>50032.693137</td>\n",
              "    </tr>\n",
              "    <tr>\n",
              "      <th>2021-05-16</th>\n",
              "      <td>47885.625255</td>\n",
              "    </tr>\n",
              "    <tr>\n",
              "      <th>2021-05-17</th>\n",
              "      <td>45604.615754</td>\n",
              "    </tr>\n",
              "    <tr>\n",
              "      <th>2021-05-18</th>\n",
              "      <td>43144.471291</td>\n",
              "    </tr>\n",
              "  </tbody>\n",
              "</table>\n",
              "<p>2787 rows × 1 columns</p>\n",
              "</div><br><label><b>dtype:</b> float64</label>"
            ]
          },
          "metadata": {},
          "execution_count": 7
        }
      ]
    },
    {
      "cell_type": "code",
      "source": [
        "bitcoin_prices.plot()\n",
        "plt.ylabel('price of bitcoin')\n",
        "plt.xlabel('years')\n",
        "plt.title('price of bitcoin over years')\n",
        "plt.legend(fontsize = 14)"
      ],
      "metadata": {
        "colab": {
          "base_uri": "https://localhost:8080/",
          "height": 489
        },
        "id": "7iL0P4nfg9Aw",
        "outputId": "44d71b89-810d-4cba-aa31-12c85bb8897f"
      },
      "execution_count": null,
      "outputs": [
        {
          "output_type": "execute_result",
          "data": {
            "text/plain": [
              "<matplotlib.legend.Legend at 0x77fd39494c10>"
            ]
          },
          "metadata": {},
          "execution_count": 8
        },
        {
          "output_type": "display_data",
          "data": {
            "text/plain": [
              "<Figure size 640x480 with 1 Axes>"
            ],
            "image/png": "[encoded data removed]"
          },
          "metadata": {}
        }
      ]
    },
    {
      "cell_type": "code",
      "source": [
        "prices = []\n",
        "year = []\n",
        "import csv\n",
        "from datetime import datetime\n",
        "with open('/content/BTC_USD_2013-10-01_2021-05-18-CoinDesk.csv', 'r') as f:\n",
        "  # print(f)\n",
        "  reader = csv.reader(f)\n",
        "  next(reader)\n",
        "  for row in reader:\n",
        "    year.append(datetime.strptime(row[1], \"%Y-%m-%d\"))\n",
        "    prices.append(float(row[2]))\n",
        "\n",
        "\n"
      ],
      "metadata": {
        "id": "Re6J_kZhjbD-"
      },
      "execution_count": null,
      "outputs": []
    },
    {
      "cell_type": "code",
      "source": [
        "year[:10], prices[:10]"
      ],
      "metadata": {
        "colab": {
          "base_uri": "https://localhost:8080/"
        },
        "id": "1gm3Tj9XkUPl",
        "outputId": "57678b62-5068-4e2b-b7cb-7341a770a7e1"
      },
      "execution_count": null,
      "outputs": [
        {
          "output_type": "execute_result",
          "data": {
            "text/plain": [
              "([datetime.datetime(2013, 10, 1, 0, 0),\n",
              "  datetime.datetime(2013, 10, 2, 0, 0),\n",
              "  datetime.datetime(2013, 10, 3, 0, 0),\n",
              "  datetime.datetime(2013, 10, 4, 0, 0),\n",
              "  datetime.datetime(2013, 10, 5, 0, 0),\n",
              "  datetime.datetime(2013, 10, 6, 0, 0),\n",
              "  datetime.datetime(2013, 10, 7, 0, 0),\n",
              "  datetime.datetime(2013, 10, 8, 0, 0),\n",
              "  datetime.datetime(2013, 10, 9, 0, 0),\n",
              "  datetime.datetime(2013, 10, 10, 0, 0)],\n",
              " [123.65499,\n",
              "  125.455,\n",
              "  108.58483,\n",
              "  118.67466,\n",
              "  121.33866,\n",
              "  120.65533,\n",
              "  121.795,\n",
              "  123.033,\n",
              "  124.049,\n",
              "  125.96116])"
            ]
          },
          "metadata": {},
          "execution_count": 10
        }
      ]
    },
    {
      "cell_type": "code",
      "source": [
        "plt.plot(year,prices)\n",
        "plt.ylabel('price')\n",
        "plt.xlabel('years')\n",
        "plt.title('price along years')"
      ],
      "metadata": {
        "colab": {
          "base_uri": "https://localhost:8080/",
          "height": 489
        },
        "id": "DFY6NnYekwBf",
        "outputId": "954ea47b-65da-424a-ad9a-6cbbd0c41e31"
      },
      "execution_count": null,
      "outputs": [
        {
          "output_type": "execute_result",
          "data": {
            "text/plain": [
              "Text(0.5, 1.0, 'price along years')"
            ]
          },
          "metadata": {},
          "execution_count": 11
        },
        {
          "output_type": "display_data",
          "data": {
            "text/plain": [
              "<Figure size 640x480 with 1 Axes>"
            ],
            "image/png": "[encoded data removed]"
          },
          "metadata": {}
        }
      ]
    },
    {
      "cell_type": "code",
      "source": [
        "train_size = int(0.8 * len(year))\n",
        "\n",
        "X_train = year[:train_size]\n",
        "y_train = prices[:train_size]\n",
        "\n",
        "X_test = year[train_size:]\n",
        "y_test = prices[train_size:]"
      ],
      "metadata": {
        "id": "WubvLKjVm6NA"
      },
      "execution_count": null,
      "outputs": []
    },
    {
      "cell_type": "code",
      "source": [
        "len(X_train), len(X_test), len(y_train), len(y_test)"
      ],
      "metadata": {
        "colab": {
          "base_uri": "https://localhost:8080/"
        },
        "id": "Fxehz-x6ntJy",
        "outputId": "4ecc1659-5427-4892-d1f4-baf88fc38105"
      },
      "execution_count": null,
      "outputs": [
        {
          "output_type": "execute_result",
          "data": {
            "text/plain": [
              "(2229, 558, 2229, 558)"
            ]
          },
          "metadata": {},
          "execution_count": 13
        }
      ]
    },
    {
      "cell_type": "code",
      "source": [
        "plt.figure(figsize = (10,7))\n",
        "plt.scatter(X_train,y_train)\n",
        "plt.scatter(X_test,y_test)\n",
        "plt.xlabel('years')\n",
        "plt.ylabel('price')"
      ],
      "metadata": {
        "colab": {
          "base_uri": "https://localhost:8080/",
          "height": 628
        },
        "id": "wkdc-_2cnyel",
        "outputId": "fb513354-e5db-4fa4-e595-061ad444b11f"
      },
      "execution_count": null,
      "outputs": [
        {
          "output_type": "execute_result",
          "data": {
            "text/plain": [
              "Text(0, 0.5, 'price')"
            ]
          },
          "metadata": {},
          "execution_count": 14
        },
        {
          "output_type": "display_data",
          "data": {
            "text/plain": [
              "<Figure size 1000x700 with 1 Axes>"
            ],
            "image/png": "[encoded data removed]"
          },
          "metadata": {}
        }
      ]
    },
    {
      "cell_type": "code",
      "source": [
        "def plot_time_series(time, values, format = '.', start = 0, end = None, label = None):\n",
        "\n",
        "  plt.plot(time[start:end], values[start:end], format,label = label)\n",
        "  plt.xlabel('years')\n",
        "  plt.ylabel('price')\n",
        "  if label:\n",
        "    plt.legend(fontsize = 14)\n",
        "  plt.grid(True)"
      ],
      "metadata": {
        "id": "NnUEkZS-oBRB"
      },
      "execution_count": null,
      "outputs": []
    },
    {
      "cell_type": "code",
      "source": [
        "plt.figure(figsize = (10,7))\n",
        "plot_time_series(X_train, y_train)\n",
        "plot_time_series(X_test,y_test)"
      ],
      "metadata": {
        "colab": {
          "base_uri": "https://localhost:8080/",
          "height": 611
        },
        "id": "EeTQUEfSrobD",
        "outputId": "d7f9da1f-5379-4893-b4fa-24b88864dcdb"
      },
      "execution_count": null,
      "outputs": [
        {
          "output_type": "display_data",
          "data": {
            "text/plain": [
              "<Figure size 1000x700 with 1 Axes>"
            ],
            "image/png": "[encoded data removed]"
          },
          "metadata": {}
        }
      ]
    },
    {
      "cell_type": "markdown",
      "source": [
        "# **Model experiments**"
      ],
      "metadata": {
        "id": "XM3A7dxQr8ry"
      }
    },
    {
      "cell_type": "markdown",
      "source": [
        "**Model 0 Naive Forecast**"
      ],
      "metadata": {
        "id": "dL-8m7P4XMzO"
      }
    },
    {
      "cell_type": "code",
      "source": [
        "naive_forecast = y_test[:-1]\n",
        "naive_forecast[:10], naive_forecast[-10:]"
      ],
      "metadata": {
        "id": "cPeJCyonrxrs",
        "colab": {
          "base_uri": "https://localhost:8080/"
        },
        "outputId": "2900dba1-4550-4faa-bcbe-84695e17c420"
      },
      "execution_count": null,
      "outputs": [
        {
          "output_type": "execute_result",
          "data": {
            "text/plain": [
              "([9226.4858208826,\n",
              "  8794.3586445233,\n",
              "  8798.0420546256,\n",
              "  9081.1868784913,\n",
              "  8711.5343391679,\n",
              "  8760.8927181435,\n",
              "  8749.520591019,\n",
              "  8656.970922354,\n",
              "  8500.6435581622,\n",
              "  8469.2608988992],\n",
              " [57107.1206718864,\n",
              "  58788.2096789273,\n",
              "  58102.1914262342,\n",
              "  55715.5466512869,\n",
              "  56573.5554719043,\n",
              "  52147.8211869823,\n",
              "  49764.1320815975,\n",
              "  50032.6931367648,\n",
              "  47885.6252547166,\n",
              "  45604.6157536131])"
            ]
          },
          "metadata": {},
          "execution_count": 17
        }
      ]
    },
    {
      "cell_type": "code",
      "source": [
        "plot_time_series(X_train,y_train)\n",
        "plot_time_series(X_test,y_test,)\n",
        "plot_time_series(X_test[1:], naive_forecast, format = '-', label = 'naive_forecast')"
      ],
      "metadata": {
        "colab": {
          "base_uri": "https://localhost:8080/",
          "height": 449
        },
        "id": "StGftUVPXfhS",
        "outputId": "71c8fa1f-49c6-4641-8f38-2a1553f755cc"
      },
      "execution_count": null,
      "outputs": [
        {
          "output_type": "display_data",
          "data": {
            "text/plain": [
              "<Figure size 640x480 with 1 Axes>"
            ],
            "image/png": "[encoded data removed]"
          },
          "metadata": {}
        }
      ]
    },
    {
      "cell_type": "code",
      "source": [
        "# plot_time_series(X_train, y_train)\n",
        "plot_time_series(X_test, y_test, start = 300)\n",
        "offset = 300\n",
        "plot_time_series(time=X_test[1:], values=naive_forecast, format=\"-\", start=300, label=\"Naive forecast\");"
      ],
      "metadata": {
        "colab": {
          "base_uri": "https://localhost:8080/",
          "height": 449
        },
        "id": "H6qIq6CkXvrI",
        "outputId": "f9d3772f-6e0a-4e54-e82c-a392eccce9ea"
      },
      "execution_count": null,
      "outputs": [
        {
          "output_type": "display_data",
          "data": {
            "text/plain": [
              "<Figure size 640x480 with 1 Axes>"
            ],
            "image/png": "[encoded data removed]"
          },
          "metadata": {}
        }
      ]
    },
    {
      "cell_type": "markdown",
      "source": [
        "**Evaluating time series model**"
      ],
      "metadata": {
        "id": "bj3aFOi8aKIt"
      }
    },
    {
      "cell_type": "code",
      "source": [
        "def mean_absolute_scaled_error(y_true, y_pred):\n",
        "\n",
        "  mae = tf.reduce_mean(abs(y_true - y_pred))\n",
        "\n",
        "  #mae of naive forecast\n",
        "  naive_mae = tf.reduce_mean(abs(y_true[1:] - y_true[:-1]))\n",
        "\n",
        "  return mae/naive_mae"
      ],
      "metadata": {
        "id": "NHnvcUUxZA6j"
      },
      "execution_count": null,
      "outputs": []
    },
    {
      "cell_type": "code",
      "source": [
        "def evaluate_preds(y_true, y_pred):\n",
        "  # print('entered')\n",
        "  y_true = tf.cast(y_true, dtype = tf.float32)\n",
        "  y_pred = tf.cast(y_pred, dtype = tf.float32)\n",
        "  # print('crossed')\n",
        "\n",
        "  mae_f = tf.keras.metrics.MeanAbsoluteError()\n",
        "  mae_f.update_state(y_true, y_pred)\n",
        "  mae = mae_f.result().numpy()\n",
        "\n",
        "  #mase\n",
        "  mase_f = tf.keras.metrics.MeanSquaredError()\n",
        "  mase_f.update_state(y_true, y_pred)\n",
        "  mse = mase_f.result().numpy()\n",
        "\n",
        "  # mase\n",
        "  mase = mean_absolute_scaled_error(y_true, y_pred).numpy()\n",
        "\n",
        "  #rmse\n",
        "  rmse_f = tf.keras.metrics.RootMeanSquaredError()\n",
        "  rmse_f.update_state(y_true, y_pred)\n",
        "  rmse = rmse_f.result().numpy()\n",
        "\n",
        "  #mape\n",
        "  mape_f = tf.keras.metrics.MeanAbsolutePercentageError()\n",
        "  mape_f.update_state(y_true, y_pred)\n",
        "  mape = mape_f.result().numpy()\n",
        "\n",
        "  return ({\n",
        "      'mae': mae,\n",
        "      'mse': mse,\n",
        "      'rmse': rmse,\n",
        "      'mape': mape,\n",
        "      'mase': mase\n",
        "  })"
      ],
      "metadata": {
        "id": "XKwl0p-NdlSE"
      },
      "execution_count": null,
      "outputs": []
    },
    {
      "cell_type": "code",
      "source": [
        "naive_results = evaluate_preds(y_test[1:], naive_forecast)\n",
        "naive_results"
      ],
      "metadata": {
        "colab": {
          "base_uri": "https://localhost:8080/"
        },
        "id": "uOeYT_Q2fZvs",
        "outputId": "5ea1219e-1412-4a34-c621-328f47f85116"
      },
      "execution_count": null,
      "outputs": [
        {
          "output_type": "execute_result",
          "data": {
            "text/plain": [
              "{'mae': 567.9802,\n",
              " 'mse': 1147547.0,\n",
              " 'rmse': 1071.2362,\n",
              " 'mape': 2.5165248,\n",
              " 'mase': 0.99957}"
            ]
          },
          "metadata": {},
          "execution_count": 22
        }
      ]
    },
    {
      "cell_type": "markdown",
      "source": [
        "# **Windowing Datasets**"
      ],
      "metadata": {
        "id": "T87zbcWUqgPb"
      }
    },
    {
      "cell_type": "code",
      "source": [
        "HORIZON = 1\n",
        "WINDOW_SIZE = 7"
      ],
      "metadata": {
        "id": "n6RgNKdBq0du"
      },
      "execution_count": null,
      "outputs": []
    },
    {
      "cell_type": "code",
      "source": [
        "\n",
        "\n",
        "def get_labeled_windows(x, horizon = 1):\n",
        "\n",
        "  return x[:,:-horizon], x[:,-horizon:]\n"
      ],
      "metadata": {
        "id": "01BOugV5foRT"
      },
      "execution_count": null,
      "outputs": []
    },
    {
      "cell_type": "code",
      "source": [],
      "metadata": {
        "id": "RYndgExEtTrq"
      },
      "execution_count": null,
      "outputs": []
    },
    {
      "cell_type": "code",
      "source": [
        "test_window, test_label = get_labeled_windows(tf.expand_dims(tf.range(8)+1, axis=0), horizon=HORIZON)"
      ],
      "metadata": {
        "id": "OjZ2ZVz4rBpi"
      },
      "execution_count": null,
      "outputs": []
    },
    {
      "cell_type": "code",
      "source": [
        "test_window, test_label"
      ],
      "metadata": {
        "colab": {
          "base_uri": "https://localhost:8080/"
        },
        "id": "0hs1TcuJrE7H",
        "outputId": "29732d81-be2e-41f8-d5ef-d502de26d4f9"
      },
      "execution_count": null,
      "outputs": [
        {
          "output_type": "execute_result",
          "data": {
            "text/plain": [
              "(<tf.Tensor: shape=(1, 7), dtype=int32, numpy=array([[1, 2, 3, 4, 5, 6, 7]], dtype=int32)>,\n",
              " <tf.Tensor: shape=(1, 1), dtype=int32, numpy=array([[8]], dtype=int32)>)"
            ]
          },
          "metadata": {},
          "execution_count": 26
        }
      ]
    },
    {
      "cell_type": "code",
      "source": [
        "rices = np.arange(3000)"
      ],
      "metadata": {
        "id": "f-1TyX2QTuZt"
      },
      "execution_count": null,
      "outputs": []
    },
    {
      "cell_type": "code",
      "source": [
        "rices.shape"
      ],
      "metadata": {
        "colab": {
          "base_uri": "https://localhost:8080/"
        },
        "id": "ped05URGdcMG",
        "outputId": "ceb91a20-3e01-4d7e-e928-09a7b4df66bd"
      },
      "execution_count": null,
      "outputs": [
        {
          "output_type": "execute_result",
          "data": {
            "text/plain": [
              "(3000,)"
            ]
          },
          "metadata": {},
          "execution_count": 28
        }
      ]
    },
    {
      "cell_type": "code",
      "source": [
        "# Create function to view NumPy arrays as windows\n",
        "def make_windows(x, window_size=7, horizon=1):\n",
        "  \"\"\"\n",
        "  Turns a 1D array into a 2D array of sequential windows of window_size.\n",
        "  \"\"\"\n",
        "  # 1. Create a window of specific window_size (add the horizon on the end for later labelling)\n",
        "  window_step = np.expand_dims(np.arange(window_size+horizon), axis=0)\n",
        "  # print(f\"Window step:\\n {window_step}\")\n",
        "\n",
        "  # 2. Create a 2D array of multiple window steps (minus 1 to account for 0 indexing)\n",
        "  window_indexes = window_step + np.expand_dims(np.arange(len(x)-(window_size+horizon-1)), axis=0).T # create 2D array of windows of size window_size\n",
        "  # print(f\"Window indexes:\\n {window_indexes[:3], window_indexes[-3:], window_indexes.shape}\")\n",
        "\n",
        "  # 3. Index on the target array (time series) with 2D array of multiple window steps\n",
        "  windowed_array = x[window_indexes]\n",
        "\n",
        "  # 4. Get the labelled windows\n",
        "  windows, labels = get_labeled_windows(windowed_array, horizon=horizon)\n",
        "\n",
        "  return windows, labels"
      ],
      "metadata": {
        "id": "yquTVRpQeR1N"
      },
      "execution_count": null,
      "outputs": []
    },
    {
      "cell_type": "code",
      "source": [
        "prices = np.array(prices)"
      ],
      "metadata": {
        "id": "ienPbeZWdGmz"
      },
      "execution_count": null,
      "outputs": []
    },
    {
      "cell_type": "code",
      "source": [
        "full_windows, full_labels = make_windows(prices, window_size = 7, horizon = 1)"
      ],
      "metadata": {
        "id": "wDpJMgaq1Apv"
      },
      "execution_count": null,
      "outputs": []
    },
    {
      "cell_type": "code",
      "source": [
        "full_windows[:3]"
      ],
      "metadata": {
        "colab": {
          "base_uri": "https://localhost:8080/"
        },
        "id": "3BdrX3oB1AiK",
        "outputId": "0385cad1-1376-41f4-ad25-024855dcc69e"
      },
      "execution_count": null,
      "outputs": [
        {
          "output_type": "execute_result",
          "data": {
            "text/plain": [
              "array([[123.65499, 125.455  , 108.58483, 118.67466, 121.33866, 120.65533,\n",
              "        121.795  ],\n",
              "       [125.455  , 108.58483, 118.67466, 121.33866, 120.65533, 121.795  ,\n",
              "        123.033  ],\n",
              "       [108.58483, 118.67466, 121.33866, 120.65533, 121.795  , 123.033  ,\n",
              "        124.049  ]])"
            ]
          },
          "metadata": {},
          "execution_count": 32
        }
      ]
    },
    {
      "cell_type": "code",
      "source": [
        "full_labels[:3]"
      ],
      "metadata": {
        "id": "bQ3j7W4HT-mp",
        "colab": {
          "base_uri": "https://localhost:8080/"
        },
        "outputId": "e4b3aa9d-d188-4c11-cb4f-a4ba2b4d2e67"
      },
      "execution_count": null,
      "outputs": [
        {
          "output_type": "execute_result",
          "data": {
            "text/plain": [
              "array([[123.033  ],\n",
              "       [124.049  ],\n",
              "       [125.96116]])"
            ]
          },
          "metadata": {},
          "execution_count": 33
        }
      ]
    },
    {
      "cell_type": "code",
      "source": [
        "len(full_windows), len(full_labels)"
      ],
      "metadata": {
        "colab": {
          "base_uri": "https://localhost:8080/"
        },
        "id": "-qvQf1fjd5lq",
        "outputId": "4f2380da-ab64-4bf7-e0db-56b74940eb44"
      },
      "execution_count": null,
      "outputs": [
        {
          "output_type": "execute_result",
          "data": {
            "text/plain": [
              "(2780, 2780)"
            ]
          },
          "metadata": {},
          "execution_count": 34
        }
      ]
    },
    {
      "cell_type": "code",
      "source": [
        "for i in range (3):\n",
        "  print(f\"the window is {full_windows[i]} -->\")\n",
        "  print(full_labels[i])"
      ],
      "metadata": {
        "colab": {
          "base_uri": "https://localhost:8080/"
        },
        "id": "XRrSByZJeAry",
        "outputId": "6b8c9469-bec6-4deb-ff2a-2c1281b0081a"
      },
      "execution_count": null,
      "outputs": [
        {
          "output_type": "stream",
          "name": "stdout",
          "text": [
            "the window is [123.65499 125.455   108.58483 118.67466 121.33866 120.65533 121.795  ] -->\n",
            "[123.033]\n",
            "the window is [125.455   108.58483 118.67466 121.33866 120.65533 121.795   123.033  ] -->\n",
            "[124.049]\n",
            "the window is [108.58483 118.67466 121.33866 120.65533 121.795   123.033   124.049  ] -->\n",
            "[125.96116]\n"
          ]
        }
      ]
    },
    {
      "cell_type": "code",
      "source": [
        "# last 3 values\n",
        "for i in range (3):\n",
        "  print(f\"the window is {full_windows[-i]} --> {full_labels[-i]}\")"
      ],
      "metadata": {
        "colab": {
          "base_uri": "https://localhost:8080/"
        },
        "id": "DboqdQHyeqHP",
        "outputId": "9e164721-0396-43bf-cc28-88589f65588c"
      },
      "execution_count": null,
      "outputs": [
        {
          "output_type": "stream",
          "name": "stdout",
          "text": [
            "the window is [123.65499 125.455   108.58483 118.67466 121.33866 120.65533 121.795  ] --> [123.033]\n",
            "the window is [55715.54665129 56573.5554719  52147.82118698 49764.1320816\n",
            " 50032.69313676 47885.62525472 45604.61575361] --> [43144.47129086]\n",
            "the window is [58102.19142623 55715.54665129 56573.5554719  52147.82118698\n",
            " 49764.1320816  50032.69313676 47885.62525472] --> [45604.61575361]\n"
          ]
        }
      ]
    },
    {
      "cell_type": "markdown",
      "source": [
        "# **Turning into Training and Testing Datasets**"
      ],
      "metadata": {
        "id": "ydzgxNOufpH7"
      }
    },
    {
      "cell_type": "code",
      "source": [
        "def make_train_test_splits(windows, labels, test_size = 0.2):\n",
        "\n",
        "  split = int((1-test_size) * len(windows))\n",
        "  print(split)\n",
        "  window_train, window_test = windows [:split], windows[split:]\n",
        "  label_train, label_test = labels[:split], labels[split:]\n",
        "\n",
        "  return window_train, window_test,label_train, label_test"
      ],
      "metadata": {
        "id": "oiOpfiSxe-0O"
      },
      "execution_count": null,
      "outputs": []
    },
    {
      "cell_type": "code",
      "source": [
        "train_windows, test_windows, train_labels, test_labels = make_train_test_splits(full_windows, full_labels)"
      ],
      "metadata": {
        "colab": {
          "base_uri": "https://localhost:8080/"
        },
        "id": "rphFIRLfioFV",
        "outputId": "a559f5aa-0129-414b-cd97-2a0404be551d"
      },
      "execution_count": null,
      "outputs": [
        {
          "output_type": "stream",
          "name": "stdout",
          "text": [
            "2224\n"
          ]
        }
      ]
    },
    {
      "cell_type": "code",
      "source": [
        "len(train_windows), len(test_windows), len(train_labels), len(test_labels)"
      ],
      "metadata": {
        "colab": {
          "base_uri": "https://localhost:8080/"
        },
        "id": "ls3mYZNXjVPc",
        "outputId": "f0edc2c2-6d1d-409e-e237-79805b4eac8f"
      },
      "execution_count": null,
      "outputs": [
        {
          "output_type": "execute_result",
          "data": {
            "text/plain": [
              "(2224, 556, 2224, 556)"
            ]
          },
          "metadata": {},
          "execution_count": 39
        }
      ]
    },
    {
      "cell_type": "code",
      "source": [
        "train_windows[:5], train_labels[:5]"
      ],
      "metadata": {
        "colab": {
          "base_uri": "https://localhost:8080/"
        },
        "id": "3GQJFK86jc3_",
        "outputId": "e2e0c9e8-d2b6-42f3-db66-d62b98a418bf"
      },
      "execution_count": null,
      "outputs": [
        {
          "output_type": "execute_result",
          "data": {
            "text/plain": [
              "(array([[123.65499, 125.455  , 108.58483, 118.67466, 121.33866, 120.65533,\n",
              "         121.795  ],\n",
              "        [125.455  , 108.58483, 118.67466, 121.33866, 120.65533, 121.795  ,\n",
              "         123.033  ],\n",
              "        [108.58483, 118.67466, 121.33866, 120.65533, 121.795  , 123.033  ,\n",
              "         124.049  ],\n",
              "        [118.67466, 121.33866, 120.65533, 121.795  , 123.033  , 124.049  ,\n",
              "         125.96116],\n",
              "        [121.33866, 120.65533, 121.795  , 123.033  , 124.049  , 125.96116,\n",
              "         125.27966]]),\n",
              " array([[123.033  ],\n",
              "        [124.049  ],\n",
              "        [125.96116],\n",
              "        [125.27966],\n",
              "        [125.9275 ]]))"
            ]
          },
          "metadata": {},
          "execution_count": 40
        }
      ]
    },
    {
      "cell_type": "code",
      "source": [
        "WINDOW_SIZE, HORIZON"
      ],
      "metadata": {
        "colab": {
          "base_uri": "https://localhost:8080/"
        },
        "id": "oaBKNf6VlsDv",
        "outputId": "e317e17c-5933-4b62-962e-a9136a7c93e6"
      },
      "execution_count": null,
      "outputs": [
        {
          "output_type": "execute_result",
          "data": {
            "text/plain": [
              "(7, 1)"
            ]
          },
          "metadata": {},
          "execution_count": 41
        }
      ]
    },
    {
      "cell_type": "code",
      "source": [
        "len(y_train)"
      ],
      "metadata": {
        "colab": {
          "base_uri": "https://localhost:8080/"
        },
        "id": "-8LO0zrOmA9b",
        "outputId": "65a84496-a860-4aa4-ea66-3e19564a1f8c"
      },
      "execution_count": null,
      "outputs": [
        {
          "output_type": "execute_result",
          "data": {
            "text/plain": [
              "2229"
            ]
          },
          "metadata": {},
          "execution_count": 42
        }
      ]
    },
    {
      "cell_type": "code",
      "source": [
        "np.array_equal(y_train[WINDOW_SIZE:], np.squeeze(train_labels))"
      ],
      "metadata": {
        "colab": {
          "base_uri": "https://localhost:8080/"
        },
        "id": "MqOXgLvelXO5",
        "outputId": "9cee46ee-52e4-46ee-b3a3-a4785e172107"
      },
      "execution_count": null,
      "outputs": [
        {
          "output_type": "execute_result",
          "data": {
            "text/plain": [
              "False"
            ]
          },
          "metadata": {},
          "execution_count": 43
        }
      ]
    },
    {
      "cell_type": "code",
      "source": [
        "np.array(y_train).shape"
      ],
      "metadata": {
        "colab": {
          "base_uri": "https://localhost:8080/"
        },
        "id": "f82hDNaumfRp",
        "outputId": "feb3e422-d87d-41d3-f02c-baf2aef34e8e"
      },
      "execution_count": null,
      "outputs": [
        {
          "output_type": "execute_result",
          "data": {
            "text/plain": [
              "(2229,)"
            ]
          },
          "metadata": {},
          "execution_count": 44
        }
      ]
    },
    {
      "cell_type": "code",
      "source": [
        "np.squeeze(train_labels).shape"
      ],
      "metadata": {
        "colab": {
          "base_uri": "https://localhost:8080/"
        },
        "id": "SJsmG--hln9k",
        "outputId": "14a737f8-336f-4a66-c364-09430a4d9b8c"
      },
      "execution_count": null,
      "outputs": [
        {
          "output_type": "execute_result",
          "data": {
            "text/plain": [
              "(2224,)"
            ]
          },
          "metadata": {},
          "execution_count": 45
        }
      ]
    },
    {
      "cell_type": "code",
      "source": [
        "np.array(y_train[7:])"
      ],
      "metadata": {
        "colab": {
          "base_uri": "https://localhost:8080/"
        },
        "id": "cp6jXdaumeC4",
        "outputId": "696efc33-33e2-4fb7-a6de-c5c44f589b07"
      },
      "execution_count": null,
      "outputs": [
        {
          "output_type": "execute_result",
          "data": {
            "text/plain": [
              "array([ 123.033     ,  124.049     ,  125.96116   , ..., 9369.62808116,\n",
              "       9326.59962378, 9335.75240233])"
            ]
          },
          "metadata": {},
          "execution_count": 46
        }
      ]
    },
    {
      "cell_type": "code",
      "source": [
        "np.squeeze(train_labels[:-2])"
      ],
      "metadata": {
        "colab": {
          "base_uri": "https://localhost:8080/"
        },
        "id": "ie8lntzym5nS",
        "outputId": "2bc43c9c-5da1-4854-ebb4-5ab850eb7b62"
      },
      "execution_count": null,
      "outputs": [
        {
          "output_type": "execute_result",
          "data": {
            "text/plain": [
              "array([ 123.033     ,  124.049     ,  125.96116   , ..., 9369.62808116,\n",
              "       9326.59962378, 9335.75240233])"
            ]
          },
          "metadata": {},
          "execution_count": 47
        }
      ]
    },
    {
      "cell_type": "markdown",
      "source": [
        "# **Make a modeling Checkpoint**"
      ],
      "metadata": {
        "id": "pzpfJYCCp_oH"
      }
    },
    {
      "cell_type": "code",
      "source": [
        "import os"
      ],
      "metadata": {
        "id": "xmDo0pA3rCXv"
      },
      "execution_count": null,
      "outputs": []
    },
    {
      "cell_type": "code",
      "source": [
        "def create_model_checkpoint(model_name, savepath = 'model_experiments'):\n",
        "  total_path = os.path.join(savepath, model_name + '.keras')\n",
        "  print(total_path)\n",
        "\n",
        "  back = tf.keras.callbacks.ModelCheckpoint(total_path,\n",
        "                                     monitor='val_loss',\n",
        "                                     verbose=1, save_best_only=True)\n",
        "  return back"
      ],
      "metadata": {
        "id": "rfEz8p1Pm68-"
      },
      "execution_count": null,
      "outputs": []
    },
    {
      "cell_type": "markdown",
      "source": [
        "**Model1 Dense Model**"
      ],
      "metadata": {
        "id": "5IFp7TARrlK6"
      }
    },
    {
      "cell_type": "code",
      "source": [
        "from tensorflow.keras import Sequential\n",
        "from tensorflow.keras import layers"
      ],
      "metadata": {
        "id": "bo3NdegDrq-8"
      },
      "execution_count": null,
      "outputs": []
    },
    {
      "cell_type": "code",
      "source": [
        "# Construct model\n",
        "model_1 = tf.keras.Sequential([\n",
        "  layers.Dense(128, activation=\"relu\"),\n",
        "  layers.Dense(HORIZON, activation=\"linear\") # linear activation is the same as having no activation\n",
        "], name=\"model_1_dense\") # give the model a name so we can save it\n",
        "\n",
        "model_1.compile(loss = 'mae',\n",
        "                optimizer = tf.keras.optimizers.Adam()\n",
        "               )\n",
        "\n",
        "model_1.fit(train_windows,train_labels,\n",
        "            epochs = 100, validation_data = (test_windows, test_labels),\n",
        "            batch_size = 128,\n",
        "            verbose = 1,\n",
        "             callbacks = [create_model_checkpoint(model_name ='model_1_dense')]\n",
        "            )"
      ],
      "metadata": {
        "colab": {
          "base_uri": "https://localhost:8080/"
        },
        "collapsed": true,
        "id": "6xqSzX8SrcEa",
        "outputId": "f79f9980-d83b-4b1f-dd45-41cb387acc4d"
      },
      "execution_count": null,
      "outputs": [
        {
          "output_type": "stream",
          "name": "stdout",
          "text": [
            "model_experiments/model_1_dense.keras\n",
            "Epoch 1/100\n",
            "\u001b[1m17/18\u001b[0m \u001b[32m━━━━━━━━━━━━━━━━━━\u001b[0m\u001b[37m━━\u001b[0m \u001b[1m0s\u001b[0m 6ms/step - loss: 391.3600\n",
            "Epoch 1: val_loss improved from inf to 1129.25916, saving model to model_experiments/model_1_dense.keras\n",
            "\u001b[1m18/18\u001b[0m \u001b[32m━━━━━━━━━━━━━━━━━━━━\u001b[0m\u001b[37m\u001b[0m \u001b[1m5s\u001b[0m 41ms/step - loss: 379.0092 - val_loss: 1129.2592\n",
            "Epoch 2/100\n",
            "\u001b[1m11/18\u001b[0m \u001b[32m━━━━━━━━━━━━\u001b[0m\u001b[37m━━━━━━━━\u001b[0m \u001b[1m0s\u001b[0m 5ms/step - loss: 157.9414 \n",
            "Epoch 2: val_loss improved from 1129.25916 to 721.46918, saving model to model_experiments/model_1_dense.keras\n",
            "\u001b[1m18/18\u001b[0m \u001b[32m━━━━━━━━━━━━━━━━━━━━\u001b[0m\u001b[37m\u001b[0m \u001b[1m0s\u001b[0m 9ms/step - loss: 153.7243 - val_loss: 721.4692\n",
            "Epoch 3/100\n",
            "\u001b[1m 1/18\u001b[0m \u001b[32m━\u001b[0m\u001b[37m━━━━━━━━━━━━━━━━━━━\u001b[0m \u001b[1m0s\u001b[0m 43ms/step - loss: 132.1640\n",
            "Epoch 3: val_loss did not improve from 721.46918\n",
            "\u001b[1m18/18\u001b[0m \u001b[32m━━━━━━━━━━━━━━━━━━━━\u001b[0m\u001b[37m\u001b[0m \u001b[1m0s\u001b[0m 10ms/step - loss: 128.7434 - val_loss: 782.9761\n",
            "Epoch 4/100\n",
            "\u001b[1m 1/18\u001b[0m \u001b[32m━\u001b[0m\u001b[37m━━━━━━━━━━━━━━━━━━━\u001b[0m \u001b[1m2s\u001b[0m 130ms/step - loss: 142.1726\n",
            "Epoch 4: val_loss improved from 721.46918 to 711.39691, saving model to model_experiments/model_1_dense.keras\n",
            "\u001b[1m18/18\u001b[0m \u001b[32m━━━━━━━━━━━━━━━━━━━━\u001b[0m\u001b[37m\u001b[0m \u001b[1m0s\u001b[0m 7ms/step - loss: 124.0959 - val_loss: 711.3969\n",
            "Epoch 5/100\n",
            "\u001b[1m16/18\u001b[0m \u001b[32m━━━━━━━━━━━━━━━━━\u001b[0m\u001b[37m━━━\u001b[0m \u001b[1m0s\u001b[0m 4ms/step - loss: 123.4986  \n",
            "Epoch 5: val_loss improved from 711.39691 to 643.70819, saving model to model_experiments/model_1_dense.keras\n",
            "\u001b[1m18/18\u001b[0m \u001b[32m━━━━━━━━━━━━━━━━━━━━\u001b[0m\u001b[37m\u001b[0m \u001b[1m0s\u001b[0m 17ms/step - loss: 123.9148 - val_loss: 643.7082\n",
            "Epoch 6/100\n",
            "\u001b[1m 9/18\u001b[0m \u001b[32m━━━━━━━━━━\u001b[0m\u001b[37m━━━━━━━━━━\u001b[0m \u001b[1m0s\u001b[0m 7ms/step - loss: 112.9596 \n",
            "Epoch 6: val_loss did not improve from 643.70819\n",
            "\u001b[1m18/18\u001b[0m \u001b[32m━━━━━━━━━━━━━━━━━━━━\u001b[0m\u001b[37m\u001b[0m \u001b[1m0s\u001b[0m 9ms/step - loss: 119.5913 - val_loss: 699.8037\n",
            "Epoch 7/100\n",
            "\u001b[1m 1/18\u001b[0m \u001b[32m━\u001b[0m\u001b[37m━━━━━━━━━━━━━━━━━━━\u001b[0m \u001b[1m2s\u001b[0m 172ms/step - loss: 152.5193\n",
            "Epoch 7: val_loss improved from 643.70819 to 633.15155, saving model to model_experiments/model_1_dense.keras\n",
            "\u001b[1m18/18\u001b[0m \u001b[32m━━━━━━━━━━━━━━━━━━━━\u001b[0m\u001b[37m\u001b[0m \u001b[1m0s\u001b[0m 7ms/step - loss: 124.3995 - val_loss: 633.1516\n",
            "Epoch 8/100\n",
            "\u001b[1m 1/18\u001b[0m \u001b[32m━\u001b[0m\u001b[37m━━━━━━━━━━━━━━━━━━━\u001b[0m \u001b[1m0s\u001b[0m 40ms/step - loss: 110.4156\n",
            "Epoch 8: val_loss improved from 633.15155 to 626.22296, saving model to model_experiments/model_1_dense.keras\n",
            "\u001b[1m18/18\u001b[0m \u001b[32m━━━━━━━━━━━━━━━━━━━━\u001b[0m\u001b[37m\u001b[0m \u001b[1m0s\u001b[0m 7ms/step - loss: 118.1159 - val_loss: 626.2230\n",
            "Epoch 9/100\n",
            "\u001b[1m 1/18\u001b[0m \u001b[32m━\u001b[0m\u001b[37m━━━━━━━━━━━━━━━━━━━\u001b[0m \u001b[1m3s\u001b[0m 178ms/step - loss: 92.7031\n",
            "Epoch 9: val_loss did not improve from 626.22296\n",
            "\u001b[1m18/18\u001b[0m \u001b[32m━━━━━━━━━━━━━━━━━━━━\u001b[0m\u001b[37m\u001b[0m \u001b[1m0s\u001b[0m 6ms/step - loss: 112.2492 - val_loss: 666.2631\n",
            "Epoch 10/100\n",
            "\u001b[1m13/18\u001b[0m \u001b[32m━━━━━━━━━━━━━━\u001b[0m\u001b[37m━━━━━━\u001b[0m \u001b[1m0s\u001b[0m 4ms/step - loss: 107.9603 \n",
            "Epoch 10: val_loss improved from 626.22296 to 617.04150, saving model to model_experiments/model_1_dense.keras\n",
            "\u001b[1m18/18\u001b[0m \u001b[32m━━━━━━━━━━━━━━━━━━━━\u001b[0m\u001b[37m\u001b[0m \u001b[1m0s\u001b[0m 16ms/step - loss: 111.6201 - val_loss: 617.0415\n",
            "Epoch 11/100\n",
            "\u001b[1m16/18\u001b[0m \u001b[32m━━━━━━━━━━━━━━━━━\u001b[0m\u001b[37m━━━\u001b[0m \u001b[1m0s\u001b[0m 4ms/step - loss: 114.6657  \n",
            "Epoch 11: val_loss improved from 617.04150 to 616.72211, saving model to model_experiments/model_1_dense.keras\n",
            "\u001b[1m18/18\u001b[0m \u001b[32m━━━━━━━━━━━━━━━━━━━━\u001b[0m\u001b[37m\u001b[0m \u001b[1m1s\u001b[0m 16ms/step - loss: 114.5699 - val_loss: 616.7221\n",
            "Epoch 12/100\n",
            "\u001b[1m 1/18\u001b[0m \u001b[32m━\u001b[0m\u001b[37m━━━━━━━━━━━━━━━━━━━\u001b[0m \u001b[1m5s\u001b[0m 313ms/step - loss: 117.7370\n",
            "Epoch 12: val_loss did not improve from 616.72211\n",
            "\u001b[1m18/18\u001b[0m \u001b[32m━━━━━━━━━━━━━━━━━━━━\u001b[0m\u001b[37m\u001b[0m \u001b[1m0s\u001b[0m 4ms/step - loss: 116.4596 - val_loss: 720.7245\n",
            "Epoch 13/100\n",
            "\u001b[1m 1/18\u001b[0m \u001b[32m━\u001b[0m\u001b[37m━━━━━━━━━━━━━━━━━━━\u001b[0m \u001b[1m1s\u001b[0m 67ms/step - loss: 119.5498\n",
            "Epoch 13: val_loss did not improve from 616.72211\n",
            "\u001b[1m18/18\u001b[0m \u001b[32m━━━━━━━━━━━━━━━━━━━━\u001b[0m\u001b[37m\u001b[0m \u001b[1m0s\u001b[0m 3ms/step - loss: 120.1656 - val_loss: 663.4328\n",
            "Epoch 14/100\n",
            "\u001b[1m 1/18\u001b[0m \u001b[32m━\u001b[0m\u001b[37m━━━━━━━━━━━━━━━━━━━\u001b[0m \u001b[1m1s\u001b[0m 81ms/step - loss: 145.7803\n",
            "Epoch 14: val_loss did not improve from 616.72211\n",
            "\u001b[1m18/18\u001b[0m \u001b[32m━━━━━━━━━━━━━━━━━━━━\u001b[0m\u001b[37m\u001b[0m \u001b[1m0s\u001b[0m 3ms/step - loss: 118.1339 - val_loss: 655.0142\n",
            "Epoch 15/100\n",
            "\u001b[1m 1/18\u001b[0m \u001b[32m━\u001b[0m\u001b[37m━━━━━━━━━━━━━━━━━━━\u001b[0m \u001b[1m0s\u001b[0m 30ms/step - loss: 112.7474\n",
            "Epoch 15: val_loss did not improve from 616.72211\n",
            "\u001b[1m18/18\u001b[0m \u001b[32m━━━━━━━━━━━━━━━━━━━━\u001b[0m\u001b[37m\u001b[0m \u001b[1m0s\u001b[0m 4ms/step - loss: 112.3833 - val_loss: 680.5667\n",
            "Epoch 16/100\n",
            "\u001b[1m 1/18\u001b[0m \u001b[32m━\u001b[0m\u001b[37m━━━━━━━━━━━━━━━━━━━\u001b[0m \u001b[1m0s\u001b[0m 24ms/step - loss: 165.1698\n",
            "Epoch 16: val_loss improved from 616.72211 to 607.55286, saving model to model_experiments/model_1_dense.keras\n",
            "\u001b[1m18/18\u001b[0m \u001b[32m━━━━━━━━━━━━━━━━━━━━\u001b[0m\u001b[37m\u001b[0m \u001b[1m0s\u001b[0m 4ms/step - loss: 122.5890 - val_loss: 607.5529\n",
            "Epoch 17/100\n",
            "\u001b[1m 1/18\u001b[0m \u001b[32m━\u001b[0m\u001b[37m━━━━━━━━━━━━━━━━━━━\u001b[0m \u001b[1m1s\u001b[0m 72ms/step - loss: 103.5047\n",
            "Epoch 17: val_loss did not improve from 607.55286\n",
            "\u001b[1m18/18\u001b[0m \u001b[32m━━━━━━━━━━━━━━━━━━━━\u001b[0m\u001b[37m\u001b[0m \u001b[1m0s\u001b[0m 3ms/step - loss: 115.2984 - val_loss: 688.3575\n",
            "Epoch 18/100\n",
            "\u001b[1m 1/18\u001b[0m \u001b[32m━\u001b[0m\u001b[37m━━━━━━━━━━━━━━━━━━━\u001b[0m \u001b[1m1s\u001b[0m 86ms/step - loss: 170.1385\n",
            "Epoch 18: val_loss improved from 607.55286 to 603.52142, saving model to model_experiments/model_1_dense.keras\n",
            "\u001b[1m18/18\u001b[0m \u001b[32m━━━━━━━━━━━━━━━━━━━━\u001b[0m\u001b[37m\u001b[0m \u001b[1m0s\u001b[0m 4ms/step - loss: 124.6472 - val_loss: 603.5214\n",
            "Epoch 19/100\n",
            "\u001b[1m 1/18\u001b[0m \u001b[32m━\u001b[0m\u001b[37m━━━━━━━━━━━━━━━━━━━\u001b[0m \u001b[1m1s\u001b[0m 66ms/step - loss: 163.6533\n",
            "Epoch 19: val_loss did not improve from 603.52142\n",
            "\u001b[1m18/18\u001b[0m \u001b[32m━━━━━━━━━━━━━━━━━━━━\u001b[0m\u001b[37m\u001b[0m \u001b[1m0s\u001b[0m 3ms/step - loss: 121.9928 - val_loss: 637.8034\n",
            "Epoch 20/100\n",
            "\u001b[1m 1/18\u001b[0m \u001b[32m━\u001b[0m\u001b[37m━━━━━━━━━━━━━━━━━━━\u001b[0m \u001b[1m1s\u001b[0m 78ms/step - loss: 143.7884\n",
            "Epoch 20: val_loss did not improve from 603.52142\n",
            "\u001b[1m18/18\u001b[0m \u001b[32m━━━━━━━━━━━━━━━━━━━━\u001b[0m\u001b[37m\u001b[0m \u001b[1m0s\u001b[0m 3ms/step - loss: 113.9557 - val_loss: 703.0271\n",
            "Epoch 21/100\n",
            "\u001b[1m 1/18\u001b[0m \u001b[32m━\u001b[0m\u001b[37m━━━━━━━━━━━━━━━━━━━\u001b[0m \u001b[1m0s\u001b[0m 38ms/step - loss: 102.0855\n",
            "Epoch 21: val_loss did not improve from 603.52142\n",
            "\u001b[1m18/18\u001b[0m \u001b[32m━━━━━━━━━━━━━━━━━━━━\u001b[0m\u001b[37m\u001b[0m \u001b[1m0s\u001b[0m 3ms/step - loss: 117.3958 - val_loss: 760.1481\n",
            "Epoch 22/100\n",
            "\u001b[1m 1/18\u001b[0m \u001b[32m━\u001b[0m\u001b[37m━━━━━━━━━━━━━━━━━━━\u001b[0m \u001b[1m1s\u001b[0m 83ms/step - loss: 121.8017\n",
            "Epoch 22: val_loss improved from 603.52142 to 590.80688, saving model to model_experiments/model_1_dense.keras\n",
            "\u001b[1m18/18\u001b[0m \u001b[32m━━━━━━━━━━━━━━━━━━━━\u001b[0m\u001b[37m\u001b[0m \u001b[1m0s\u001b[0m 4ms/step - loss: 120.9720 - val_loss: 590.8069\n",
            "Epoch 23/100\n",
            "\u001b[1m 1/18\u001b[0m \u001b[32m━\u001b[0m\u001b[37m━━━━━━━━━━━━━━━━━━━\u001b[0m \u001b[1m0s\u001b[0m 28ms/step - loss: 88.6037\n",
            "Epoch 23: val_loss did not improve from 590.80688\n",
            "\u001b[1m18/18\u001b[0m \u001b[32m━━━━━━━━━━━━━━━━━━━━\u001b[0m\u001b[37m\u001b[0m \u001b[1m0s\u001b[0m 3ms/step - loss: 108.4431 - val_loss: 659.1284\n",
            "Epoch 24/100\n",
            "\u001b[1m 1/18\u001b[0m \u001b[32m━\u001b[0m\u001b[37m━━━━━━━━━━━━━━━━━━━\u001b[0m \u001b[1m1s\u001b[0m 87ms/step - loss: 98.7997\n",
            "Epoch 24: val_loss did not improve from 590.80688\n",
            "\u001b[1m18/18\u001b[0m \u001b[32m━━━━━━━━━━━━━━━━━━━━\u001b[0m\u001b[37m\u001b[0m \u001b[1m0s\u001b[0m 4ms/step - loss: 120.7633 - val_loss: 627.5601\n",
            "Epoch 25/100\n",
            "\u001b[1m 1/18\u001b[0m \u001b[32m━\u001b[0m\u001b[37m━━━━━━━━━━━━━━━━━━━\u001b[0m \u001b[1m0s\u001b[0m 25ms/step - loss: 136.1505\n",
            "Epoch 25: val_loss improved from 590.80688 to 589.95703, saving model to model_experiments/model_1_dense.keras\n",
            "\u001b[1m18/18\u001b[0m \u001b[32m━━━━━━━━━━━━━━━━━━━━\u001b[0m\u001b[37m\u001b[0m \u001b[1m0s\u001b[0m 4ms/step - loss: 111.4291 - val_loss: 589.9570\n",
            "Epoch 26/100\n",
            "\u001b[1m 1/18\u001b[0m \u001b[32m━\u001b[0m\u001b[37m━━━━━━━━━━━━━━━━━━━\u001b[0m \u001b[1m1s\u001b[0m 74ms/step - loss: 89.3232\n",
            "Epoch 26: val_loss did not improve from 589.95703\n",
            "\u001b[1m18/18\u001b[0m \u001b[32m━━━━━━━━━━━━━━━━━━━━\u001b[0m\u001b[37m\u001b[0m \u001b[1m0s\u001b[0m 4ms/step - loss: 105.1835 - val_loss: 641.1239\n",
            "Epoch 27/100\n",
            "\u001b[1m 1/18\u001b[0m \u001b[32m━\u001b[0m\u001b[37m━━━━━━━━━━━━━━━━━━━\u001b[0m \u001b[1m1s\u001b[0m 69ms/step - loss: 114.4100\n",
            "Epoch 27: val_loss did not improve from 589.95703\n",
            "\u001b[1m18/18\u001b[0m \u001b[32m━━━━━━━━━━━━━━━━━━━━\u001b[0m\u001b[37m\u001b[0m \u001b[1m0s\u001b[0m 4ms/step - loss: 115.6773 - val_loss: 691.1949\n",
            "Epoch 28/100\n",
            "\u001b[1m 1/18\u001b[0m \u001b[32m━\u001b[0m\u001b[37m━━━━━━━━━━━━━━━━━━━\u001b[0m \u001b[1m0s\u001b[0m 24ms/step - loss: 153.4661\n",
            "Epoch 28: val_loss did not improve from 589.95703\n",
            "\u001b[1m18/18\u001b[0m \u001b[32m━━━━━━━━━━━━━━━━━━━━\u001b[0m\u001b[37m\u001b[0m \u001b[1m0s\u001b[0m 4ms/step - loss: 123.6734 - val_loss: 641.6951\n",
            "Epoch 29/100\n",
            "\u001b[1m 1/18\u001b[0m \u001b[32m━\u001b[0m\u001b[37m━━━━━━━━━━━━━━━━━━━\u001b[0m \u001b[1m0s\u001b[0m 24ms/step - loss: 121.9456\n",
            "Epoch 29: val_loss did not improve from 589.95703\n",
            "\u001b[1m18/18\u001b[0m \u001b[32m━━━━━━━━━━━━━━━━━━━━\u001b[0m\u001b[37m\u001b[0m \u001b[1m0s\u001b[0m 4ms/step - loss: 112.4465 - val_loss: 684.1254\n",
            "Epoch 30/100\n",
            "\u001b[1m 1/18\u001b[0m \u001b[32m━\u001b[0m\u001b[37m━━━━━━━━━━━━━━━━━━━\u001b[0m \u001b[1m1s\u001b[0m 73ms/step - loss: 134.8408\n",
            "Epoch 30: val_loss did not improve from 589.95703\n",
            "\u001b[1m18/18\u001b[0m \u001b[32m━━━━━━━━━━━━━━━━━━━━\u001b[0m\u001b[37m\u001b[0m \u001b[1m0s\u001b[0m 4ms/step - loss: 126.5925 - val_loss: 641.9448\n",
            "Epoch 31/100\n",
            "\u001b[1m 1/18\u001b[0m \u001b[32m━\u001b[0m\u001b[37m━━━━━━━━━━━━━━━━━━━\u001b[0m \u001b[1m0s\u001b[0m 27ms/step - loss: 116.8108\n",
            "Epoch 31: val_loss improved from 589.95703 to 583.46558, saving model to model_experiments/model_1_dense.keras\n",
            "\u001b[1m18/18\u001b[0m \u001b[32m━━━━━━━━━━━━━━━━━━━━\u001b[0m\u001b[37m\u001b[0m \u001b[1m0s\u001b[0m 5ms/step - loss: 120.7145 - val_loss: 583.4656\n",
            "Epoch 32/100\n",
            "\u001b[1m 1/18\u001b[0m \u001b[32m━\u001b[0m\u001b[37m━━━━━━━━━━━━━━━━━━━\u001b[0m \u001b[1m0s\u001b[0m 54ms/step - loss: 104.7851\n",
            "Epoch 32: val_loss did not improve from 583.46558\n",
            "\u001b[1m18/18\u001b[0m \u001b[32m━━━━━━━━━━━━━━━━━━━━\u001b[0m\u001b[37m\u001b[0m \u001b[1m0s\u001b[0m 4ms/step - loss: 109.1494 - val_loss: 590.8075\n",
            "Epoch 33/100\n",
            "\u001b[1m 1/18\u001b[0m \u001b[32m━\u001b[0m\u001b[37m━━━━━━━━━━━━━━━━━━━\u001b[0m \u001b[1m0s\u001b[0m 25ms/step - loss: 109.7920\n",
            "Epoch 33: val_loss did not improve from 583.46558\n",
            "\u001b[1m18/18\u001b[0m \u001b[32m━━━━━━━━━━━━━━━━━━━━\u001b[0m\u001b[37m\u001b[0m \u001b[1m0s\u001b[0m 3ms/step - loss: 110.2700 - val_loss: 586.0835\n",
            "Epoch 34/100\n",
            "\u001b[1m 1/18\u001b[0m \u001b[32m━\u001b[0m\u001b[37m━━━━━━━━━━━━━━━━━━━\u001b[0m \u001b[1m1s\u001b[0m 79ms/step - loss: 95.8909\n",
            "Epoch 34: val_loss did not improve from 583.46558\n",
            "\u001b[1m18/18\u001b[0m \u001b[32m━━━━━━━━━━━━━━━━━━━━\u001b[0m\u001b[37m\u001b[0m \u001b[1m0s\u001b[0m 4ms/step - loss: 107.0243 - val_loss: 613.0714\n",
            "Epoch 35/100\n",
            "\u001b[1m 1/18\u001b[0m \u001b[32m━\u001b[0m\u001b[37m━━━━━━━━━━━━━━━━━━━\u001b[0m \u001b[1m1s\u001b[0m 68ms/step - loss: 156.4758\n",
            "Epoch 35: val_loss did not improve from 583.46558\n",
            "\u001b[1m18/18\u001b[0m \u001b[32m━━━━━━━━━━━━━━━━━━━━\u001b[0m\u001b[37m\u001b[0m \u001b[1m0s\u001b[0m 3ms/step - loss: 115.6763 - val_loss: 585.2749\n",
            "Epoch 36/100\n",
            "\u001b[1m 1/18\u001b[0m \u001b[32m━\u001b[0m\u001b[37m━━━━━━━━━━━━━━━━━━━\u001b[0m \u001b[1m0s\u001b[0m 32ms/step - loss: 108.7568\n",
            "Epoch 36: val_loss did not improve from 583.46558\n",
            "\u001b[1m18/18\u001b[0m \u001b[32m━━━━━━━━━━━━━━━━━━━━\u001b[0m\u001b[37m\u001b[0m \u001b[1m0s\u001b[0m 3ms/step - loss: 110.1620 - val_loss: 600.6141\n",
            "Epoch 37/100\n",
            "\u001b[1m 1/18\u001b[0m \u001b[32m━\u001b[0m\u001b[37m━━━━━━━━━━━━━━━━━━━\u001b[0m \u001b[1m1s\u001b[0m 84ms/step - loss: 89.4985\n",
            "Epoch 37: val_loss did not improve from 583.46558\n",
            "\u001b[1m18/18\u001b[0m \u001b[32m━━━━━━━━━━━━━━━━━━━━\u001b[0m\u001b[37m\u001b[0m \u001b[1m0s\u001b[0m 5ms/step - loss: 113.9277 - val_loss: 621.2156\n",
            "Epoch 38/100\n",
            "\u001b[1m 1/18\u001b[0m \u001b[32m━\u001b[0m\u001b[37m━━━━━━━━━━━━━━━━━━━\u001b[0m \u001b[1m0s\u001b[0m 51ms/step - loss: 122.3992\n",
            "Epoch 38: val_loss improved from 583.46558 to 577.72864, saving model to model_experiments/model_1_dense.keras\n",
            "\u001b[1m18/18\u001b[0m \u001b[32m━━━━━━━━━━━━━━━━━━━━\u001b[0m\u001b[37m\u001b[0m \u001b[1m0s\u001b[0m 6ms/step - loss: 109.0601 - val_loss: 577.7286\n",
            "Epoch 39/100\n",
            "\u001b[1m 1/18\u001b[0m \u001b[32m━\u001b[0m\u001b[37m━━━━━━━━━━━━━━━━━━━\u001b[0m \u001b[1m3s\u001b[0m 187ms/step - loss: 141.5254\n",
            "Epoch 39: val_loss did not improve from 577.72864\n",
            "\u001b[1m18/18\u001b[0m \u001b[32m━━━━━━━━━━━━━━━━━━━━\u001b[0m\u001b[37m\u001b[0m \u001b[1m0s\u001b[0m 6ms/step - loss: 112.5916 - val_loss: 579.0525\n",
            "Epoch 40/100\n",
            "\u001b[1m 1/18\u001b[0m \u001b[32m━\u001b[0m\u001b[37m━━━━━━━━━━━━━━━━━━━\u001b[0m \u001b[1m3s\u001b[0m 199ms/step - loss: 119.8550\n",
            "Epoch 40: val_loss improved from 577.72864 to 577.37512, saving model to model_experiments/model_1_dense.keras\n",
            "\u001b[1m18/18\u001b[0m \u001b[32m━━━━━━━━━━━━━━━━━━━━\u001b[0m\u001b[37m\u001b[0m \u001b[1m0s\u001b[0m 7ms/step - loss: 110.5046 - val_loss: 577.3751\n",
            "Epoch 41/100\n",
            "\u001b[1m 1/18\u001b[0m \u001b[32m━\u001b[0m\u001b[37m━━━━━━━━━━━━━━━━━━━\u001b[0m \u001b[1m0s\u001b[0m 31ms/step - loss: 99.8205\n",
            "Epoch 41: val_loss did not improve from 577.37512\n",
            "\u001b[1m18/18\u001b[0m \u001b[32m━━━━━━━━━━━━━━━━━━━━\u001b[0m\u001b[37m\u001b[0m \u001b[1m0s\u001b[0m 5ms/step - loss: 103.1794 - val_loss: 626.5449\n",
            "Epoch 42/100\n",
            "\u001b[1m 1/18\u001b[0m \u001b[32m━\u001b[0m\u001b[37m━━━━━━━━━━━━━━━━━━━\u001b[0m \u001b[1m0s\u001b[0m 45ms/step - loss: 79.5470\n",
            "Epoch 42: val_loss improved from 577.37512 to 574.67010, saving model to model_experiments/model_1_dense.keras\n",
            "\u001b[1m18/18\u001b[0m \u001b[32m━━━━━━━━━━━━━━━━━━━━\u001b[0m\u001b[37m\u001b[0m \u001b[1m0s\u001b[0m 7ms/step - loss: 103.2627 - val_loss: 574.6701\n",
            "Epoch 43/100\n",
            "\u001b[1m 1/18\u001b[0m \u001b[32m━\u001b[0m\u001b[37m━━━━━━━━━━━━━━━━━━━\u001b[0m \u001b[1m2s\u001b[0m 176ms/step - loss: 93.9392\n",
            "Epoch 43: val_loss did not improve from 574.67010\n",
            "\u001b[1m18/18\u001b[0m \u001b[32m━━━━━━━━━━━━━━━━━━━━\u001b[0m\u001b[37m\u001b[0m \u001b[1m0s\u001b[0m 5ms/step - loss: 116.4562 - val_loss: 607.9150\n",
            "Epoch 44/100\n",
            "\u001b[1m 1/18\u001b[0m \u001b[32m━\u001b[0m\u001b[37m━━━━━━━━━━━━━━━━━━━\u001b[0m \u001b[1m0s\u001b[0m 46ms/step - loss: 111.1315\n",
            "Epoch 44: val_loss did not improve from 574.67010\n",
            "\u001b[1m18/18\u001b[0m \u001b[32m━━━━━━━━━━━━━━━━━━━━\u001b[0m\u001b[37m\u001b[0m \u001b[1m0s\u001b[0m 5ms/step - loss: 112.0482 - val_loss: 579.9948\n",
            "Epoch 45/100\n",
            "\u001b[1m 1/18\u001b[0m \u001b[32m━\u001b[0m\u001b[37m━━━━━━━━━━━━━━━━━━━\u001b[0m \u001b[1m3s\u001b[0m 204ms/step - loss: 100.4832\n",
            "Epoch 45: val_loss did not improve from 574.67010\n",
            "\u001b[1m18/18\u001b[0m \u001b[32m━━━━━━━━━━━━━━━━━━━━\u001b[0m\u001b[37m\u001b[0m \u001b[1m0s\u001b[0m 6ms/step - loss: 118.8830 - val_loss: 576.5654\n",
            "Epoch 46/100\n",
            "\u001b[1m16/18\u001b[0m \u001b[32m━━━━━━━━━━━━━━━━━\u001b[0m\u001b[37m━━━\u001b[0m \u001b[1m0s\u001b[0m 4ms/step - loss: 111.5321  \n",
            "Epoch 46: val_loss did not improve from 574.67010\n",
            "\u001b[1m18/18\u001b[0m \u001b[32m━━━━━━━━━━━━━━━━━━━━\u001b[0m\u001b[37m\u001b[0m \u001b[1m0s\u001b[0m 7ms/step - loss: 110.7505 - val_loss: 585.5106\n",
            "Epoch 47/100\n",
            "\u001b[1m 1/18\u001b[0m \u001b[32m━\u001b[0m\u001b[37m━━━━━━━━━━━━━━━━━━━\u001b[0m \u001b[1m3s\u001b[0m 178ms/step - loss: 123.2449\n",
            "Epoch 47: val_loss did not improve from 574.67010\n",
            "\u001b[1m18/18\u001b[0m \u001b[32m━━━━━━━━━━━━━━━━━━━━\u001b[0m\u001b[37m\u001b[0m \u001b[1m0s\u001b[0m 5ms/step - loss: 110.9308 - val_loss: 741.3560\n",
            "Epoch 48/100\n",
            "\u001b[1m 1/18\u001b[0m \u001b[32m━\u001b[0m\u001b[37m━━━━━━━━━━━━━━━━━━━\u001b[0m \u001b[1m0s\u001b[0m 47ms/step - loss: 102.0630\n",
            "Epoch 48: val_loss did not improve from 574.67010\n",
            "\u001b[1m18/18\u001b[0m \u001b[32m━━━━━━━━━━━━━━━━━━━━\u001b[0m\u001b[37m\u001b[0m \u001b[1m0s\u001b[0m 4ms/step - loss: 125.7386 - val_loss: 670.3763\n",
            "Epoch 49/100\n",
            "\u001b[1m 1/18\u001b[0m \u001b[32m━\u001b[0m\u001b[37m━━━━━━━━━━━━━━━━━━━\u001b[0m \u001b[1m0s\u001b[0m 26ms/step - loss: 145.2225\n",
            "Epoch 49: val_loss did not improve from 574.67010\n",
            "\u001b[1m18/18\u001b[0m \u001b[32m━━━━━━━━━━━━━━━━━━━━\u001b[0m\u001b[37m\u001b[0m \u001b[1m0s\u001b[0m 3ms/step - loss: 109.9585 - val_loss: 582.0598\n",
            "Epoch 50/100\n",
            "\u001b[1m 1/18\u001b[0m \u001b[32m━\u001b[0m\u001b[37m━━━━━━━━━━━━━━━━━━━\u001b[0m \u001b[1m1s\u001b[0m 85ms/step - loss: 98.1596\n",
            "Epoch 50: val_loss did not improve from 574.67010\n",
            "\u001b[1m18/18\u001b[0m \u001b[32m━━━━━━━━━━━━━━━━━━━━\u001b[0m\u001b[37m\u001b[0m \u001b[1m0s\u001b[0m 3ms/step - loss: 110.1438 - val_loss: 581.1158\n",
            "Epoch 51/100\n",
            "\u001b[1m 1/18\u001b[0m \u001b[32m━\u001b[0m\u001b[37m━━━━━━━━━━━━━━━━━━━\u001b[0m \u001b[1m1s\u001b[0m 88ms/step - loss: 85.4889\n",
            "Epoch 51: val_loss did not improve from 574.67010\n",
            "\u001b[1m18/18\u001b[0m \u001b[32m━━━━━━━━━━━━━━━━━━━━\u001b[0m\u001b[37m\u001b[0m \u001b[1m0s\u001b[0m 3ms/step - loss: 103.7351 - val_loss: 575.7499\n",
            "Epoch 52/100\n",
            "\u001b[1m 1/18\u001b[0m \u001b[32m━\u001b[0m\u001b[37m━━━━━━━━━━━━━━━━━━━\u001b[0m \u001b[1m1s\u001b[0m 85ms/step - loss: 176.9844\n",
            "Epoch 52: val_loss improved from 574.67010 to 573.29315, saving model to model_experiments/model_1_dense.keras\n",
            "\u001b[1m18/18\u001b[0m \u001b[32m━━━━━━━━━━━━━━━━━━━━\u001b[0m\u001b[37m\u001b[0m \u001b[1m0s\u001b[0m 4ms/step - loss: 123.0845 - val_loss: 573.2932\n",
            "Epoch 53/100\n",
            "\u001b[1m 1/18\u001b[0m \u001b[32m━\u001b[0m\u001b[37m━━━━━━━━━━━━━━━━━━━\u001b[0m \u001b[1m0s\u001b[0m 32ms/step - loss: 137.7435\n",
            "Epoch 53: val_loss did not improve from 573.29315\n",
            "\u001b[1m18/18\u001b[0m \u001b[32m━━━━━━━━━━━━━━━━━━━━\u001b[0m\u001b[37m\u001b[0m \u001b[1m0s\u001b[0m 5ms/step - loss: 132.8984 - val_loss: 625.3956\n",
            "Epoch 54/100\n",
            "\u001b[1m 1/18\u001b[0m \u001b[32m━\u001b[0m\u001b[37m━━━━━━━━━━━━━━━━━━━\u001b[0m \u001b[1m0s\u001b[0m 57ms/step - loss: 89.3350\n",
            "Epoch 54: val_loss did not improve from 573.29315\n",
            "\u001b[1m18/18\u001b[0m \u001b[32m━━━━━━━━━━━━━━━━━━━━\u001b[0m\u001b[37m\u001b[0m \u001b[1m0s\u001b[0m 8ms/step - loss: 120.8809 - val_loss: 655.4693\n",
            "Epoch 55/100\n",
            "\u001b[1m 1/18\u001b[0m \u001b[32m━\u001b[0m\u001b[37m━━━━━━━━━━━━━━━━━━━\u001b[0m \u001b[1m2s\u001b[0m 164ms/step - loss: 95.1232\n",
            "Epoch 55: val_loss did not improve from 573.29315\n",
            "\u001b[1m18/18\u001b[0m \u001b[32m━━━━━━━━━━━━━━━━━━━━\u001b[0m\u001b[37m\u001b[0m \u001b[1m0s\u001b[0m 7ms/step - loss: 115.4545 - val_loss: 639.2626\n",
            "Epoch 56/100\n",
            "\u001b[1m 1/18\u001b[0m \u001b[32m━\u001b[0m\u001b[37m━━━━━━━━━━━━━━━━━━━\u001b[0m \u001b[1m3s\u001b[0m 181ms/step - loss: 144.3061\n",
            "Epoch 56: val_loss did not improve from 573.29315\n",
            "\u001b[1m18/18\u001b[0m \u001b[32m━━━━━━━━━━━━━━━━━━━━\u001b[0m\u001b[37m\u001b[0m \u001b[1m0s\u001b[0m 6ms/step - loss: 114.4327 - val_loss: 647.0766\n",
            "Epoch 57/100\n",
            "\u001b[1m12/18\u001b[0m \u001b[32m━━━━━━━━━━━━━\u001b[0m\u001b[37m━━━━━━━\u001b[0m \u001b[1m0s\u001b[0m 5ms/step - loss: 101.8553 \n",
            "Epoch 57: val_loss did not improve from 573.29315\n",
            "\u001b[1m18/18\u001b[0m \u001b[32m━━━━━━━━━━━━━━━━━━━━\u001b[0m\u001b[37m\u001b[0m \u001b[1m0s\u001b[0m 8ms/step - loss: 105.5757 - val_loss: 580.0394\n",
            "Epoch 58/100\n",
            "\u001b[1m 1/18\u001b[0m \u001b[32m━\u001b[0m\u001b[37m━━━━━━━━━━━━━━━━━━━\u001b[0m \u001b[1m2s\u001b[0m 168ms/step - loss: 143.0696\n",
            "Epoch 58: val_loss did not improve from 573.29315\n",
            "\u001b[1m18/18\u001b[0m \u001b[32m━━━━━━━━━━━━━━━━━━━━\u001b[0m\u001b[37m\u001b[0m \u001b[1m0s\u001b[0m 6ms/step - loss: 120.0785 - val_loss: 575.6258\n",
            "Epoch 59/100\n",
            "\u001b[1m 1/18\u001b[0m \u001b[32m━\u001b[0m\u001b[37m━━━━━━━━━━━━━━━━━━━\u001b[0m \u001b[1m3s\u001b[0m 201ms/step - loss: 141.4507\n",
            "Epoch 59: val_loss did not improve from 573.29315\n",
            "\u001b[1m18/18\u001b[0m \u001b[32m━━━━━━━━━━━━━━━━━━━━\u001b[0m\u001b[37m\u001b[0m \u001b[1m0s\u001b[0m 6ms/step - loss: 111.1787 - val_loss: 629.0506\n",
            "Epoch 60/100\n",
            "\u001b[1m 1/18\u001b[0m \u001b[32m━\u001b[0m\u001b[37m━━━━━━━━━━━━━━━━━━━\u001b[0m \u001b[1m0s\u001b[0m 41ms/step - loss: 98.4449\n",
            "Epoch 60: val_loss improved from 573.29315 to 571.56586, saving model to model_experiments/model_1_dense.keras\n",
            "\u001b[1m18/18\u001b[0m \u001b[32m━━━━━━━━━━━━━━━━━━━━\u001b[0m\u001b[37m\u001b[0m \u001b[1m0s\u001b[0m 6ms/step - loss: 110.1591 - val_loss: 571.5659\n",
            "Epoch 61/100\n",
            "\u001b[1m 1/18\u001b[0m \u001b[32m━\u001b[0m\u001b[37m━━━━━━━━━━━━━━━━━━━\u001b[0m \u001b[1m3s\u001b[0m 185ms/step - loss: 93.0669\n",
            "Epoch 61: val_loss did not improve from 571.56586\n",
            "\u001b[1m18/18\u001b[0m \u001b[32m━━━━━━━━━━━━━━━━━━━━\u001b[0m\u001b[37m\u001b[0m \u001b[1m0s\u001b[0m 9ms/step - loss: 105.6552 - val_loss: 654.6064\n",
            "Epoch 62/100\n",
            "\u001b[1m 1/18\u001b[0m \u001b[32m━\u001b[0m\u001b[37m━━━━━━━━━━━━━━━━━━━\u001b[0m \u001b[1m2s\u001b[0m 145ms/step - loss: 111.6974\n",
            "Epoch 62: val_loss did not improve from 571.56586\n",
            "\u001b[1m18/18\u001b[0m \u001b[32m━━━━━━━━━━━━━━━━━━━━\u001b[0m\u001b[37m\u001b[0m \u001b[1m0s\u001b[0m 6ms/step - loss: 112.9584 - val_loss: 608.4246\n",
            "Epoch 63/100\n",
            "\u001b[1m 1/18\u001b[0m \u001b[32m━\u001b[0m\u001b[37m━━━━━━━━━━━━━━━━━━━\u001b[0m \u001b[1m3s\u001b[0m 205ms/step - loss: 125.4004\n",
            "Epoch 63: val_loss did not improve from 571.56586\n",
            "\u001b[1m18/18\u001b[0m \u001b[32m━━━━━━━━━━━━━━━━━━━━\u001b[0m\u001b[37m\u001b[0m \u001b[1m0s\u001b[0m 6ms/step - loss: 112.6183 - val_loss: 574.3214\n",
            "Epoch 64/100\n",
            "\u001b[1m 1/18\u001b[0m \u001b[32m━\u001b[0m\u001b[37m━━━━━━━━━━━━━━━━━━━\u001b[0m \u001b[1m3s\u001b[0m 198ms/step - loss: 130.1786\n",
            "Epoch 64: val_loss did not improve from 571.56586\n",
            "\u001b[1m18/18\u001b[0m \u001b[32m━━━━━━━━━━━━━━━━━━━━\u001b[0m\u001b[37m\u001b[0m \u001b[1m0s\u001b[0m 6ms/step - loss: 105.1104 - val_loss: 579.8021\n",
            "Epoch 65/100\n",
            "\u001b[1m 1/18\u001b[0m \u001b[32m━\u001b[0m\u001b[37m━━━━━━━━━━━━━━━━━━━\u001b[0m \u001b[1m3s\u001b[0m 200ms/step - loss: 114.3226\n",
            "Epoch 65: val_loss did not improve from 571.56586\n",
            "\u001b[1m18/18\u001b[0m \u001b[32m━━━━━━━━━━━━━━━━━━━━\u001b[0m\u001b[37m\u001b[0m \u001b[1m0s\u001b[0m 3ms/step - loss: 111.1125 - val_loss: 576.8642\n",
            "Epoch 66/100\n",
            "\u001b[1m 1/18\u001b[0m \u001b[32m━\u001b[0m\u001b[37m━━━━━━━━━━━━━━━━━━━\u001b[0m \u001b[1m1s\u001b[0m 83ms/step - loss: 98.0889\n",
            "Epoch 66: val_loss did not improve from 571.56586\n",
            "\u001b[1m18/18\u001b[0m \u001b[32m━━━━━━━━━━━━━━━━━━━━\u001b[0m\u001b[37m\u001b[0m \u001b[1m0s\u001b[0m 6ms/step - loss: 104.0289 - val_loss: 731.4067\n",
            "Epoch 67/100\n",
            "\u001b[1m 1/18\u001b[0m \u001b[32m━\u001b[0m\u001b[37m━━━━━━━━━━━━━━━━━━━\u001b[0m \u001b[1m0s\u001b[0m 36ms/step - loss: 155.9171\n",
            "Epoch 67: val_loss did not improve from 571.56586\n",
            "\u001b[1m18/18\u001b[0m \u001b[32m━━━━━━━━━━━━━━━━━━━━\u001b[0m\u001b[37m\u001b[0m \u001b[1m0s\u001b[0m 5ms/step - loss: 116.9186 - val_loss: 598.2142\n",
            "Epoch 68/100\n",
            "\u001b[1m 1/18\u001b[0m \u001b[32m━\u001b[0m\u001b[37m━━━━━━━━━━━━━━━━━━━\u001b[0m \u001b[1m0s\u001b[0m 54ms/step - loss: 84.0176\n",
            "Epoch 68: val_loss did not improve from 571.56586\n",
            "\u001b[1m18/18\u001b[0m \u001b[32m━━━━━━━━━━━━━━━━━━━━\u001b[0m\u001b[37m\u001b[0m \u001b[1m0s\u001b[0m 5ms/step - loss: 106.5533 - val_loss: 588.0565\n",
            "Epoch 69/100\n",
            "\u001b[1m 1/18\u001b[0m \u001b[32m━\u001b[0m\u001b[37m━━━━━━━━━━━━━━━━━━━\u001b[0m \u001b[1m0s\u001b[0m 56ms/step - loss: 91.9555\n",
            "Epoch 69: val_loss did not improve from 571.56586\n",
            "\u001b[1m18/18\u001b[0m \u001b[32m━━━━━━━━━━━━━━━━━━━━\u001b[0m\u001b[37m\u001b[0m \u001b[1m0s\u001b[0m 5ms/step - loss: 104.5484 - val_loss: 572.2203\n",
            "Epoch 70/100\n",
            "\u001b[1m 1/18\u001b[0m \u001b[32m━\u001b[0m\u001b[37m━━━━━━━━━━━━━━━━━━━\u001b[0m \u001b[1m0s\u001b[0m 42ms/step - loss: 83.9915\n",
            "Epoch 70: val_loss did not improve from 571.56586\n",
            "\u001b[1m18/18\u001b[0m \u001b[32m━━━━━━━━━━━━━━━━━━━━\u001b[0m\u001b[37m\u001b[0m \u001b[1m0s\u001b[0m 6ms/step - loss: 98.8431 - val_loss: 576.3707\n",
            "Epoch 71/100\n",
            "\u001b[1m 1/18\u001b[0m \u001b[32m━\u001b[0m\u001b[37m━━━━━━━━━━━━━━━━━━━\u001b[0m \u001b[1m0s\u001b[0m 46ms/step - loss: 120.6931\n",
            "Epoch 71: val_loss improved from 571.56586 to 571.17010, saving model to model_experiments/model_1_dense.keras\n",
            "\u001b[1m18/18\u001b[0m \u001b[32m━━━━━━━━━━━━━━━━━━━━\u001b[0m\u001b[37m\u001b[0m \u001b[1m0s\u001b[0m 7ms/step - loss: 103.8251 - val_loss: 571.1701\n",
            "Epoch 72/100\n",
            "\u001b[1m 1/18\u001b[0m \u001b[32m━\u001b[0m\u001b[37m━━━━━━━━━━━━━━━━━━━\u001b[0m \u001b[1m2s\u001b[0m 173ms/step - loss: 82.7320\n",
            "Epoch 72: val_loss did not improve from 571.17010\n",
            "\u001b[1m18/18\u001b[0m \u001b[32m━━━━━━━━━━━━━━━━━━━━\u001b[0m\u001b[37m\u001b[0m \u001b[1m0s\u001b[0m 6ms/step - loss: 106.9118 - val_loss: 585.6895\n",
            "Epoch 73/100\n",
            "\u001b[1m 1/18\u001b[0m \u001b[32m━\u001b[0m\u001b[37m━━━━━━━━━━━━━━━━━━━\u001b[0m \u001b[1m3s\u001b[0m 195ms/step - loss: 81.4598\n",
            "Epoch 73: val_loss did not improve from 571.17010\n",
            "\u001b[1m18/18\u001b[0m \u001b[32m━━━━━━━━━━━━━━━━━━━━\u001b[0m\u001b[37m\u001b[0m \u001b[1m0s\u001b[0m 6ms/step - loss: 107.9771 - val_loss: 663.7704\n",
            "Epoch 74/100\n",
            "\u001b[1m 1/18\u001b[0m \u001b[32m━\u001b[0m\u001b[37m━━━━━━━━━━━━━━━━━━━\u001b[0m \u001b[1m3s\u001b[0m 201ms/step - loss: 110.9811\n",
            "Epoch 74: val_loss improved from 571.17010 to 569.75598, saving model to model_experiments/model_1_dense.keras\n",
            "\u001b[1m18/18\u001b[0m \u001b[32m━━━━━━━━━━━━━━━━━━━━\u001b[0m\u001b[37m\u001b[0m \u001b[1m0s\u001b[0m 7ms/step - loss: 112.4040 - val_loss: 569.7560\n",
            "Epoch 75/100\n",
            "\u001b[1m14/18\u001b[0m \u001b[32m━━━━━━━━━━━━━━━\u001b[0m\u001b[37m━━━━━\u001b[0m \u001b[1m0s\u001b[0m 4ms/step - loss: 104.7056  \n",
            "Epoch 75: val_loss did not improve from 569.75598\n",
            "\u001b[1m18/18\u001b[0m \u001b[32m━━━━━━━━━━━━━━━━━━━━\u001b[0m\u001b[37m\u001b[0m \u001b[1m0s\u001b[0m 7ms/step - loss: 104.7144 - val_loss: 573.6873\n",
            "Epoch 76/100\n",
            "\u001b[1m 1/18\u001b[0m \u001b[32m━\u001b[0m\u001b[37m━━━━━━━━━━━━━━━━━━━\u001b[0m \u001b[1m3s\u001b[0m 188ms/step - loss: 78.6529\n",
            "Epoch 76: val_loss did not improve from 569.75598\n",
            "\u001b[1m18/18\u001b[0m \u001b[32m━━━━━━━━━━━━━━━━━━━━\u001b[0m\u001b[37m\u001b[0m \u001b[1m0s\u001b[0m 5ms/step - loss: 103.7467 - val_loss: 601.6953\n",
            "Epoch 77/100\n",
            "\u001b[1m 1/18\u001b[0m \u001b[32m━\u001b[0m\u001b[37m━━━━━━━━━━━━━━━━━━━\u001b[0m \u001b[1m0s\u001b[0m 53ms/step - loss: 92.4143\n",
            "Epoch 77: val_loss did not improve from 569.75598\n",
            "\u001b[1m18/18\u001b[0m \u001b[32m━━━━━━━━━━━━━━━━━━━━\u001b[0m\u001b[37m\u001b[0m \u001b[1m0s\u001b[0m 6ms/step - loss: 108.2018 - val_loss: 571.9990\n",
            "Epoch 78/100\n",
            "\u001b[1m 1/18\u001b[0m \u001b[32m━\u001b[0m\u001b[37m━━━━━━━━━━━━━━━━━━━\u001b[0m \u001b[1m3s\u001b[0m 193ms/step - loss: 111.1763\n",
            "Epoch 78: val_loss did not improve from 569.75598\n",
            "\u001b[1m18/18\u001b[0m \u001b[32m━━━━━━━━━━━━━━━━━━━━\u001b[0m\u001b[37m\u001b[0m \u001b[1m0s\u001b[0m 6ms/step - loss: 108.0890 - val_loss: 572.9875\n",
            "Epoch 79/100\n",
            "\u001b[1m 1/18\u001b[0m \u001b[32m━\u001b[0m\u001b[37m━━━━━━━━━━━━━━━━━━━\u001b[0m \u001b[1m3s\u001b[0m 197ms/step - loss: 116.3291\n",
            "Epoch 79: val_loss did not improve from 569.75598\n",
            "\u001b[1m18/18\u001b[0m \u001b[32m━━━━━━━━━━━━━━━━━━━━\u001b[0m\u001b[37m\u001b[0m \u001b[1m0s\u001b[0m 6ms/step - loss: 106.3212 - val_loss: 570.6251\n",
            "Epoch 80/100\n",
            "\u001b[1m 1/18\u001b[0m \u001b[32m━\u001b[0m\u001b[37m━━━━━━━━━━━━━━━━━━━\u001b[0m \u001b[1m3s\u001b[0m 196ms/step - loss: 113.8966\n",
            "Epoch 80: val_loss did not improve from 569.75598\n",
            "\u001b[1m18/18\u001b[0m \u001b[32m━━━━━━━━━━━━━━━━━━━━\u001b[0m\u001b[37m\u001b[0m \u001b[1m0s\u001b[0m 6ms/step - loss: 106.8682 - val_loss: 809.3871\n",
            "Epoch 81/100\n",
            "\u001b[1m 1/18\u001b[0m \u001b[32m━\u001b[0m\u001b[37m━━━━━━━━━━━━━━━━━━━\u001b[0m \u001b[1m3s\u001b[0m 191ms/step - loss: 140.0566\n",
            "Epoch 81: val_loss did not improve from 569.75598\n",
            "\u001b[1m18/18\u001b[0m \u001b[32m━━━━━━━━━━━━━━━━━━━━\u001b[0m\u001b[37m\u001b[0m \u001b[1m0s\u001b[0m 6ms/step - loss: 119.7583 - val_loss: 695.5023\n",
            "Epoch 82/100\n",
            "\u001b[1m 1/18\u001b[0m \u001b[32m━\u001b[0m\u001b[37m━━━━━━━━━━━━━━━━━━━\u001b[0m \u001b[1m0s\u001b[0m 46ms/step - loss: 124.3473\n",
            "Epoch 82: val_loss did not improve from 569.75598\n",
            "\u001b[1m18/18\u001b[0m \u001b[32m━━━━━━━━━━━━━━━━━━━━\u001b[0m\u001b[37m\u001b[0m \u001b[1m0s\u001b[0m 6ms/step - loss: 110.4939 - val_loss: 577.4689\n",
            "Epoch 83/100\n",
            "\u001b[1m 1/18\u001b[0m \u001b[32m━\u001b[0m\u001b[37m━━━━━━━━━━━━━━━━━━━\u001b[0m \u001b[1m0s\u001b[0m 54ms/step - loss: 108.4242\n",
            "Epoch 83: val_loss did not improve from 569.75598\n",
            "\u001b[1m18/18\u001b[0m \u001b[32m━━━━━━━━━━━━━━━━━━━━\u001b[0m\u001b[37m\u001b[0m \u001b[1m0s\u001b[0m 6ms/step - loss: 110.4734 - val_loss: 714.8958\n",
            "Epoch 84/100\n",
            "\u001b[1m 1/18\u001b[0m \u001b[32m━\u001b[0m\u001b[37m━━━━━━━━━━━━━━━━━━━\u001b[0m \u001b[1m0s\u001b[0m 37ms/step - loss: 123.9862\n",
            "Epoch 84: val_loss did not improve from 569.75598\n",
            "\u001b[1m18/18\u001b[0m \u001b[32m━━━━━━━━━━━━━━━━━━━━\u001b[0m\u001b[37m\u001b[0m \u001b[1m0s\u001b[0m 6ms/step - loss: 120.8790 - val_loss: 570.7401\n",
            "Epoch 85/100\n",
            "\u001b[1m 1/18\u001b[0m \u001b[32m━\u001b[0m\u001b[37m━━━━━━━━━━━━━━━━━━━\u001b[0m \u001b[1m0s\u001b[0m 36ms/step - loss: 107.4523\n",
            "Epoch 85: val_loss did not improve from 569.75598\n",
            "\u001b[1m18/18\u001b[0m \u001b[32m━━━━━━━━━━━━━━━━━━━━\u001b[0m\u001b[37m\u001b[0m \u001b[1m0s\u001b[0m 6ms/step - loss: 109.7902 - val_loss: 570.3141\n",
            "Epoch 86/100\n",
            "\u001b[1m11/18\u001b[0m \u001b[32m━━━━━━━━━━━━\u001b[0m\u001b[37m━━━━━━━━\u001b[0m \u001b[1m0s\u001b[0m 5ms/step - loss: 113.6570  \n",
            "Epoch 86: val_loss improved from 569.75598 to 569.62201, saving model to model_experiments/model_1_dense.keras\n",
            "\u001b[1m18/18\u001b[0m \u001b[32m━━━━━━━━━━━━━━━━━━━━\u001b[0m\u001b[37m\u001b[0m \u001b[1m0s\u001b[0m 9ms/step - loss: 110.3346 - val_loss: 569.6220\n",
            "Epoch 87/100\n",
            "\u001b[1m 1/18\u001b[0m \u001b[32m━\u001b[0m\u001b[37m━━━━━━━━━━━━━━━━━━━\u001b[0m \u001b[1m0s\u001b[0m 48ms/step - loss: 126.3402\n",
            "Epoch 87: val_loss did not improve from 569.62201\n",
            "\u001b[1m18/18\u001b[0m \u001b[32m━━━━━━━━━━━━━━━━━━━━\u001b[0m\u001b[37m\u001b[0m \u001b[1m0s\u001b[0m 6ms/step - loss: 113.9670 - val_loss: 594.7416\n",
            "Epoch 88/100\n",
            "\u001b[1m12/18\u001b[0m \u001b[32m━━━━━━━━━━━━━\u001b[0m\u001b[37m━━━━━━━\u001b[0m \u001b[1m0s\u001b[0m 5ms/step - loss: 99.0762   \n",
            "Epoch 88: val_loss did not improve from 569.62201\n",
            "\u001b[1m18/18\u001b[0m \u001b[32m━━━━━━━━━━━━━━━━━━━━\u001b[0m\u001b[37m\u001b[0m \u001b[1m0s\u001b[0m 8ms/step - loss: 101.4254 - val_loss: 739.7111\n",
            "Epoch 89/100\n",
            "\u001b[1m 1/18\u001b[0m \u001b[32m━\u001b[0m\u001b[37m━━━━━━━━━━━━━━━━━━━\u001b[0m \u001b[1m0s\u001b[0m 50ms/step - loss: 131.7951\n",
            "Epoch 89: val_loss did not improve from 569.62201\n",
            "\u001b[1m18/18\u001b[0m \u001b[32m━━━━━━━━━━━━━━━━━━━━\u001b[0m\u001b[37m\u001b[0m \u001b[1m0s\u001b[0m 5ms/step - loss: 119.9781 - val_loss: 588.9586\n",
            "Epoch 90/100\n",
            "\u001b[1m 1/18\u001b[0m \u001b[32m━\u001b[0m\u001b[37m━━━━━━━━━━━━━━━━━━━\u001b[0m \u001b[1m0s\u001b[0m 56ms/step - loss: 96.7108\n",
            "Epoch 90: val_loss did not improve from 569.62201\n",
            "\u001b[1m18/18\u001b[0m \u001b[32m━━━━━━━━━━━━━━━━━━━━\u001b[0m\u001b[37m\u001b[0m \u001b[1m0s\u001b[0m 6ms/step - loss: 106.7356 - val_loss: 664.8364\n",
            "Epoch 91/100\n",
            "\u001b[1m 1/18\u001b[0m \u001b[32m━\u001b[0m\u001b[37m━━━━━━━━━━━━━━━━━━━\u001b[0m \u001b[1m3s\u001b[0m 197ms/step - loss: 99.4047\n",
            "Epoch 91: val_loss did not improve from 569.62201\n",
            "\u001b[1m18/18\u001b[0m \u001b[32m━━━━━━━━━━━━━━━━━━━━\u001b[0m\u001b[37m\u001b[0m \u001b[1m0s\u001b[0m 5ms/step - loss: 110.3307 - val_loss: 572.8005\n",
            "Epoch 92/100\n",
            "\u001b[1m 1/18\u001b[0m \u001b[32m━\u001b[0m\u001b[37m━━━━━━━━━━━━━━━━━━━\u001b[0m \u001b[1m0s\u001b[0m 41ms/step - loss: 178.3013\n",
            "Epoch 92: val_loss did not improve from 569.62201\n",
            "\u001b[1m18/18\u001b[0m \u001b[32m━━━━━━━━━━━━━━━━━━━━\u001b[0m\u001b[37m\u001b[0m \u001b[1m0s\u001b[0m 6ms/step - loss: 115.1054 - val_loss: 588.2419\n",
            "Epoch 93/100\n",
            "\u001b[1m13/18\u001b[0m \u001b[32m━━━━━━━━━━━━━━\u001b[0m\u001b[37m━━━━━━\u001b[0m \u001b[1m0s\u001b[0m 4ms/step - loss: 110.6118  \n",
            "Epoch 93: val_loss did not improve from 569.62201\n",
            "\u001b[1m18/18\u001b[0m \u001b[32m━━━━━━━━━━━━━━━━━━━━\u001b[0m\u001b[37m\u001b[0m \u001b[1m0s\u001b[0m 7ms/step - loss: 108.4796 - val_loss: 616.3214\n",
            "Epoch 94/100\n",
            "\u001b[1m16/18\u001b[0m \u001b[32m━━━━━━━━━━━━━━━━━\u001b[0m\u001b[37m━━━\u001b[0m \u001b[1m0s\u001b[0m 3ms/step - loss: 107.1173  \n",
            "Epoch 94: val_loss did not improve from 569.62201\n",
            "\u001b[1m18/18\u001b[0m \u001b[32m━━━━━━━━━━━━━━━━━━━━\u001b[0m\u001b[37m\u001b[0m \u001b[1m0s\u001b[0m 9ms/step - loss: 107.3963 - val_loss: 576.7923\n",
            "Epoch 95/100\n",
            "\u001b[1m15/18\u001b[0m \u001b[32m━━━━━━━━━━━━━━━━\u001b[0m\u001b[37m━━━━\u001b[0m \u001b[1m0s\u001b[0m 4ms/step - loss: 103.2241 \n",
            "Epoch 95: val_loss did not improve from 569.62201\n",
            "\u001b[1m18/18\u001b[0m \u001b[32m━━━━━━━━━━━━━━━━━━━━\u001b[0m\u001b[37m\u001b[0m \u001b[1m0s\u001b[0m 10ms/step - loss: 104.0366 - val_loss: 581.1722\n",
            "Epoch 96/100\n",
            "\u001b[1m14/18\u001b[0m \u001b[32m━━━━━━━━━━━━━━━\u001b[0m\u001b[37m━━━━━\u001b[0m \u001b[1m0s\u001b[0m 4ms/step - loss: 112.2848  \n",
            "Epoch 96: val_loss did not improve from 569.62201\n",
            "\u001b[1m18/18\u001b[0m \u001b[32m━━━━━━━━━━━━━━━━━━━━\u001b[0m\u001b[37m\u001b[0m \u001b[1m0s\u001b[0m 8ms/step - loss: 111.2481 - val_loss: 581.0186\n",
            "Epoch 97/100\n",
            "\u001b[1m 7/18\u001b[0m \u001b[32m━━━━━━━\u001b[0m\u001b[37m━━━━━━━━━━━━━\u001b[0m \u001b[1m0s\u001b[0m 9ms/step - loss: 116.5688  \n",
            "Epoch 97: val_loss did not improve from 569.62201\n",
            "\u001b[1m18/18\u001b[0m \u001b[32m━━━━━━━━━━━━━━━━━━━━\u001b[0m\u001b[37m\u001b[0m \u001b[1m0s\u001b[0m 7ms/step - loss: 110.0626 - val_loss: 641.8545\n",
            "Epoch 98/100\n",
            "\u001b[1m 1/18\u001b[0m \u001b[32m━\u001b[0m\u001b[37m━━━━━━━━━━━━━━━━━━━\u001b[0m \u001b[1m2s\u001b[0m 175ms/step - loss: 112.3122\n",
            "Epoch 98: val_loss did not improve from 569.62201\n",
            "\u001b[1m18/18\u001b[0m \u001b[32m━━━━━━━━━━━━━━━━━━━━\u001b[0m\u001b[37m\u001b[0m \u001b[1m0s\u001b[0m 6ms/step - loss: 114.8728 - val_loss: 579.8900\n",
            "Epoch 99/100\n",
            "\u001b[1m17/18\u001b[0m \u001b[32m━━━━━━━━━━━━━━━━━━\u001b[0m\u001b[37m━━\u001b[0m \u001b[1m0s\u001b[0m 3ms/step - loss: 116.3730 \n",
            "Epoch 99: val_loss did not improve from 569.62201\n",
            "\u001b[1m18/18\u001b[0m \u001b[32m━━━━━━━━━━━━━━━━━━━━\u001b[0m\u001b[37m\u001b[0m \u001b[1m0s\u001b[0m 7ms/step - loss: 115.5693 - val_loss: 602.4033\n",
            "Epoch 100/100\n",
            "\u001b[1m15/18\u001b[0m \u001b[32m━━━━━━━━━━━━━━━━\u001b[0m\u001b[37m━━━━\u001b[0m \u001b[1m0s\u001b[0m 4ms/step - loss: 96.7507 \n",
            "Epoch 100: val_loss did not improve from 569.62201\n",
            "\u001b[1m18/18\u001b[0m \u001b[32m━━━━━━━━━━━━━━━━━━━━\u001b[0m\u001b[37m\u001b[0m \u001b[1m0s\u001b[0m 9ms/step - loss: 99.4904 - val_loss: 727.8057\n"
          ]
        },
        {
          "output_type": "execute_result",
          "data": {
            "text/plain": [
              "<keras.src.callbacks.history.History at 0x77fd36e1f190>"
            ]
          },
          "metadata": {},
          "execution_count": 51
        }
      ]
    },
    {
      "cell_type": "code",
      "source": [
        "model_1.evaluate(test_windows, test_labels)"
      ],
      "metadata": {
        "colab": {
          "base_uri": "https://localhost:8080/"
        },
        "id": "aexGX3sRsBOr",
        "outputId": "75aaae24-6840-4643-dc0a-9f185b5abedc"
      },
      "execution_count": null,
      "outputs": [
        {
          "output_type": "stream",
          "name": "stdout",
          "text": [
            "\u001b[1m18/18\u001b[0m \u001b[32m━━━━━━━━━━━━━━━━━━━━\u001b[0m\u001b[37m\u001b[0m \u001b[1m0s\u001b[0m 3ms/step - loss: 380.7195 \n"
          ]
        },
        {
          "output_type": "execute_result",
          "data": {
            "text/plain": [
              "727.8057250976562"
            ]
          },
          "metadata": {},
          "execution_count": 52
        }
      ]
    },
    {
      "cell_type": "code",
      "source": [
        "model_1 = tf.keras.models.load_model('/content/model_experiments/model_1_dense.keras')"
      ],
      "metadata": {
        "id": "8tb-7KPysJHd"
      },
      "execution_count": null,
      "outputs": []
    },
    {
      "cell_type": "code",
      "source": [
        "model_1.evaluate(test_windows,test_labels)"
      ],
      "metadata": {
        "colab": {
          "base_uri": "https://localhost:8080/"
        },
        "id": "GqouNilO6Gdt",
        "outputId": "125168e1-6d43-4e19-9b5b-e1aea5dbf409"
      },
      "execution_count": null,
      "outputs": [
        {
          "output_type": "stream",
          "name": "stdout",
          "text": [
            "\u001b[1m18/18\u001b[0m \u001b[32m━━━━━━━━━━━━━━━━━━━━\u001b[0m\u001b[37m\u001b[0m \u001b[1m0s\u001b[0m 2ms/step - loss: 283.9296  \n"
          ]
        },
        {
          "output_type": "execute_result",
          "data": {
            "text/plain": [
              "569.6220703125"
            ]
          },
          "metadata": {},
          "execution_count": 54
        }
      ]
    },
    {
      "cell_type": "code",
      "source": [
        "preds = model_1.predict(test_windows)"
      ],
      "metadata": {
        "colab": {
          "base_uri": "https://localhost:8080/"
        },
        "id": "Kb6fwR196vxs",
        "outputId": "cebf0718-175b-4402-b622-477990c28ad6"
      },
      "execution_count": null,
      "outputs": [
        {
          "output_type": "stream",
          "name": "stdout",
          "text": [
            "\u001b[1m18/18\u001b[0m \u001b[32m━━━━━━━━━━━━━━━━━━━━\u001b[0m\u001b[37m\u001b[0m \u001b[1m0s\u001b[0m 6ms/step\n"
          ]
        }
      ]
    },
    {
      "cell_type": "code",
      "source": [],
      "metadata": {
        "id": "uNFe2Z356zmK"
      },
      "execution_count": null,
      "outputs": []
    },
    {
      "cell_type": "markdown",
      "source": [
        "# **Making forecasts on test data**"
      ],
      "metadata": {
        "id": "QBenVXjK6gXo"
      }
    },
    {
      "cell_type": "code",
      "source": [
        "def make_preds(model, input_data):\n",
        "\n",
        "  preds = model.predict(input_data)\n",
        "  preds = tf.squeeze(preds)\n",
        "  return preds"
      ],
      "metadata": {
        "id": "Xhdmcyua6PQh"
      },
      "execution_count": null,
      "outputs": []
    },
    {
      "cell_type": "code",
      "source": [
        "preds = make_preds(model_1, test_windows)\n",
        "preds.shape"
      ],
      "metadata": {
        "colab": {
          "base_uri": "https://localhost:8080/"
        },
        "id": "GCV3B2kk7KfA",
        "outputId": "c038f31f-fb1a-448b-ddb7-5b576325be69"
      },
      "execution_count": null,
      "outputs": [
        {
          "output_type": "stream",
          "name": "stdout",
          "text": [
            "\u001b[1m18/18\u001b[0m \u001b[32m━━━━━━━━━━━━━━━━━━━━\u001b[0m\u001b[37m\u001b[0m \u001b[1m0s\u001b[0m 3ms/step \n"
          ]
        },
        {
          "output_type": "execute_result",
          "data": {
            "text/plain": [
              "TensorShape([556])"
            ]
          },
          "metadata": {},
          "execution_count": 57
        }
      ]
    },
    {
      "cell_type": "code",
      "source": [
        "test_labels.shape"
      ],
      "metadata": {
        "colab": {
          "base_uri": "https://localhost:8080/"
        },
        "id": "XqPsGcBc7fEa",
        "outputId": "b367fc82-0672-4a13-d50e-0f3ba43786a5"
      },
      "execution_count": null,
      "outputs": [
        {
          "output_type": "execute_result",
          "data": {
            "text/plain": [
              "(556, 1)"
            ]
          },
          "metadata": {},
          "execution_count": 58
        }
      ]
    },
    {
      "cell_type": "code",
      "source": [
        "model1_results = evaluate_preds(tf.squeeze(test_labels), preds)\n",
        "model1_results"
      ],
      "metadata": {
        "colab": {
          "base_uri": "https://localhost:8080/"
        },
        "id": "gRbIucEa7sAs",
        "outputId": "12259d7a-8245-4196-aae2-9fc3fe3a9fb0"
      },
      "execution_count": null,
      "outputs": [
        {
          "output_type": "execute_result",
          "data": {
            "text/plain": [
              "{'mae': 569.62195,\n",
              " 'mse': 1168762.6,\n",
              " 'rmse': 1081.0933,\n",
              " 'mape': 2.557478,\n",
              " 'mase': 1.000668}"
            ]
          },
          "metadata": {},
          "execution_count": 59
        }
      ]
    },
    {
      "cell_type": "code",
      "source": [
        "naive_results"
      ],
      "metadata": {
        "colab": {
          "base_uri": "https://localhost:8080/"
        },
        "id": "wEuV9PtX75J5",
        "outputId": "a1478337-e31d-4379-8a1d-c8b6453df4ee"
      },
      "execution_count": null,
      "outputs": [
        {
          "output_type": "execute_result",
          "data": {
            "text/plain": [
              "{'mae': 567.9802,\n",
              " 'mse': 1147547.0,\n",
              " 'rmse': 1071.2362,\n",
              " 'mape': 2.5165248,\n",
              " 'mase': 0.99957}"
            ]
          },
          "metadata": {},
          "execution_count": 60
        }
      ]
    },
    {
      "cell_type": "code",
      "source": [
        "len(X_test), len(X_test[-len(test_windows):])"
      ],
      "metadata": {
        "colab": {
          "base_uri": "https://localhost:8080/"
        },
        "id": "L72WmkOi8lZD",
        "outputId": "646959e4-4350-4c15-d859-274e3a8e8533"
      },
      "execution_count": null,
      "outputs": [
        {
          "output_type": "execute_result",
          "data": {
            "text/plain": [
              "(558, 556)"
            ]
          },
          "metadata": {},
          "execution_count": 61
        }
      ]
    },
    {
      "cell_type": "code",
      "source": [
        "offset = 300\n",
        "plot_time_series(X_test[-len(test_windows):], test_labels, start = offset)\n",
        "plot_time_series(X_test[-len(test_windows):], preds, format = '-', start = offset)"
      ],
      "metadata": {
        "colab": {
          "base_uri": "https://localhost:8080/",
          "height": 449
        },
        "id": "DTN-E-Ay8Fzf",
        "outputId": "68b0ba8d-c969-429f-9ed4-bc986cc0fef3"
      },
      "execution_count": null,
      "outputs": [
        {
          "output_type": "display_data",
          "data": {
            "text/plain": [
              "<Figure size 640x480 with 1 Axes>"
            ],
            "image/png": "[encoded data removed]"
          },
          "metadata": {}
        }
      ]
    },
    {
      "cell_type": "markdown",
      "source": [
        "# **Dense model 2 window 30 and horizon 1**"
      ],
      "metadata": {
        "id": "ed69xXx7Aaoj"
      }
    },
    {
      "cell_type": "code",
      "source": [
        " full_windows, full_labels = make_windows(prices, window_size = 30, horizon = 1)"
      ],
      "metadata": {
        "id": "CBW883O38Ss4"
      },
      "execution_count": null,
      "outputs": []
    },
    {
      "cell_type": "code",
      "source": [
        "full_windows[1].shape, full_labels[1]"
      ],
      "metadata": {
        "colab": {
          "base_uri": "https://localhost:8080/"
        },
        "id": "NvYkhZopAwGp",
        "outputId": "a1ec8468-d75f-44e1-b6e4-4abec0d6835c"
      },
      "execution_count": null,
      "outputs": [
        {
          "output_type": "execute_result",
          "data": {
            "text/plain": [
              "((30,), array([198.04883]))"
            ]
          },
          "metadata": {},
          "execution_count": 64
        }
      ]
    },
    {
      "cell_type": "code",
      "source": [
        "train_windows,test_windows, train_labels,  test_labels =  make_train_test_splits(full_windows, full_labels)"
      ],
      "metadata": {
        "colab": {
          "base_uri": "https://localhost:8080/"
        },
        "id": "M9YbMUJUA1-T",
        "outputId": "3987f1e6-ad49-492f-f770-afd7e9e926dd"
      },
      "execution_count": null,
      "outputs": [
        {
          "output_type": "stream",
          "name": "stdout",
          "text": [
            "2205\n"
          ]
        }
      ]
    },
    {
      "cell_type": "code",
      "source": [
        "len(train_windows), len(train_labels), len(test_windows), len(test_labels)"
      ],
      "metadata": {
        "colab": {
          "base_uri": "https://localhost:8080/"
        },
        "id": "ayBblLXEBT_e",
        "outputId": "2226e3dd-8cdc-4adf-daf4-12718c373439"
      },
      "execution_count": null,
      "outputs": [
        {
          "output_type": "execute_result",
          "data": {
            "text/plain": [
              "(2205, 2205, 552, 552)"
            ]
          },
          "metadata": {},
          "execution_count": 66
        }
      ]
    },
    {
      "cell_type": "markdown",
      "source": [
        "**model 2**"
      ],
      "metadata": {
        "id": "hB1bqvwjBwDJ"
      }
    },
    {
      "cell_type": "code",
      "source": [
        "model_2 = Sequential([\n",
        "    layers.Dense(128, 'relu'),\n",
        "    layers.Dense(HORIZON)\n",
        "])\n",
        "\n",
        "model_2.compile(loss = 'mae',\n",
        "                optimizer = tf.keras.optimizers.Adam())\n",
        "\n",
        "model_2.fit(train_windows,train_labels, epochs = 100, verbose = 0,\n",
        "            batch_size = 128, validation_data = (test_windows, test_labels),\n",
        "            callbacks = [create_model_checkpoint(model_name= 'model_2_dense')])"
      ],
      "metadata": {
        "colab": {
          "base_uri": "https://localhost:8080/"
        },
        "id": "R9oM_AvyBaSV",
        "outputId": "7ab81528-ee7e-479d-93c0-e5472682373e"
      },
      "execution_count": null,
      "outputs": [
        {
          "output_type": "stream",
          "name": "stdout",
          "text": [
            "model_experiments/model_2_dense.keras\n",
            "\n",
            "Epoch 1: val_loss improved from inf to 2178.78906, saving model to model_experiments/model_2_dense.keras\n",
            "\n",
            "Epoch 2: val_loss improved from 2178.78906 to 1807.00903, saving model to model_experiments/model_2_dense.keras\n",
            "\n",
            "Epoch 3: val_loss improved from 1807.00903 to 1792.75366, saving model to model_experiments/model_2_dense.keras\n",
            "\n",
            "Epoch 4: val_loss improved from 1792.75366 to 1185.18884, saving model to model_experiments/model_2_dense.keras\n",
            "\n",
            "Epoch 5: val_loss did not improve from 1185.18884\n",
            "\n",
            "Epoch 6: val_loss did not improve from 1185.18884\n",
            "\n",
            "Epoch 7: val_loss improved from 1185.18884 to 1058.73621, saving model to model_experiments/model_2_dense.keras\n",
            "\n",
            "Epoch 8: val_loss improved from 1058.73621 to 933.89154, saving model to model_experiments/model_2_dense.keras\n",
            "\n",
            "Epoch 9: val_loss did not improve from 933.89154\n",
            "\n",
            "Epoch 10: val_loss improved from 933.89154 to 851.85223, saving model to model_experiments/model_2_dense.keras\n",
            "\n",
            "Epoch 11: val_loss improved from 851.85223 to 833.04022, saving model to model_experiments/model_2_dense.keras\n",
            "\n",
            "Epoch 12: val_loss did not improve from 833.04022\n",
            "\n",
            "Epoch 13: val_loss did not improve from 833.04022\n",
            "\n",
            "Epoch 14: val_loss did not improve from 833.04022\n",
            "\n",
            "Epoch 15: val_loss did not improve from 833.04022\n",
            "\n",
            "Epoch 16: val_loss did not improve from 833.04022\n",
            "\n",
            "Epoch 17: val_loss did not improve from 833.04022\n",
            "\n",
            "Epoch 18: val_loss improved from 833.04022 to 827.85120, saving model to model_experiments/model_2_dense.keras\n",
            "\n",
            "Epoch 19: val_loss improved from 827.85120 to 760.80298, saving model to model_experiments/model_2_dense.keras\n",
            "\n",
            "Epoch 20: val_loss improved from 760.80298 to 759.57910, saving model to model_experiments/model_2_dense.keras\n",
            "\n",
            "Epoch 21: val_loss improved from 759.57910 to 742.72150, saving model to model_experiments/model_2_dense.keras\n",
            "\n",
            "Epoch 22: val_loss did not improve from 742.72150\n",
            "\n",
            "Epoch 23: val_loss improved from 742.72150 to 736.57111, saving model to model_experiments/model_2_dense.keras\n",
            "\n",
            "Epoch 24: val_loss did not improve from 736.57111\n",
            "\n",
            "Epoch 25: val_loss did not improve from 736.57111\n",
            "\n",
            "Epoch 26: val_loss did not improve from 736.57111\n",
            "\n",
            "Epoch 27: val_loss did not improve from 736.57111\n",
            "\n",
            "Epoch 28: val_loss did not improve from 736.57111\n",
            "\n",
            "Epoch 29: val_loss improved from 736.57111 to 722.12677, saving model to model_experiments/model_2_dense.keras\n",
            "\n",
            "Epoch 30: val_loss did not improve from 722.12677\n",
            "\n",
            "Epoch 31: val_loss did not improve from 722.12677\n",
            "\n",
            "Epoch 32: val_loss did not improve from 722.12677\n",
            "\n",
            "Epoch 33: val_loss did not improve from 722.12677\n",
            "\n",
            "Epoch 34: val_loss did not improve from 722.12677\n",
            "\n",
            "Epoch 35: val_loss did not improve from 722.12677\n",
            "\n",
            "Epoch 36: val_loss did not improve from 722.12677\n",
            "\n",
            "Epoch 37: val_loss improved from 722.12677 to 691.12415, saving model to model_experiments/model_2_dense.keras\n",
            "\n",
            "Epoch 38: val_loss did not improve from 691.12415\n",
            "\n",
            "Epoch 39: val_loss did not improve from 691.12415\n",
            "\n",
            "Epoch 40: val_loss did not improve from 691.12415\n",
            "\n",
            "Epoch 41: val_loss did not improve from 691.12415\n",
            "\n",
            "Epoch 42: val_loss did not improve from 691.12415\n",
            "\n",
            "Epoch 43: val_loss did not improve from 691.12415\n",
            "\n",
            "Epoch 44: val_loss did not improve from 691.12415\n",
            "\n",
            "Epoch 45: val_loss did not improve from 691.12415\n",
            "\n",
            "Epoch 46: val_loss did not improve from 691.12415\n",
            "\n",
            "Epoch 47: val_loss did not improve from 691.12415\n",
            "\n",
            "Epoch 48: val_loss did not improve from 691.12415\n",
            "\n",
            "Epoch 49: val_loss improved from 691.12415 to 657.42926, saving model to model_experiments/model_2_dense.keras\n",
            "\n",
            "Epoch 50: val_loss did not improve from 657.42926\n",
            "\n",
            "Epoch 51: val_loss did not improve from 657.42926\n",
            "\n",
            "Epoch 52: val_loss did not improve from 657.42926\n",
            "\n",
            "Epoch 53: val_loss did not improve from 657.42926\n",
            "\n",
            "Epoch 54: val_loss improved from 657.42926 to 648.21466, saving model to model_experiments/model_2_dense.keras\n",
            "\n",
            "Epoch 55: val_loss did not improve from 648.21466\n",
            "\n",
            "Epoch 56: val_loss improved from 648.21466 to 643.40619, saving model to model_experiments/model_2_dense.keras\n",
            "\n",
            "Epoch 57: val_loss did not improve from 643.40619\n",
            "\n",
            "Epoch 58: val_loss did not improve from 643.40619\n",
            "\n",
            "Epoch 59: val_loss did not improve from 643.40619\n",
            "\n",
            "Epoch 60: val_loss did not improve from 643.40619\n",
            "\n",
            "Epoch 61: val_loss did not improve from 643.40619\n",
            "\n",
            "Epoch 62: val_loss did not improve from 643.40619\n",
            "\n",
            "Epoch 63: val_loss improved from 643.40619 to 637.25427, saving model to model_experiments/model_2_dense.keras\n",
            "\n",
            "Epoch 64: val_loss improved from 637.25427 to 634.76282, saving model to model_experiments/model_2_dense.keras\n",
            "\n",
            "Epoch 65: val_loss did not improve from 634.76282\n",
            "\n",
            "Epoch 66: val_loss did not improve from 634.76282\n",
            "\n",
            "Epoch 67: val_loss improved from 634.76282 to 634.58093, saving model to model_experiments/model_2_dense.keras\n",
            "\n",
            "Epoch 68: val_loss did not improve from 634.58093\n",
            "\n",
            "Epoch 69: val_loss did not improve from 634.58093\n",
            "\n",
            "Epoch 70: val_loss improved from 634.58093 to 626.64349, saving model to model_experiments/model_2_dense.keras\n",
            "\n",
            "Epoch 71: val_loss did not improve from 626.64349\n",
            "\n",
            "Epoch 72: val_loss did not improve from 626.64349\n",
            "\n",
            "Epoch 73: val_loss did not improve from 626.64349\n",
            "\n",
            "Epoch 74: val_loss did not improve from 626.64349\n",
            "\n",
            "Epoch 75: val_loss did not improve from 626.64349\n",
            "\n",
            "Epoch 76: val_loss did not improve from 626.64349\n",
            "\n",
            "Epoch 77: val_loss did not improve from 626.64349\n",
            "\n",
            "Epoch 78: val_loss improved from 626.64349 to 620.65240, saving model to model_experiments/model_2_dense.keras\n",
            "\n",
            "Epoch 79: val_loss did not improve from 620.65240\n",
            "\n",
            "Epoch 80: val_loss did not improve from 620.65240\n",
            "\n",
            "Epoch 81: val_loss did not improve from 620.65240\n",
            "\n",
            "Epoch 82: val_loss improved from 620.65240 to 617.89606, saving model to model_experiments/model_2_dense.keras\n",
            "\n",
            "Epoch 83: val_loss improved from 617.89606 to 614.67383, saving model to model_experiments/model_2_dense.keras\n",
            "\n",
            "Epoch 84: val_loss did not improve from 614.67383\n",
            "\n",
            "Epoch 85: val_loss did not improve from 614.67383\n",
            "\n",
            "Epoch 86: val_loss did not improve from 614.67383\n",
            "\n",
            "Epoch 87: val_loss did not improve from 614.67383\n",
            "\n",
            "Epoch 88: val_loss did not improve from 614.67383\n",
            "\n",
            "Epoch 89: val_loss did not improve from 614.67383\n",
            "\n",
            "Epoch 90: val_loss improved from 614.67383 to 610.51471, saving model to model_experiments/model_2_dense.keras\n",
            "\n",
            "Epoch 91: val_loss improved from 610.51471 to 607.56586, saving model to model_experiments/model_2_dense.keras\n",
            "\n",
            "Epoch 92: val_loss did not improve from 607.56586\n",
            "\n",
            "Epoch 93: val_loss did not improve from 607.56586\n",
            "\n",
            "Epoch 94: val_loss did not improve from 607.56586\n",
            "\n",
            "Epoch 95: val_loss improved from 607.56586 to 603.81305, saving model to model_experiments/model_2_dense.keras\n",
            "\n",
            "Epoch 96: val_loss did not improve from 603.81305\n",
            "\n",
            "Epoch 97: val_loss did not improve from 603.81305\n",
            "\n",
            "Epoch 98: val_loss did not improve from 603.81305\n",
            "\n",
            "Epoch 99: val_loss did not improve from 603.81305\n",
            "\n",
            "Epoch 100: val_loss did not improve from 603.81305\n"
          ]
        },
        {
          "output_type": "execute_result",
          "data": {
            "text/plain": [
              "<keras.src.callbacks.history.History at 0x77fd36e4a2c0>"
            ]
          },
          "metadata": {},
          "execution_count": 67
        }
      ]
    },
    {
      "cell_type": "code",
      "source": [
        "model_2.evaluate(test_windows, test_labels)"
      ],
      "metadata": {
        "colab": {
          "base_uri": "https://localhost:8080/"
        },
        "id": "Eyn-1RSjB_DV",
        "outputId": "ada36954-5c1e-4873-c05b-4800433edd45"
      },
      "execution_count": null,
      "outputs": [
        {
          "output_type": "stream",
          "name": "stdout",
          "text": [
            "\u001b[1m18/18\u001b[0m \u001b[32m━━━━━━━━━━━━━━━━━━━━\u001b[0m\u001b[37m\u001b[0m \u001b[1m0s\u001b[0m 2ms/step - loss: 309.1595 \n"
          ]
        },
        {
          "output_type": "execute_result",
          "data": {
            "text/plain": [
              "610.8814697265625"
            ]
          },
          "metadata": {},
          "execution_count": 68
        }
      ]
    },
    {
      "cell_type": "code",
      "source": [
        "model_2 = tf.keras.models.load_model('/content/model_experiments/model_2_dense.keras')"
      ],
      "metadata": {
        "id": "TxXrFdufC2oT"
      },
      "execution_count": null,
      "outputs": []
    },
    {
      "cell_type": "code",
      "source": [
        "model_2.evaluate(test_windows, test_labels)"
      ],
      "metadata": {
        "colab": {
          "base_uri": "https://localhost:8080/"
        },
        "id": "hdnlxUx4F0fD",
        "outputId": "6eeb5538-63a4-4021-d429-a5b348609431"
      },
      "execution_count": null,
      "outputs": [
        {
          "output_type": "stream",
          "name": "stdout",
          "text": [
            "\u001b[1m18/18\u001b[0m \u001b[32m━━━━━━━━━━━━━━━━━━━━\u001b[0m\u001b[37m\u001b[0m \u001b[1m0s\u001b[0m 2ms/step - loss: 307.9269  \n"
          ]
        },
        {
          "output_type": "execute_result",
          "data": {
            "text/plain": [
              "603.8130493164062"
            ]
          },
          "metadata": {},
          "execution_count": 70
        }
      ]
    },
    {
      "cell_type": "code",
      "source": [
        "pred_2 = make_preds(model_2, test_windows)"
      ],
      "metadata": {
        "colab": {
          "base_uri": "https://localhost:8080/"
        },
        "id": "rX50BrHtF488",
        "outputId": "ffe8416c-39f0-4971-9b51-1e842bfd7325"
      },
      "execution_count": null,
      "outputs": [
        {
          "output_type": "stream",
          "name": "stdout",
          "text": [
            "\u001b[1m18/18\u001b[0m \u001b[32m━━━━━━━━━━━━━━━━━━━━\u001b[0m\u001b[37m\u001b[0m \u001b[1m0s\u001b[0m 3ms/step\n"
          ]
        }
      ]
    },
    {
      "cell_type": "code",
      "source": [
        "model_2_results = evaluate_preds(tf.squeeze(test_labels), pred_2)\n",
        "model_2_results"
      ],
      "metadata": {
        "colab": {
          "base_uri": "https://localhost:8080/"
        },
        "id": "E313MEYUGC7K",
        "outputId": "412834cc-8555-4994-b1af-52d25c75a581"
      },
      "execution_count": null,
      "outputs": [
        {
          "output_type": "execute_result",
          "data": {
            "text/plain": [
              "{'mae': 603.81305,\n",
              " 'mse': 1264737.4,\n",
              " 'rmse': 1124.6055,\n",
              " 'mape': 2.7522664,\n",
              " 'mase': 1.0554711}"
            ]
          },
          "metadata": {},
          "execution_count": 72
        }
      ]
    },
    {
      "cell_type": "code",
      "source": [
        "len(X_test)"
      ],
      "metadata": {
        "colab": {
          "base_uri": "https://localhost:8080/"
        },
        "id": "4gAkn9FrGnT5",
        "outputId": "2e556c62-fcfe-49a3-aa87-fa4a0de28149"
      },
      "execution_count": null,
      "outputs": [
        {
          "output_type": "execute_result",
          "data": {
            "text/plain": [
              "558"
            ]
          },
          "metadata": {},
          "execution_count": 73
        }
      ]
    },
    {
      "cell_type": "code",
      "source": [
        "len(test_windows), len(test_labels)"
      ],
      "metadata": {
        "colab": {
          "base_uri": "https://localhost:8080/"
        },
        "id": "VsAqe8zfGzZc",
        "outputId": "a534cae4-e62b-4ab5-fd4c-d08f6dcfee0d"
      },
      "execution_count": null,
      "outputs": [
        {
          "output_type": "execute_result",
          "data": {
            "text/plain": [
              "(552, 552)"
            ]
          },
          "metadata": {},
          "execution_count": 74
        }
      ]
    },
    {
      "cell_type": "code",
      "source": [
        "plt.figure(figsize = (10,7))\n",
        "plot_time_series(X_test[-len(test_windows):], test_labels, start = 300)\n",
        "plot_time_series(X_test[-len(test_windows):], pred_2, start = 300, format = '-')"
      ],
      "metadata": {
        "colab": {
          "base_uri": "https://localhost:8080/",
          "height": 611
        },
        "id": "7hGVKIaSGUme",
        "outputId": "1f2e9bdc-915f-446e-eec7-9ecb7d90e5db"
      },
      "execution_count": null,
      "outputs": [
        {
          "output_type": "display_data",
          "data": {
            "text/plain": [
              "<Figure size 1000x700 with 1 Axes>"
            ],
            "image/png": "[encoded data removed]"
          },
          "metadata": {}
        }
      ]
    },
    {
      "cell_type": "markdown",
      "source": [
        "**model 3 Dense window 30 horizon 7**"
      ],
      "metadata": {
        "id": "HOzJJ69HI5o-"
      }
    },
    {
      "cell_type": "code",
      "source": [
        "full_windows, full_labels = make_windows(prices, window_size = 30, horizon = 7)"
      ],
      "metadata": {
        "id": "ZJbtPGg_GjZq"
      },
      "execution_count": null,
      "outputs": []
    },
    {
      "cell_type": "code",
      "source": [
        "full_windows[0].shape, full_labels[0].shape"
      ],
      "metadata": {
        "colab": {
          "base_uri": "https://localhost:8080/"
        },
        "id": "cOn9yrslJLK_",
        "outputId": "600c0d7f-e766-40dd-eabc-790c52e9a06f"
      },
      "execution_count": null,
      "outputs": [
        {
          "output_type": "execute_result",
          "data": {
            "text/plain": [
              "((30,), (7,))"
            ]
          },
          "metadata": {},
          "execution_count": 77
        }
      ]
    },
    {
      "cell_type": "code",
      "source": [
        "train_windows,test_windows, train_labels, test_labels = make_train_test_splits(full_windows, full_labels)"
      ],
      "metadata": {
        "colab": {
          "base_uri": "https://localhost:8080/"
        },
        "id": "xovMkLYrJN9K",
        "outputId": "989564a3-bd7a-48fa-80b8-43bd9bc9df7f"
      },
      "execution_count": null,
      "outputs": [
        {
          "output_type": "stream",
          "name": "stdout",
          "text": [
            "2200\n"
          ]
        }
      ]
    },
    {
      "cell_type": "code",
      "source": [
        "len(train_windows), len(test_windows),len(train_labels), len(test_labels)"
      ],
      "metadata": {
        "colab": {
          "base_uri": "https://localhost:8080/"
        },
        "id": "STzvEAaHJhSv",
        "outputId": "35c7d70f-2302-4f09-89bf-280b2a2fc3dc"
      },
      "execution_count": null,
      "outputs": [
        {
          "output_type": "execute_result",
          "data": {
            "text/plain": [
              "(2200, 551, 2200, 551)"
            ]
          },
          "metadata": {},
          "execution_count": 79
        }
      ]
    },
    {
      "cell_type": "code",
      "source": [
        "model_3 = Sequential([\n",
        "    layers.Dense(128, 'relu'),\n",
        "    layers.Dense(7)\n",
        "])\n",
        "\n",
        "model_3.compile(loss = 'mae',\n",
        "                optimizer = tf.keras.optimizers.Adam())\n",
        "\n",
        "model_3.fit(train_windows, train_labels, epochs = 100, batch_size = 128,\n",
        "            validation_data = (test_windows, test_labels),verbose = 0,\n",
        "            callbacks = [create_model_checkpoint('model_3_dense')])"
      ],
      "metadata": {
        "colab": {
          "base_uri": "https://localhost:8080/"
        },
        "id": "kP1NRJOkJq2K",
        "outputId": "c416bc17-b153-4533-fe87-866f24fafa90"
      },
      "execution_count": null,
      "outputs": [
        {
          "output_type": "stream",
          "name": "stdout",
          "text": [
            "model_experiments/model_3_dense.keras\n",
            "\n",
            "Epoch 1: val_loss improved from inf to 3040.38940, saving model to model_experiments/model_3_dense.keras\n",
            "\n",
            "Epoch 2: val_loss improved from 3040.38940 to 2610.02856, saving model to model_experiments/model_3_dense.keras\n",
            "\n",
            "Epoch 3: val_loss improved from 2610.02856 to 2189.17993, saving model to model_experiments/model_3_dense.keras\n",
            "\n",
            "Epoch 4: val_loss improved from 2189.17993 to 1822.45593, saving model to model_experiments/model_3_dense.keras\n",
            "\n",
            "Epoch 5: val_loss improved from 1822.45593 to 1674.67334, saving model to model_experiments/model_3_dense.keras\n",
            "\n",
            "Epoch 6: val_loss did not improve from 1674.67334\n",
            "\n",
            "Epoch 7: val_loss improved from 1674.67334 to 1649.66174, saving model to model_experiments/model_3_dense.keras\n",
            "\n",
            "Epoch 8: val_loss did not improve from 1649.66174\n",
            "\n",
            "Epoch 9: val_loss improved from 1649.66174 to 1590.13843, saving model to model_experiments/model_3_dense.keras\n",
            "\n",
            "Epoch 10: val_loss improved from 1590.13843 to 1589.75403, saving model to model_experiments/model_3_dense.keras\n",
            "\n",
            "Epoch 11: val_loss improved from 1589.75403 to 1587.43506, saving model to model_experiments/model_3_dense.keras\n",
            "\n",
            "Epoch 12: val_loss did not improve from 1587.43506\n",
            "\n",
            "Epoch 13: val_loss did not improve from 1587.43506\n",
            "\n",
            "Epoch 14: val_loss improved from 1587.43506 to 1506.05127, saving model to model_experiments/model_3_dense.keras\n",
            "\n",
            "Epoch 15: val_loss did not improve from 1506.05127\n",
            "\n",
            "Epoch 16: val_loss did not improve from 1506.05127\n",
            "\n",
            "Epoch 17: val_loss did not improve from 1506.05127\n",
            "\n",
            "Epoch 18: val_loss improved from 1506.05127 to 1453.72205, saving model to model_experiments/model_3_dense.keras\n",
            "\n",
            "Epoch 19: val_loss did not improve from 1453.72205\n",
            "\n",
            "Epoch 20: val_loss improved from 1453.72205 to 1430.44202, saving model to model_experiments/model_3_dense.keras\n",
            "\n",
            "Epoch 21: val_loss did not improve from 1430.44202\n",
            "\n",
            "Epoch 22: val_loss improved from 1430.44202 to 1423.21216, saving model to model_experiments/model_3_dense.keras\n",
            "\n",
            "Epoch 23: val_loss did not improve from 1423.21216\n",
            "\n",
            "Epoch 24: val_loss improved from 1423.21216 to 1401.00122, saving model to model_experiments/model_3_dense.keras\n",
            "\n",
            "Epoch 25: val_loss improved from 1401.00122 to 1385.21716, saving model to model_experiments/model_3_dense.keras\n",
            "\n",
            "Epoch 26: val_loss did not improve from 1385.21716\n",
            "\n",
            "Epoch 27: val_loss did not improve from 1385.21716\n",
            "\n",
            "Epoch 28: val_loss did not improve from 1385.21716\n",
            "\n",
            "Epoch 29: val_loss did not improve from 1385.21716\n",
            "\n",
            "Epoch 30: val_loss did not improve from 1385.21716\n",
            "\n",
            "Epoch 31: val_loss did not improve from 1385.21716\n",
            "\n",
            "Epoch 32: val_loss did not improve from 1385.21716\n",
            "\n",
            "Epoch 33: val_loss did not improve from 1385.21716\n",
            "\n",
            "Epoch 34: val_loss did not improve from 1385.21716\n",
            "\n",
            "Epoch 35: val_loss improved from 1385.21716 to 1348.03979, saving model to model_experiments/model_3_dense.keras\n",
            "\n",
            "Epoch 36: val_loss did not improve from 1348.03979\n",
            "\n",
            "Epoch 37: val_loss did not improve from 1348.03979\n",
            "\n",
            "Epoch 38: val_loss did not improve from 1348.03979\n",
            "\n",
            "Epoch 39: val_loss improved from 1348.03979 to 1322.95715, saving model to model_experiments/model_3_dense.keras\n",
            "\n",
            "Epoch 40: val_loss did not improve from 1322.95715\n",
            "\n",
            "Epoch 41: val_loss improved from 1322.95715 to 1313.41736, saving model to model_experiments/model_3_dense.keras\n",
            "\n",
            "Epoch 42: val_loss did not improve from 1313.41736\n",
            "\n",
            "Epoch 43: val_loss did not improve from 1313.41736\n",
            "\n",
            "Epoch 44: val_loss did not improve from 1313.41736\n",
            "\n",
            "Epoch 45: val_loss did not improve from 1313.41736\n",
            "\n",
            "Epoch 46: val_loss did not improve from 1313.41736\n",
            "\n",
            "Epoch 47: val_loss did not improve from 1313.41736\n",
            "\n",
            "Epoch 48: val_loss did not improve from 1313.41736\n",
            "\n",
            "Epoch 49: val_loss did not improve from 1313.41736\n",
            "\n",
            "Epoch 50: val_loss improved from 1313.41736 to 1307.50024, saving model to model_experiments/model_3_dense.keras\n",
            "\n",
            "Epoch 51: val_loss did not improve from 1307.50024\n",
            "\n",
            "Epoch 52: val_loss did not improve from 1307.50024\n",
            "\n",
            "Epoch 53: val_loss did not improve from 1307.50024\n",
            "\n",
            "Epoch 54: val_loss did not improve from 1307.50024\n",
            "\n",
            "Epoch 55: val_loss did not improve from 1307.50024\n",
            "\n",
            "Epoch 56: val_loss did not improve from 1307.50024\n",
            "\n",
            "Epoch 57: val_loss improved from 1307.50024 to 1269.79822, saving model to model_experiments/model_3_dense.keras\n",
            "\n",
            "Epoch 58: val_loss did not improve from 1269.79822\n",
            "\n",
            "Epoch 59: val_loss did not improve from 1269.79822\n",
            "\n",
            "Epoch 60: val_loss did not improve from 1269.79822\n",
            "\n",
            "Epoch 61: val_loss did not improve from 1269.79822\n",
            "\n",
            "Epoch 62: val_loss did not improve from 1269.79822\n",
            "\n",
            "Epoch 63: val_loss did not improve from 1269.79822\n",
            "\n",
            "Epoch 64: val_loss did not improve from 1269.79822\n",
            "\n",
            "Epoch 65: val_loss did not improve from 1269.79822\n",
            "\n",
            "Epoch 66: val_loss did not improve from 1269.79822\n",
            "\n",
            "Epoch 67: val_loss did not improve from 1269.79822\n",
            "\n",
            "Epoch 68: val_loss improved from 1269.79822 to 1254.12549, saving model to model_experiments/model_3_dense.keras\n",
            "\n",
            "Epoch 69: val_loss did not improve from 1254.12549\n",
            "\n",
            "Epoch 70: val_loss did not improve from 1254.12549\n",
            "\n",
            "Epoch 71: val_loss did not improve from 1254.12549\n",
            "\n",
            "Epoch 72: val_loss did not improve from 1254.12549\n",
            "\n",
            "Epoch 73: val_loss did not improve from 1254.12549\n",
            "\n",
            "Epoch 74: val_loss did not improve from 1254.12549\n",
            "\n",
            "Epoch 75: val_loss did not improve from 1254.12549\n",
            "\n",
            "Epoch 76: val_loss did not improve from 1254.12549\n",
            "\n",
            "Epoch 77: val_loss did not improve from 1254.12549\n",
            "\n",
            "Epoch 78: val_loss did not improve from 1254.12549\n",
            "\n",
            "Epoch 79: val_loss did not improve from 1254.12549\n",
            "\n",
            "Epoch 80: val_loss did not improve from 1254.12549\n",
            "\n",
            "Epoch 81: val_loss did not improve from 1254.12549\n",
            "\n",
            "Epoch 82: val_loss did not improve from 1254.12549\n",
            "\n",
            "Epoch 83: val_loss did not improve from 1254.12549\n",
            "\n",
            "Epoch 84: val_loss improved from 1254.12549 to 1251.50928, saving model to model_experiments/model_3_dense.keras\n",
            "\n",
            "Epoch 85: val_loss did not improve from 1251.50928\n",
            "\n",
            "Epoch 86: val_loss did not improve from 1251.50928\n",
            "\n",
            "Epoch 87: val_loss did not improve from 1251.50928\n",
            "\n",
            "Epoch 88: val_loss did not improve from 1251.50928\n",
            "\n",
            "Epoch 89: val_loss did not improve from 1251.50928\n",
            "\n",
            "Epoch 90: val_loss did not improve from 1251.50928\n",
            "\n",
            "Epoch 91: val_loss did not improve from 1251.50928\n",
            "\n",
            "Epoch 92: val_loss did not improve from 1251.50928\n",
            "\n",
            "Epoch 93: val_loss improved from 1251.50928 to 1238.65686, saving model to model_experiments/model_3_dense.keras\n",
            "\n",
            "Epoch 94: val_loss improved from 1238.65686 to 1223.54102, saving model to model_experiments/model_3_dense.keras\n",
            "\n",
            "Epoch 95: val_loss did not improve from 1223.54102\n",
            "\n",
            "Epoch 96: val_loss did not improve from 1223.54102\n",
            "\n",
            "Epoch 97: val_loss did not improve from 1223.54102\n",
            "\n",
            "Epoch 98: val_loss did not improve from 1223.54102\n",
            "\n",
            "Epoch 99: val_loss did not improve from 1223.54102\n",
            "\n",
            "Epoch 100: val_loss did not improve from 1223.54102\n"
          ]
        },
        {
          "output_type": "execute_result",
          "data": {
            "text/plain": [
              "<keras.src.callbacks.history.History at 0x77fd37075b40>"
            ]
          },
          "metadata": {},
          "execution_count": 80
        }
      ]
    },
    {
      "cell_type": "code",
      "source": [
        "model_3.evaluate(test_windows, test_labels)"
      ],
      "metadata": {
        "colab": {
          "base_uri": "https://localhost:8080/"
        },
        "id": "E5tX_qErKRy4",
        "outputId": "8247351f-6ea3-4fb0-e167-8aed5ac0b44b"
      },
      "execution_count": null,
      "outputs": [
        {
          "output_type": "stream",
          "name": "stdout",
          "text": [
            "\u001b[1m18/18\u001b[0m \u001b[32m━━━━━━━━━━━━━━━━━━━━\u001b[0m\u001b[37m\u001b[0m \u001b[1m0s\u001b[0m 1ms/step - loss: 628.5337 \n"
          ]
        },
        {
          "output_type": "execute_result",
          "data": {
            "text/plain": [
              "1253.34912109375"
            ]
          },
          "metadata": {},
          "execution_count": 81
        }
      ]
    },
    {
      "cell_type": "code",
      "source": [
        "model_3 = tf.keras.models.load_model(\"/content/model_experiments/model_3_dense.keras\")"
      ],
      "metadata": {
        "id": "DulJc9PIKymN"
      },
      "execution_count": null,
      "outputs": []
    },
    {
      "cell_type": "code",
      "source": [
        "model_3.evaluate(test_windows, test_labels)"
      ],
      "metadata": {
        "colab": {
          "base_uri": "https://localhost:8080/"
        },
        "id": "Ody29d3UK9sF",
        "outputId": "2139268a-0edf-4807-a67e-d99e11cbef48"
      },
      "execution_count": null,
      "outputs": [
        {
          "output_type": "stream",
          "name": "stdout",
          "text": [
            "\u001b[1m18/18\u001b[0m \u001b[32m━━━━━━━━━━━━━━━━━━━━\u001b[0m\u001b[37m\u001b[0m \u001b[1m0s\u001b[0m 1ms/step - loss: 627.2616 \n"
          ]
        },
        {
          "output_type": "execute_result",
          "data": {
            "text/plain": [
              "1223.541015625"
            ]
          },
          "metadata": {},
          "execution_count": 83
        }
      ]
    },
    {
      "cell_type": "code",
      "source": [
        "model_3_preds = make_preds(model_3,test_windows)"
      ],
      "metadata": {
        "colab": {
          "base_uri": "https://localhost:8080/"
        },
        "id": "b92Pk3wHLCNM",
        "outputId": "d43357d0-6008-47c7-e933-47827b92f98f"
      },
      "execution_count": null,
      "outputs": [
        {
          "output_type": "stream",
          "name": "stdout",
          "text": [
            "\u001b[1m18/18\u001b[0m \u001b[32m━━━━━━━━━━━━━━━━━━━━\u001b[0m\u001b[37m\u001b[0m \u001b[1m0s\u001b[0m 3ms/step \n"
          ]
        }
      ]
    },
    {
      "cell_type": "code",
      "source": [
        "model_3_preds.shape"
      ],
      "metadata": {
        "colab": {
          "base_uri": "https://localhost:8080/"
        },
        "id": "N1g2MsMlMbm1",
        "outputId": "e0cf43e5-e4c6-4839-db88-b6a9b5faf133"
      },
      "execution_count": null,
      "outputs": [
        {
          "output_type": "execute_result",
          "data": {
            "text/plain": [
              "TensorShape([551, 7])"
            ]
          },
          "metadata": {},
          "execution_count": 85
        }
      ]
    },
    {
      "cell_type": "code",
      "source": [
        "tf.squeeze(test_labels).shape"
      ],
      "metadata": {
        "colab": {
          "base_uri": "https://localhost:8080/"
        },
        "id": "wHKxo7mvMeHf",
        "outputId": "ee7ced15-af6e-4950-d143-c79ac1a63f09"
      },
      "execution_count": null,
      "outputs": [
        {
          "output_type": "execute_result",
          "data": {
            "text/plain": [
              "TensorShape([551, 7])"
            ]
          },
          "metadata": {},
          "execution_count": 86
        }
      ]
    },
    {
      "cell_type": "code",
      "source": [
        "model_3_results = evaluate_preds(tf.squeeze(test_labels), model_3_preds)\n",
        "model_3_results"
      ],
      "metadata": {
        "colab": {
          "base_uri": "https://localhost:8080/"
        },
        "id": "_dQCqCTMLQTC",
        "outputId": "8868cd33-babc-4820-8533-d70978ac93ac"
      },
      "execution_count": null,
      "outputs": [
        {
          "output_type": "execute_result",
          "data": {
            "text/plain": [
              "{'mae': 1223.541,\n",
              " 'mse': 5409584.0,\n",
              " 'rmse': 2325.8513,\n",
              " 'mape': 5.575258,\n",
              " 'mase': 2.1772227}"
            ]
          },
          "metadata": {},
          "execution_count": 87
        }
      ]
    },
    {
      "cell_type": "code",
      "source": [
        "k = 300\n",
        "plt.figure(figsize=(10,7))\n",
        "plot_time_series(X_test[-len(test_windows):], test_labels[:,0], start = 300, label = 'Test_data')\n",
        "plot_time_series(X_test[-len(test_labels):], model_3_preds, start = k, format = '-', label = 'model3_preds')"
      ],
      "metadata": {
        "colab": {
          "base_uri": "https://localhost:8080/",
          "height": 611
        },
        "id": "uP0mpGtOLb-l",
        "outputId": "7b66628d-0456-4b3e-9ec4-819810c13582"
      },
      "execution_count": null,
      "outputs": [
        {
          "output_type": "display_data",
          "data": {
            "text/plain": [
              "<Figure size 1000x700 with 1 Axes>"
            ],
            "image/png": "[encoded data removed]"
          },
          "metadata": {}
        }
      ]
    },
    {
      "cell_type": "code",
      "source": [
        "k = 300\n",
        "plt.figure(figsize=(10,7))\n",
        "plot_time_series(X_test[-len(test_windows):], test_labels[:,0], start = 300, label = 'Test_data')\n",
        "plot_time_series(X_test[-len(test_labels):], model_3_preds[:,0], start = k, format = '-', label = 'model3_preds')"
      ],
      "metadata": {
        "colab": {
          "base_uri": "https://localhost:8080/",
          "height": 611
        },
        "id": "Hpfj0irrLs94",
        "outputId": "85b30d84-103c-4aea-a84e-bb954a134f60"
      },
      "execution_count": null,
      "outputs": [
        {
          "output_type": "display_data",
          "data": {
            "text/plain": [
              "<Figure size 1000x700 with 1 Axes>"
            ],
            "image/png": "[encoded data removed]"
          },
          "metadata": {}
        }
      ]
    },
    {
      "cell_type": "code",
      "source": [
        "model1_results['mae']"
      ],
      "metadata": {
        "colab": {
          "base_uri": "https://localhost:8080/"
        },
        "id": "GbXdFrunZgtG",
        "outputId": "001a80bc-8d54-4f0c-f77b-f33ee42d5e88"
      },
      "execution_count": null,
      "outputs": [
        {
          "output_type": "execute_result",
          "data": {
            "text/plain": [
              "569.62195"
            ]
          },
          "metadata": {},
          "execution_count": 90
        }
      ]
    },
    {
      "cell_type": "code",
      "source": [
        "model_maes = {\n",
        "    'naive': naive_results['mae'],\n",
        "    'm1': model1_results['mae'],\n",
        "    'm2': model_2_results['mae'],\n",
        "    'm3': model_3_results['mae']\n",
        "}"
      ],
      "metadata": {
        "id": "XwB-PxZfRnaE"
      },
      "execution_count": null,
      "outputs": []
    },
    {
      "cell_type": "code",
      "source": [],
      "metadata": {
        "id": "MjIU_O7fauSh"
      },
      "execution_count": null,
      "outputs": []
    },
    {
      "cell_type": "code",
      "source": [
        "results = pd.DataFrame([model_maes],index=['mae'])\n"
      ],
      "metadata": {
        "id": "xNPrD0qeZfax"
      },
      "execution_count": null,
      "outputs": []
    },
    {
      "cell_type": "code",
      "source": [
        "results"
      ],
      "metadata": {
        "colab": {
          "base_uri": "https://localhost:8080/",
          "height": 89
        },
        "id": "hS5Tff9caSg2",
        "outputId": "2658aabd-4181-431f-d697-45dd12c0869d"
      },
      "execution_count": null,
      "outputs": [
        {
          "output_type": "execute_result",
          "data": {
            "text/plain": [
              "          naive          m1          m2           m3\n",
              "mae  567.980225  569.621948  603.813049  1223.541016"
            ],
            "text/html": [
              "\n",
              "  <div id=\"df-62e06539-1d28-49ef-85f5-aae52d5c8be5\" class=\"colab-df-container\">\n",
              "    <div>\n",
              "<style scoped>\n",
              "    .dataframe tbody tr th:only-of-type {\n",
              "        vertical-align: middle;\n",
              "    }\n",
              "\n",
              "    .dataframe tbody tr th {\n",
              "        vertical-align: top;\n",
              "    }\n",
              "\n",
              "    .dataframe thead th {\n",
              "        text-align: right;\n",
              "    }\n",
              "</style>\n",
              "<table border=\"1\" class=\"dataframe\">\n",
              "  <thead>\n",
              "    <tr style=\"text-align: right;\">\n",
              "      <th></th>\n",
              "      <th>naive</th>\n",
              "      <th>m1</th>\n",
              "      <th>m2</th>\n",
              "      <th>m3</th>\n",
              "    </tr>\n",
              "  </thead>\n",
              "  <tbody>\n",
              "    <tr>\n",
              "      <th>mae</th>\n",
              "      <td>567.980225</td>\n",
              "      <td>569.621948</td>\n",
              "      <td>603.813049</td>\n",
              "      <td>1223.541016</td>\n",
              "    </tr>\n",
              "  </tbody>\n",
              "</table>\n",
              "</div>\n",
              "    <div class=\"colab-df-buttons\">\n",
              "\n",
              "  <div class=\"colab-df-container\">\n",
              "    <button class=\"colab-df-convert\" onclick=\"convertToInteractive('df-62e06539-1d28-49ef-85f5-aae52d5c8be5')\"\n",
              "            title=\"Convert this dataframe to an interactive table.\"\n",
              "            style=\"display:none;\">\n",
              "\n",
              "  <svg xmlns=\"http://www.w3.org/2000/svg\" height=\"24px\" viewBox=\"0 -960 960 960\">\n",
              "    <path d=\"M120-120v-720h720v720H120Zm60-500h600v-160H180v160Zm220 220h160v-160H400v160Zm0 220h160v-160H400v160ZM180-400h160v-160H180v160Zm440 0h160v-160H620v160ZM180-180h160v-160H180v160Zm440 0h160v-160H620v160Z\"/>\n",
              "  </svg>\n",
              "    </button>\n",
              "\n",
              "  <style>\n",
              "    .colab-df-container {\n",
              "      display:flex;\n",
              "      gap: 12px;\n",
              "    }\n",
              "\n",
              "    .colab-df-convert {\n",
              "      background-color: #E8F0FE;\n",
              "      border: none;\n",
              "      border-radius: 50%;\n",
              "      cursor: pointer;\n",
              "      display: none;\n",
              "      fill: #1967D2;\n",
              "      height: 32px;\n",
              "      padding: 0 0 0 0;\n",
              "      width: 32px;\n",
              "    }\n",
              "\n",
              "    .colab-df-convert:hover {\n",
              "      background-color: #E2EBFA;\n",
              "      box-shadow: 0px 1px 2px rgba(60, 64, 67, 0.3), 0px 1px 3px 1px rgba(60, 64, 67, 0.15);\n",
              "      fill: #174EA6;\n",
              "    }\n",
              "\n",
              "    .colab-df-buttons div {\n",
              "      margin-bottom: 4px;\n",
              "    }\n",
              "\n",
              "    [theme=dark] .colab-df-convert {\n",
              "      background-color: #3B4455;\n",
              "      fill: #D2E3FC;\n",
              "    }\n",
              "\n",
              "    [theme=dark] .colab-df-convert:hover {\n",
              "      background-color: #434B5C;\n",
              "      box-shadow: 0px 1px 3px 1px rgba(0, 0, 0, 0.15);\n",
              "      filter: drop-shadow(0px 1px 2px rgba(0, 0, 0, 0.3));\n",
              "      fill: #FFFFFF;\n",
              "    }\n",
              "  </style>\n",
              "\n",
              "    <script>\n",
              "      const buttonEl =\n",
              "        document.querySelector('#df-62e06539-1d28-49ef-85f5-aae52d5c8be5 button.colab-df-convert');\n",
              "      buttonEl.style.display =\n",
              "        google.colab.kernel.accessAllowed ? 'block' : 'none';\n",
              "\n",
              "      async function convertToInteractive(key) {\n",
              "        const element = document.querySelector('#df-62e06539-1d28-49ef-85f5-aae52d5c8be5');\n",
              "        const dataTable =\n",
              "          await google.colab.kernel.invokeFunction('convertToInteractive',\n",
              "                                                    [key], {});\n",
              "        if (!dataTable) return;\n",
              "\n",
              "        const docLinkHtml = 'Like what you see? Visit the ' +\n",
              "          '<a target=\"_blank\" href=https://colab.research.google.com/notebooks/data_table.ipynb>data table notebook</a>'\n",
              "          + ' to learn more about interactive tables.';\n",
              "        element.innerHTML = '';\n",
              "        dataTable['output_type'] = 'display_data';\n",
              "        await google.colab.output.renderOutput(dataTable, element);\n",
              "        const docLink = document.createElement('div');\n",
              "        docLink.innerHTML = docLinkHtml;\n",
              "        element.appendChild(docLink);\n",
              "      }\n",
              "    </script>\n",
              "  </div>\n",
              "\n",
              "\n",
              "  <div id=\"id_1cbd08d8-0871-4aac-b47e-7a161b1db097\">\n",
              "    <style>\n",
              "      .colab-df-generate {\n",
              "        background-color: #E8F0FE;\n",
              "        border: none;\n",
              "        border-radius: 50%;\n",
              "        cursor: pointer;\n",
              "        display: none;\n",
              "        fill: #1967D2;\n",
              "        height: 32px;\n",
              "        padding: 0 0 0 0;\n",
              "        width: 32px;\n",
              "      }\n",
              "\n",
              "      .colab-df-generate:hover {\n",
              "        background-color: #E2EBFA;\n",
              "        box-shadow: 0px 1px 2px rgba(60, 64, 67, 0.3), 0px 1px 3px 1px rgba(60, 64, 67, 0.15);\n",
              "        fill: #174EA6;\n",
              "      }\n",
              "\n",
              "      [theme=dark] .colab-df-generate {\n",
              "        background-color: #3B4455;\n",
              "        fill: #D2E3FC;\n",
              "      }\n",
              "\n",
              "      [theme=dark] .colab-df-generate:hover {\n",
              "        background-color: #434B5C;\n",
              "        box-shadow: 0px 1px 3px 1px rgba(0, 0, 0, 0.15);\n",
              "        filter: drop-shadow(0px 1px 2px rgba(0, 0, 0, 0.3));\n",
              "        fill: #FFFFFF;\n",
              "      }\n",
              "    </style>\n",
              "    <button class=\"colab-df-generate\" onclick=\"generateWithVariable('results')\"\n",
              "            title=\"Generate code using this dataframe.\"\n",
              "            style=\"display:none;\">\n",
              "\n",
              "  <svg xmlns=\"http://www.w3.org/2000/svg\" height=\"24px\"viewBox=\"0 0 24 24\"\n",
              "       width=\"24px\">\n",
              "    <path d=\"M7,19H8.4L18.45,9,17,7.55,7,17.6ZM5,21V16.75L18.45,3.32a2,2,0,0,1,2.83,0l1.4,1.43a1.91,1.91,0,0,1,.58,1.4,1.91,1.91,0,0,1-.58,1.4L9.25,21ZM18.45,9,17,7.55Zm-12,3A5.31,5.31,0,0,0,4.9,8.1,5.31,5.31,0,0,0,1,6.5,5.31,5.31,0,0,0,4.9,4.9,5.31,5.31,0,0,0,6.5,1,5.31,5.31,0,0,0,8.1,4.9,5.31,5.31,0,0,0,12,6.5,5.46,5.46,0,0,0,6.5,12Z\"/>\n",
              "  </svg>\n",
              "    </button>\n",
              "    <script>\n",
              "      (() => {\n",
              "      const buttonEl =\n",
              "        document.querySelector('#id_1cbd08d8-0871-4aac-b47e-7a161b1db097 button.colab-df-generate');\n",
              "      buttonEl.style.display =\n",
              "        google.colab.kernel.accessAllowed ? 'block' : 'none';\n",
              "\n",
              "      buttonEl.onclick = () => {\n",
              "        google.colab.notebook.generateWithVariable('results');\n",
              "      }\n",
              "      })();\n",
              "    </script>\n",
              "  </div>\n",
              "\n",
              "    </div>\n",
              "  </div>\n"
            ],
            "application/vnd.google.colaboratory.intrinsic+json": {
              "type": "dataframe",
              "variable_name": "results",
              "summary": "{\n  \"name\": \"results\",\n  \"rows\": 1,\n  \"fields\": [\n    {\n      \"column\": \"naive\",\n      \"properties\": {\n        \"dtype\": \"float32\",\n        \"num_unique_values\": 1,\n        \"samples\": [\n          567.980224609375\n        ],\n        \"semantic_type\": \"\",\n        \"description\": \"\"\n      }\n    },\n    {\n      \"column\": \"m1\",\n      \"properties\": {\n        \"dtype\": \"float32\",\n        \"num_unique_values\": 1,\n        \"samples\": [\n          569.6219482421875\n        ],\n        \"semantic_type\": \"\",\n        \"description\": \"\"\n      }\n    },\n    {\n      \"column\": \"m2\",\n      \"properties\": {\n        \"dtype\": \"float32\",\n        \"num_unique_values\": 1,\n        \"samples\": [\n          603.8130493164062\n        ],\n        \"semantic_type\": \"\",\n        \"description\": \"\"\n      }\n    },\n    {\n      \"column\": \"m3\",\n      \"properties\": {\n        \"dtype\": \"float32\",\n        \"num_unique_values\": 1,\n        \"samples\": [\n          1223.541015625\n        ],\n        \"semantic_type\": \"\",\n        \"description\": \"\"\n      }\n    }\n  ]\n}"
            }
          },
          "metadata": {},
          "execution_count": 93
        }
      ]
    },
    {
      "cell_type": "code",
      "source": [
        "results.plot(kind = 'bar')"
      ],
      "metadata": {
        "colab": {
          "base_uri": "https://localhost:8080/",
          "height": 463
        },
        "id": "U6sJwk9HbCHz",
        "outputId": "149b2047-2236-412a-e233-9b6c480d6877"
      },
      "execution_count": null,
      "outputs": [
        {
          "output_type": "execute_result",
          "data": {
            "text/plain": [
              "<Axes: >"
            ]
          },
          "metadata": {},
          "execution_count": 94
        },
        {
          "output_type": "display_data",
          "data": {
            "text/plain": [
              "<Figure size 640x480 with 1 Axes>"
            ],
            "image/png": "[encoded data removed]"
          },
          "metadata": {}
        }
      ]
    },
    {
      "cell_type": "code",
      "source": [],
      "metadata": {
        "id": "atzlWdGZbOSw"
      },
      "execution_count": null,
      "outputs": []
    }
  ]
}